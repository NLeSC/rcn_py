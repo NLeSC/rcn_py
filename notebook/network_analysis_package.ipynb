{
 "cells": [
  {
   "cell_type": "code",
   "execution_count": 1,
   "id": "17084bd9",
   "metadata": {},
   "outputs": [],
   "source": [
    "from network_analysis import scopus"
   ]
  },
  {
   "cell_type": "code",
   "execution_count": 2,
   "id": "025e35e5",
   "metadata": {},
   "outputs": [
    {
     "name": "stdout",
     "output_type": "stream",
     "text": [
      "Local cdn resources have problems on chrome/safari when used in jupyter-notebook. \n"
     ]
    }
   ],
   "source": [
    "scopus.get_coauthor(\"Bart\",\"Schilperoort\",0)"
   ]
  },
  {
   "cell_type": "code",
   "execution_count": null,
   "id": "ff422598",
   "metadata": {},
   "outputs": [],
   "source": []
  }
 ],
 "metadata": {
  "kernelspec": {
   "display_name": "Python 3 (ipykernel)",
   "language": "python",
   "name": "python3"
  },
  "language_info": {
   "codemirror_mode": {
    "name": "ipython",
    "version": 3
   },
   "file_extension": ".py",
   "mimetype": "text/x-python",
   "name": "python",
   "nbconvert_exporter": "python",
   "pygments_lexer": "ipython3",
   "version": "3.9.13"
  }
 },
 "nbformat": 4,
 "nbformat_minor": 5
}
