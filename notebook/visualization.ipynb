{
 "cells": [
  {
   "attachments": {},
   "cell_type": "markdown",
   "metadata": {},
   "source": [
    "## Pyvis, Gephi"
   ]
  },
  {
   "cell_type": "code",
   "execution_count": 3,
   "metadata": {},
   "outputs": [],
   "source": [
    "import sys\n",
    "sys.path.append(\"..\")\n",
    "from rcn_py import visual"
   ]
  },
  {
   "cell_type": "code",
   "execution_count": 26,
   "metadata": {},
   "outputs": [
    {
     "name": "stderr",
     "output_type": "stream",
     "text": [
      "/Users/jennifer/RCSNA/rcn-py/notebook/../rcn_py/data_storage.py:206: SettingWithCopyWarning: \n",
      "A value is trying to be set on a copy of a slice from a DataFrame\n",
      "\n",
      "See the caveats in the documentation: https://pandas.pydata.org/pandas-docs/stable/user_guide/indexing.html#returning-a-view-versus-a-copy\n",
      "  authors_orcid[i] = authors_orcid[i].strip('[')\n",
      "/Users/jennifer/RCSNA/rcn-py/notebook/../rcn_py/data_storage.py:207: SettingWithCopyWarning: \n",
      "A value is trying to be set on a copy of a slice from a DataFrame\n",
      "\n",
      "See the caveats in the documentation: https://pandas.pydata.org/pandas-docs/stable/user_guide/indexing.html#returning-a-view-versus-a-copy\n",
      "  authors_orcid[i] = authors_orcid[i].strip(']')\n",
      "/Users/jennifer/RCSNA/rcn-py/notebook/../rcn_py/data_storage.py:208: SettingWithCopyWarning: \n",
      "A value is trying to be set on a copy of a slice from a DataFrame\n",
      "\n",
      "See the caveats in the documentation: https://pandas.pydata.org/pandas-docs/stable/user_guide/indexing.html#returning-a-view-versus-a-copy\n",
      "  authors_orcid[i] = authors_orcid[i].split(',')\n",
      "/Users/jennifer/RCSNA/rcn-py/notebook/../rcn_py/data_storage.py:209: SettingWithCopyWarning: \n",
      "A value is trying to be set on a copy of a slice from a DataFrame\n",
      "\n",
      "See the caveats in the documentation: https://pandas.pydata.org/pandas-docs/stable/user_guide/indexing.html#returning-a-view-versus-a-copy\n",
      "  authors_name[i] = authors_name[i].strip('[')\n",
      "/Users/jennifer/RCSNA/rcn-py/notebook/../rcn_py/data_storage.py:210: SettingWithCopyWarning: \n",
      "A value is trying to be set on a copy of a slice from a DataFrame\n",
      "\n",
      "See the caveats in the documentation: https://pandas.pydata.org/pandas-docs/stable/user_guide/indexing.html#returning-a-view-versus-a-copy\n",
      "  authors_name[i] = authors_name[i].strip(']')\n",
      "/Users/jennifer/RCSNA/rcn-py/notebook/../rcn_py/data_storage.py:211: SettingWithCopyWarning: \n",
      "A value is trying to be set on a copy of a slice from a DataFrame\n",
      "\n",
      "See the caveats in the documentation: https://pandas.pydata.org/pandas-docs/stable/user_guide/indexing.html#returning-a-view-versus-a-copy\n",
      "  authors_name[i] = authors_name[i].split(',')\n"
     ]
    }
   ],
   "source": [
    "visual.pyvis_network_by_datafile('Stefan Verhoeven', \"/Users/jennifer/RCSNA/data\", \"/Users/jennifer/RCSNA/visualization\")"
   ]
  },
  {
   "cell_type": "code",
   "execution_count": 4,
   "metadata": {},
   "outputs": [
    {
     "name": "stderr",
     "output_type": "stream",
     "text": [
      "/Users/jennifer/RCSNA/rcn-py/notebook/../rcn_py/data_storage.py:206: SettingWithCopyWarning: \n",
      "A value is trying to be set on a copy of a slice from a DataFrame\n",
      "\n",
      "See the caveats in the documentation: https://pandas.pydata.org/pandas-docs/stable/user_guide/indexing.html#returning-a-view-versus-a-copy\n",
      "  authors_orcid[i] = authors_orcid[i].strip('[')\n",
      "/Users/jennifer/RCSNA/rcn-py/notebook/../rcn_py/data_storage.py:207: SettingWithCopyWarning: \n",
      "A value is trying to be set on a copy of a slice from a DataFrame\n",
      "\n",
      "See the caveats in the documentation: https://pandas.pydata.org/pandas-docs/stable/user_guide/indexing.html#returning-a-view-versus-a-copy\n",
      "  authors_orcid[i] = authors_orcid[i].strip(']')\n",
      "/Users/jennifer/RCSNA/rcn-py/notebook/../rcn_py/data_storage.py:208: SettingWithCopyWarning: \n",
      "A value is trying to be set on a copy of a slice from a DataFrame\n",
      "\n",
      "See the caveats in the documentation: https://pandas.pydata.org/pandas-docs/stable/user_guide/indexing.html#returning-a-view-versus-a-copy\n",
      "  authors_orcid[i] = authors_orcid[i].split(',')\n",
      "/Users/jennifer/RCSNA/rcn-py/notebook/../rcn_py/data_storage.py:209: SettingWithCopyWarning: \n",
      "A value is trying to be set on a copy of a slice from a DataFrame\n",
      "\n",
      "See the caveats in the documentation: https://pandas.pydata.org/pandas-docs/stable/user_guide/indexing.html#returning-a-view-versus-a-copy\n",
      "  authors_name[i] = authors_name[i].strip('[')\n",
      "/Users/jennifer/RCSNA/rcn-py/notebook/../rcn_py/data_storage.py:210: SettingWithCopyWarning: \n",
      "A value is trying to be set on a copy of a slice from a DataFrame\n",
      "\n",
      "See the caveats in the documentation: https://pandas.pydata.org/pandas-docs/stable/user_guide/indexing.html#returning-a-view-versus-a-copy\n",
      "  authors_name[i] = authors_name[i].strip(']')\n",
      "/Users/jennifer/RCSNA/rcn-py/notebook/../rcn_py/data_storage.py:211: SettingWithCopyWarning: \n",
      "A value is trying to be set on a copy of a slice from a DataFrame\n",
      "\n",
      "See the caveats in the documentation: https://pandas.pydata.org/pandas-docs/stable/user_guide/indexing.html#returning-a-view-versus-a-copy\n",
      "  authors_name[i] = authors_name[i].split(',')\n"
     ]
    }
   ],
   "source": [
    "visual.gephi_network_by_datafile('Stefan Verhoeven', \"/Users/jennifer/RCSNA/data\", \"/Users/jennifer/RCSNA/visualization\")"
   ]
  },
  {
   "attachments": {},
   "cell_type": "markdown",
   "metadata": {},
   "source": [
    "## Neo4j to D3"
   ]
  },
  {
   "cell_type": "code",
   "execution_count": 2,
   "metadata": {},
   "outputs": [],
   "source": [
    "from json import dumps\n",
    "import logging\n",
    "import os\n",
    "from flask import (\n",
    "    Flask,\n",
    "    g,\n",
    "    request,\n",
    "    Response,\n",
    ")\n",
    "from neo4j import (\n",
    "    GraphDatabase,\n",
    "    basic_auth,\n",
    ")"
   ]
  },
  {
   "cell_type": "code",
   "execution_count": 5,
   "metadata": {},
   "outputs": [],
   "source": [
    "uri = \"bolt://localhost:7687\"\n",
    "username = \"neo4j\"\n",
    "password = \"zhiningbai\""
   ]
  },
  {
   "cell_type": "code",
   "execution_count": 8,
   "metadata": {},
   "outputs": [],
   "source": [
    "# app = Flask(__name__, static_url_path=\"/static/\")\n",
    "\n",
    "url = os.getenv(\"NEO4J_URI\", uri)\n",
    "# username = os.getenv(\"NEO4J_USER\", \"movies\")\n",
    "# password = os.getenv(\"NEO4J_PASSWORD\", \"movies\")\n",
    "neo4j_version = os.getenv(\"NEO4J_VERSION\", \"4\")\n",
    "database = os.getenv(\"NEO4J_DATABASE\", \"RCN DB\")\n",
    "\n",
    "# port = os.getenv(\"PORT\", 8080)\n",
    "\n",
    "driver = GraphDatabase.driver(url, auth=basic_auth(username, password))"
   ]
  },
  {
   "cell_type": "code",
   "execution_count": null,
   "metadata": {},
   "outputs": [],
   "source": [
    "def get_db():\n",
    "    if not hasattr(g, \"neo4j_db\"):\n",
    "        if neo4j_version >= \"4\":\n",
    "            g.neo4j_db = driver.session(database=database)\n",
    "        else:\n",
    "            g.neo4j_db = driver.session()\n",
    "    return g.neo4j_db\n",
    "\n",
    "def close_db(error):\n",
    "    if hasattr(g, \"neo4j_db\"):\n",
    "        g.neo4j_db.close()"
   ]
  },
  {
   "cell_type": "code",
   "execution_count": null,
   "metadata": {},
   "outputs": [],
   "source": []
  }
 ],
 "metadata": {
  "kernelspec": {
   "display_name": "base",
   "language": "python",
   "name": "python3"
  },
  "language_info": {
   "codemirror_mode": {
    "name": "ipython",
    "version": 3
   },
   "file_extension": ".py",
   "mimetype": "text/x-python",
   "name": "python",
   "nbconvert_exporter": "python",
   "pygments_lexer": "ipython3",
   "version": "3.9.13"
  },
  "orig_nbformat": 4,
  "vscode": {
   "interpreter": {
    "hash": "78d178f77aa2234760f0004d20edde8d97d9d6aae15b3a03389e75a39bac3a7d"
   }
  }
 },
 "nbformat": 4,
 "nbformat_minor": 2
}
