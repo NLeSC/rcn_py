{
 "cells": [
  {
   "attachments": {},
   "cell_type": "markdown",
   "metadata": {},
   "source": [
    "## Pyvis, Gephi"
   ]
  },
  {
   "cell_type": "code",
   "execution_count": 3,
   "metadata": {},
   "outputs": [],
   "source": [
    "import sys\n",
    "sys.path.append(\"..\")\n",
    "from rcn_py import visual"
   ]
  },
  {
   "cell_type": "code",
   "execution_count": 26,
   "metadata": {},
   "outputs": [
    {
     "name": "stderr",
     "output_type": "stream",
     "text": [
      "/Users/jennifer/RCSNA/rcn-py/notebook/../rcn_py/data_storage.py:206: SettingWithCopyWarning: \n",
      "A value is trying to be set on a copy of a slice from a DataFrame\n",
      "\n",
      "See the caveats in the documentation: https://pandas.pydata.org/pandas-docs/stable/user_guide/indexing.html#returning-a-view-versus-a-copy\n",
      "  authors_orcid[i] = authors_orcid[i].strip('[')\n",
      "/Users/jennifer/RCSNA/rcn-py/notebook/../rcn_py/data_storage.py:207: SettingWithCopyWarning: \n",
      "A value is trying to be set on a copy of a slice from a DataFrame\n",
      "\n",
      "See the caveats in the documentation: https://pandas.pydata.org/pandas-docs/stable/user_guide/indexing.html#returning-a-view-versus-a-copy\n",
      "  authors_orcid[i] = authors_orcid[i].strip(']')\n",
      "/Users/jennifer/RCSNA/rcn-py/notebook/../rcn_py/data_storage.py:208: SettingWithCopyWarning: \n",
      "A value is trying to be set on a copy of a slice from a DataFrame\n",
      "\n",
      "See the caveats in the documentation: https://pandas.pydata.org/pandas-docs/stable/user_guide/indexing.html#returning-a-view-versus-a-copy\n",
      "  authors_orcid[i] = authors_orcid[i].split(',')\n",
      "/Users/jennifer/RCSNA/rcn-py/notebook/../rcn_py/data_storage.py:209: SettingWithCopyWarning: \n",
      "A value is trying to be set on a copy of a slice from a DataFrame\n",
      "\n",
      "See the caveats in the documentation: https://pandas.pydata.org/pandas-docs/stable/user_guide/indexing.html#returning-a-view-versus-a-copy\n",
      "  authors_name[i] = authors_name[i].strip('[')\n",
      "/Users/jennifer/RCSNA/rcn-py/notebook/../rcn_py/data_storage.py:210: SettingWithCopyWarning: \n",
      "A value is trying to be set on a copy of a slice from a DataFrame\n",
      "\n",
      "See the caveats in the documentation: https://pandas.pydata.org/pandas-docs/stable/user_guide/indexing.html#returning-a-view-versus-a-copy\n",
      "  authors_name[i] = authors_name[i].strip(']')\n",
      "/Users/jennifer/RCSNA/rcn-py/notebook/../rcn_py/data_storage.py:211: SettingWithCopyWarning: \n",
      "A value is trying to be set on a copy of a slice from a DataFrame\n",
      "\n",
      "See the caveats in the documentation: https://pandas.pydata.org/pandas-docs/stable/user_guide/indexing.html#returning-a-view-versus-a-copy\n",
      "  authors_name[i] = authors_name[i].split(',')\n"
     ]
    }
   ],
   "source": [
    "visual.pyvis_network_by_datafile('Stefan Verhoeven', \"/Users/jennifer/RCSNA/data\", \"/Users/jennifer/RCSNA/visualization\")"
   ]
  },
  {
   "cell_type": "code",
   "execution_count": 4,
   "metadata": {},
   "outputs": [
    {
     "name": "stderr",
     "output_type": "stream",
     "text": [
      "/Users/jennifer/RCSNA/rcn-py/notebook/../rcn_py/data_storage.py:206: SettingWithCopyWarning: \n",
      "A value is trying to be set on a copy of a slice from a DataFrame\n",
      "\n",
      "See the caveats in the documentation: https://pandas.pydata.org/pandas-docs/stable/user_guide/indexing.html#returning-a-view-versus-a-copy\n",
      "  authors_orcid[i] = authors_orcid[i].strip('[')\n",
      "/Users/jennifer/RCSNA/rcn-py/notebook/../rcn_py/data_storage.py:207: SettingWithCopyWarning: \n",
      "A value is trying to be set on a copy of a slice from a DataFrame\n",
      "\n",
      "See the caveats in the documentation: https://pandas.pydata.org/pandas-docs/stable/user_guide/indexing.html#returning-a-view-versus-a-copy\n",
      "  authors_orcid[i] = authors_orcid[i].strip(']')\n",
      "/Users/jennifer/RCSNA/rcn-py/notebook/../rcn_py/data_storage.py:208: SettingWithCopyWarning: \n",
      "A value is trying to be set on a copy of a slice from a DataFrame\n",
      "\n",
      "See the caveats in the documentation: https://pandas.pydata.org/pandas-docs/stable/user_guide/indexing.html#returning-a-view-versus-a-copy\n",
      "  authors_orcid[i] = authors_orcid[i].split(',')\n",
      "/Users/jennifer/RCSNA/rcn-py/notebook/../rcn_py/data_storage.py:209: SettingWithCopyWarning: \n",
      "A value is trying to be set on a copy of a slice from a DataFrame\n",
      "\n",
      "See the caveats in the documentation: https://pandas.pydata.org/pandas-docs/stable/user_guide/indexing.html#returning-a-view-versus-a-copy\n",
      "  authors_name[i] = authors_name[i].strip('[')\n",
      "/Users/jennifer/RCSNA/rcn-py/notebook/../rcn_py/data_storage.py:210: SettingWithCopyWarning: \n",
      "A value is trying to be set on a copy of a slice from a DataFrame\n",
      "\n",
      "See the caveats in the documentation: https://pandas.pydata.org/pandas-docs/stable/user_guide/indexing.html#returning-a-view-versus-a-copy\n",
      "  authors_name[i] = authors_name[i].strip(']')\n",
      "/Users/jennifer/RCSNA/rcn-py/notebook/../rcn_py/data_storage.py:211: SettingWithCopyWarning: \n",
      "A value is trying to be set on a copy of a slice from a DataFrame\n",
      "\n",
      "See the caveats in the documentation: https://pandas.pydata.org/pandas-docs/stable/user_guide/indexing.html#returning-a-view-versus-a-copy\n",
      "  authors_name[i] = authors_name[i].split(',')\n"
     ]
    }
   ],
   "source": [
    "visual.gephi_network_by_datafile('Stefan Verhoeven', \"/Users/jennifer/RCSNA/data\", \"/Users/jennifer/RCSNA/visualization\")"
   ]
  },
  {
   "attachments": {},
   "cell_type": "markdown",
   "metadata": {},
   "source": [
    "## Neo4j to D3"
   ]
  },
  {
   "cell_type": "code",
   "execution_count": 2,
   "metadata": {},
   "outputs": [],
   "source": [
    "from json import dumps\n",
    "import logging\n",
    "import os\n",
    "from flask import (\n",
    "    Flask,\n",
    "    g,\n",
    "    request,\n",
    "    Response,\n",
    ")\n",
    "from neo4j import (\n",
    "    GraphDatabase,\n",
    "    basic_auth,\n",
    ")"
   ]
  },
  {
   "cell_type": "code",
   "execution_count": 5,
   "metadata": {},
   "outputs": [],
   "source": [
    "uri = \"bolt://localhost:7687\"\n",
    "username = \"neo4j\"\n",
    "password = \"zhiningbai\""
   ]
  },
  {
   "cell_type": "code",
   "execution_count": 9,
   "metadata": {},
   "outputs": [],
   "source": [
    "app = Flask(__name__, static_url_path=\"../static/\")\n",
    "\n",
    "# url = os.getenv(\"NEO4J_URI\", uri)\n",
    "# username = os.getenv(\"NEO4J_USER\", \"movies\")\n",
    "# password = os.getenv(\"NEO4J_PASSWORD\", \"movies\")\n",
    "# neo4j_version = os.getenv(\"NEO4J_VERSION\", \"4\")\n",
    "# database = os.getenv(\"NEO4J_DATABASE\", \"RCN DB\")\n",
    "\n",
    "port = os.getenv(\"PORT\", 8080)\n",
    "\n",
    "driver = GraphDatabase.driver(uri, auth=(username, password))"
   ]
  },
  {
   "cell_type": "code",
   "execution_count": null,
   "metadata": {},
   "outputs": [],
   "source": [
    "# driver.session(database=\"neo4j\")\n",
    "def get_db():\n",
    "    if not hasattr(g, \"neo4j_db\"):\n",
    "        # if neo4j_version >= \"4\":\n",
    "            g.neo4j_db = driver.session(database=\"neo4j\")\n",
    "        # else:\n",
    "        #     g.neo4j_db = driver.session()\n",
    "    return g.neo4j_db\n",
    "\n",
    "@app.teardown_appcontext\n",
    "def close_db(error):\n",
    "    if hasattr(g, \"neo4j_db\"):\n",
    "        g.neo4j_db.close()\n",
    "\n",
    "@app.route(\"/\")\n",
    "def get_index():\n",
    "    return app.send_static_file(\"index.html\")"
   ]
  },
  {
   "cell_type": "code",
   "execution_count": 10,
   "metadata": {},
   "outputs": [],
   "source": [
    "def serialize_person(person):\n",
    "    return {\n",
    "        \"scopus_id\": person[\"scopus_id\"],\n",
    "        \"name\": person[\"name\"],\n",
    "        \"affiliation\": person[\"affiliation\"],\n",
    "        \"country\": person[\"country\"],\n",
    "        \"subject\": person[\"subject\"],\n",
    "        \"keywords\": person[\"keywords\"],\n",
    "        \"year\": person[\"year\"]\n",
    "    }\n",
    "\n",
    "def serialize_publication(pub):\n",
    "    return {\n",
    "        \"doi\": pub[\"doi\"],\n",
    "        \"title\": pub[\"title\"],\n",
    "        \"subject\": pub[\"subject\"],\n",
    "        \"keywords\": pub[\"keywords\"],\n",
    "        \"year\": pub[\"year\"],\n",
    "        \"cited\": pub[\"cited\"]\n",
    "    }\n",
    "\n",
    "# def serialize_authorship(relationship):\n",
    "#     return {\n",
    "#         \"author\"\n",
    "#     }"
   ]
  },
  {
   "cell_type": "code",
   "execution_count": null,
   "metadata": {},
   "outputs": [],
   "source": [
    "# example: get pub-author relationships (2022, \"Deep learning\")\n",
    "@app.route(\"/graph\")\n",
    "def get_example_graph():\n",
    "    def work(tx, year, search_query, limit):\n",
    "        return list(tx.run(\"\"\"\n",
    "            MATCH (n:Person)-[:IS_AUTHOR_OF]->(p:Publication (year: $year)) \n",
    "            WHERE $keyword in p.keywords\n",
    "            RETURN n.name AS author,\n",
    "                   p.title AS title\n",
    "            LIMIT $limit\n",
    "            \"\"\",\n",
    "            year= year,\n",
    "            keyword = search_query,\n",
    "            limit = limit\n",
    "        ))\n",
    "    \n",
    "    db = get_db()\n",
    "    results = db.read_transaction(work, \n",
    "                                  request.args.get(\"year\", 2022), \n",
    "                                  request.args.get(\"search_query\", \"Deep learning\"), \n",
    "                                  request.args.get(\"limit\", 300))\n",
    "    nodes = []\n",
    "    rels = []\n",
    "    i = 0\n",
    "    for record in results:\n",
    "        nodes.append({\"title\": record[\"title\"], \"label\": \"publication\"})\n",
    "        target = i\n",
    "        i += 1\n",
    "        for name in record[\"author\"]:\n",
    "            author = {\"title\": name, \"label\": \"author\"}\n",
    "            try:\n",
    "                source = nodes.index(author)\n",
    "            except ValueError:\n",
    "                nodes.append(author)\n",
    "                source = i\n",
    "                i += 1\n",
    "            rels.append({\"source\": source, \"target\": target})\n",
    "    return Response(dumps({\"nodes\": nodes, \"links\": rels}),\n",
    "                    mimetype=\"application/json\")\n",
    "\n",
    "\n",
    "\n",
    "    # try:\n",
    "    #     q = request.args[\"q\"]\n",
    "    # except KeyError:\n",
    "    #     return []\n",
    "    # else:\n",
    "    #     db = get_db()\n",
    "    #     results = db.read_transaction(work, q)\n",
    "    #     res_authors = Response(\n",
    "    #         dumps([serialize_person(record[\"author\"]) for record in results]),\n",
    "    #         mimetype=\"application/json\"\n",
    "    #     )"
   ]
  },
  {
   "cell_type": "code",
   "execution_count": null,
   "metadata": {},
   "outputs": [],
   "source": []
  },
  {
   "cell_type": "code",
   "execution_count": null,
   "metadata": {},
   "outputs": [],
   "source": []
  }
 ],
 "metadata": {
  "kernelspec": {
   "display_name": "base",
   "language": "python",
   "name": "python3"
  },
  "language_info": {
   "codemirror_mode": {
    "name": "ipython",
    "version": 3
   },
   "file_extension": ".py",
   "mimetype": "text/x-python",
   "name": "python",
   "nbconvert_exporter": "python",
   "pygments_lexer": "ipython3",
   "version": "3.9.13"
  },
  "orig_nbformat": 4,
  "vscode": {
   "interpreter": {
    "hash": "78d178f77aa2234760f0004d20edde8d97d9d6aae15b3a03389e75a39bac3a7d"
   }
  }
 },
 "nbformat": 4,
 "nbformat_minor": 2
}
