{
 "cells": [
  {
   "cell_type": "code",
   "execution_count": 1,
   "id": "ff9777b5",
   "metadata": {},
   "outputs": [
    {
     "name": "stderr",
     "output_type": "stream",
     "text": [
      "[nltk_data] Downloading package stopwords to\n",
      "[nltk_data]     /Users/jennifer/nltk_data...\n",
      "[nltk_data]   Package stopwords is already up-to-date!\n"
     ]
    }
   ],
   "source": [
    "import pandas as pd\n",
    "import numpy as np\n",
    "from pyvis.network import Network\n",
    "from pybliometrics.scopus import AuthorSearch\n",
    "from pybliometrics.scopus import AuthorRetrieval\n",
    "from pprint import pprint\n",
    "import gensim\n",
    "from gensim import corpora\n",
    "import itertools\n",
    "import time\n",
    "from sklearn.cluster import KMeans\n",
    "import sys\n",
    "sys.path.append(\"..\")\n",
    "from rcn_py import scopus"
   ]
  },
  {
   "cell_type": "markdown",
   "id": "576c228d",
   "metadata": {},
   "source": [
    "## Find the author_id by the name "
   ]
  },
  {
   "cell_type": "code",
   "execution_count": 3,
   "id": "b9410a3f",
   "metadata": {},
   "outputs": [],
   "source": [
    "\n",
    "s = AuthorSearch('AUTHLAST(Kalverla) and AUTHFIRST(Peter)')  #todo also check Joris van Eijnatten"
   ]
  },
  {
   "cell_type": "code",
   "execution_count": 5,
   "id": "de3c3ac2",
   "metadata": {},
   "outputs": [
    {
     "name": "stdout",
     "output_type": "stream",
     "text": [
      "Search 'AUTHLAST(Kalverla) and AUTHFIRST(Peter)' yielded 1 author as of 2023-02-28:\n",
      "    Kalverla, Peter; AUTHOR_ID:57189467443 (8 document(s))\n"
     ]
    }
   ],
   "source": [
    "print(s)"
   ]
  },
  {
   "cell_type": "code",
   "execution_count": 6,
   "id": "4c397ff6",
   "metadata": {},
   "outputs": [
    {
     "data": {
      "text/plain": [
       "<pybliometrics.scopus.author_retrieval.AuthorRetrieval at 0x7ff1f49b5c70>"
      ]
     },
     "execution_count": 6,
     "metadata": {},
     "output_type": "execute_result"
    }
   ],
   "source": [
    "AuthorRetrieval(7004691405)"
   ]
  },
  {
   "cell_type": "code",
   "execution_count": 54,
   "id": "afea74fb",
   "metadata": {
    "scrolled": true
   },
   "outputs": [
    {
     "name": "stdout",
     "output_type": "stream",
     "text": [
      "https://www.scopus.com/authid/detail.uri?partnerID=HzOxMe3b&authorId=57189467443&origin=inward\n"
     ]
    }
   ],
   "source": [
    "author_id = 57189467443\n",
    "au = AuthorRetrieval(author_id)\n",
    "print(au.self_link)\n"
   ]
  },
  {
   "cell_type": "code",
   "execution_count": 7,
   "id": "3b949111",
   "metadata": {},
   "outputs": [],
   "source": [
    "node_retrieved = []\n",
    "def all_coauthor(author_id, depth, node_retrieved):\n",
    "    au = AuthorRetrieval(author_id)\n",
    "    docs = pd.DataFrame(au.get_documents())\n",
    "    # Access to documents for the last five years\n",
    "    new_docs = docs[(docs.coverDate > '2018')]\n",
    "    au_id = new_docs.author_ids\n",
    "    \n",
    "    link = []\n",
    "    all_node = []\n",
    "\n",
    "    node_retrieved.append(author_id)\n",
    "    \n",
    "    for i in au_id:\n",
    "        coau_id = i.split(\";\")\n",
    "        coau_id = list(map(int, coau_id))\n",
    "        new_coau_id = []\n",
    "        for j in coau_id:\n",
    "            aff = AuthorRetrieval(j).affiliation_current\n",
    "            if AuthorRetrieval(j).affiliation_current:\n",
    "                # Geo-filtering \n",
    "                # todo: all the affiliations \n",
    "                # if AuthorRetrieval(j).affiliation_current[0][7] == 'nld':\n",
    "                    if j not in all_node:\n",
    "                        all_node.append(j)\n",
    "                    new_coau_id.append(j)\n",
    "                    \n",
    "        sorted_new_coauid = list(map(int, new_coau_id))\n",
    "        sorted_new_coauid.sort()\n",
    "        link = link+list(itertools.combinations(sorted_new_coauid, 2))\n",
    "        # Do recursion (increase depth of the network)\n",
    "        if depth > 0:\n",
    "            for j in sorted_new_coauid:\n",
    "                if j not in node_retrieved:\n",
    "                    nld_coauthor(j, depth-1)\n",
    "    return all_node, link"
   ]
  },
  {
   "cell_type": "code",
   "execution_count": 8,
   "id": "c5614758",
   "metadata": {},
   "outputs": [],
   "source": [
    "node, link = all_coauthor(author_id, 0, node_retrieved)"
   ]
  },
  {
   "cell_type": "code",
   "execution_count": 42,
   "id": "41e5159d",
   "metadata": {},
   "outputs": [],
   "source": [
    "def nld_coauthor(author_id, depth, node_retrieved):\n",
    "    au = AuthorRetrieval(author_id)\n",
    "    docs = pd.DataFrame(au.get_documents())\n",
    "    # Access to documents for the last five years\n",
    "#     new_docs = docs[(docs.coverDate > '2018')]\n",
    "    au_id = scopus.author_ids\n",
    "    \n",
    "    link = []\n",
    "    all_node = []\n",
    "\n",
    "    node_retrieved.append(author_id)\n",
    "    \n",
    "    for i in au_id:\n",
    "        coau_id = i.split(\";\")\n",
    "        coau_id = list(map(int, coau_id))\n",
    "        new_coau_id = []\n",
    "        for j in coau_id:\n",
    "            aff = AuthorRetrieval(j).affiliation_current\n",
    "            if AuthorRetrieval(j).affiliation_current:\n",
    "                # Geo-filtering \n",
    "                # todo: all the affiliations \n",
    "                if AuthorRetrieval(j).affiliation_current[0][7] == 'nld':\n",
    "                    if j not in all_node:\n",
    "                        all_node.append(j)\n",
    "                    new_coau_id.append(j)\n",
    "                    \n",
    "        sorted_new_coauid = list(map(int, new_coau_id))\n",
    "        sorted_new_coauid.sort()\n",
    "        link = link+list(itertools.combinations(sorted_new_coauid, 2))\n",
    "        # Do recursion (increase depth of the network)\n",
    "        if depth > 0:\n",
    "            for j in sorted_new_coauid:\n",
    "                if j not in node_retrieved:\n",
    "                    nld_coauthor(j, depth-1)\n",
    "    return all_node, link"
   ]
  },
  {
   "cell_type": "code",
   "execution_count": 21,
   "id": "27d45551",
   "metadata": {},
   "outputs": [],
   "source": [
    "node, link = nld_coauthor(author_id, 0, node_retrieved)"
   ]
  },
  {
   "cell_type": "code",
   "execution_count": 10,
   "id": "457afe62",
   "metadata": {
    "scrolled": true
   },
   "outputs": [
    {
     "name": "stdout",
     "output_type": "stream",
     "text": [
      "Rolf W. Hut\n",
      "Niels Drost\n",
      "Nick C. Van De Giesen\n",
      "Ben J.C. van Werkhoven\n",
      "Banafsheh Abdollahi\n",
      "Jerom P.M. Aerts\n",
      "Thomas Albers\n",
      "Fakhereh Alidoost\n",
      "Bouwe Andela\n",
      "Jaro Camphuijsen\n",
      "Yifat Dzigan\n",
      "Ronald van Haren\n",
      "Eric W.H. Hutton\n",
      "Peter Kalverla\n",
      "Maarten A.J. van Meersbergen\n",
      "Gijs van den Oord\n",
      "Inti Pelupessy\n",
      "Stef Smeets\n",
      "Stefan Verhoeven\n",
      "Martine G. de Vos\n",
      "Berend Weel\n",
      "Mark Schelbergen\n",
      "Roland Schmehl\n",
      "Simon Watson\n",
      "Albert A.M. Holtslag\n",
      "Reinder J. Ronda\n",
      "G. J. Steeneveld\n",
      "James B. Duncan\n"
     ]
    }
   ],
   "source": [
    "for i in node:\n",
    "    print(AuthorRetrieval(i).given_name+' '+AuthorRetrieval(i).surname)"
   ]
  },
  {
   "cell_type": "code",
   "execution_count": 12,
   "id": "8f1d6841",
   "metadata": {},
   "outputs": [],
   "source": [
    "def get_hindex(au_id):\n",
    "    au = AuthorRetrieval(au_id)\n",
    "    return au.h_index"
   ]
  },
  {
   "cell_type": "code",
   "execution_count": 22,
   "id": "3c805fc6",
   "metadata": {},
   "outputs": [],
   "source": [
    "sources = []\n",
    "targets = []\n",
    "weights = []\n",
    "\n",
    "for i in link:\n",
    "    sources.append(i[0])\n",
    "    targets.append(i[1])\n",
    "    weights.append(link.count(i))"
   ]
  },
  {
   "cell_type": "code",
   "execution_count": 25,
   "id": "2c5434c7",
   "metadata": {},
   "outputs": [],
   "source": [
    "# Pyvis network\n",
    "N = Network(height=800, width=\"100%\", bgcolor=\"#222222\", font_color=\"white\", select_menu=True)\n",
    "N.toggle_hide_edges_on_drag(False)\n",
    "N.barnes_hut()\n",
    "\n",
    "edge_data = zip(sources, targets, weights)\n",
    "\n",
    "for e in edge_data:\n",
    "    src = e[0]\n",
    "    dst = e[1]\n",
    "    w = e[2]\n",
    "\n",
    "    N.add_node(src, src, title=src, group = au_group[src])\n",
    "    N.add_node(dst, dst, title=dst, group = au_group[dst])\n",
    "    N.add_edge(src, dst, value=w)\n",
    "\n",
    "neighbor_map = N.get_adj_list()\n",
    "\n",
    "# add neighbor data to node hover data\n",
    "for node in N.nodes:\n",
    "    neighbors = []\n",
    "    for neighbor_id in neighbor_map[node[\"id\"]]:\n",
    "        neigh = AuthorRetrieval(neighbor_id)\n",
    "        neighbors.append(neigh.given_name+' '+neigh.surname)\n",
    "    #node[\"title\"] = \" Neighbors: \\n\" + \" \\n\".join(neighbors)\n",
    "    node[\"title\"] = \"Link to the author’s API page:\\n\" + AuthorRetrieval(node[\"id\"]).self_link\n",
    "    node[\"value\"] = get_hindex(node[\"id\"])\n",
    "    node[\"label\"] = AuthorRetrieval(node[\"id\"]).given_name+' '+AuthorRetrieval(node[\"id\"]).surname\n",
    "    # node[\"group\"] = group[node[\"id\"]]\n",
    "    # node[\"font_size\"] = get_hindex(node[\"id\"])\n",
    "\n",
    "N.show(\"peter.html\")"
   ]
  },
  {
   "cell_type": "code",
   "execution_count": 14,
   "id": "142cd06e",
   "metadata": {},
   "outputs": [],
   "source": [
    "au = AuthorRetrieval(author_id)\n",
    "docs = pd.DataFrame(au.get_documents())"
   ]
  },
  {
   "cell_type": "code",
   "execution_count": 15,
   "id": "050af5e6",
   "metadata": {
    "scrolled": false
   },
   "outputs": [
    {
     "data": {
      "text/plain": [
       "'57189467443'"
      ]
     },
     "execution_count": 15,
     "metadata": {},
     "output_type": "execute_result"
    }
   ],
   "source": [
    "s.authors[0].eid.split('-')[-1]"
   ]
  },
  {
   "cell_type": "code",
   "execution_count": 11,
   "id": "488d2b27",
   "metadata": {},
   "outputs": [],
   "source": [
    "def filter_country(author_list, country_code):\n",
    "    filtered_authors = []\n",
    "    for i in author_list:\n",
    "        aff_list = AuthorRetrieval(i).affiliation_current\n",
    "        for aff_cur in aff_list:\n",
    "            if aff_cur.country_code == country_code:\n",
    "                filtered_authors.append(i)\n",
    "                break\n",
    "    return filtered_authors\n",
    "        "
   ]
  },
  {
   "cell_type": "code",
   "execution_count": 22,
   "id": "a0e1ec4f",
   "metadata": {},
   "outputs": [
    {
     "data": {
      "text/plain": [
       "[23488924100,\n",
       " 15065185400,\n",
       " 6603507671,\n",
       " 55052390500,\n",
       " 57201991588,\n",
       " 57220200254,\n",
       " 57807312200,\n",
       " 57189690259,\n",
       " 57215841810,\n",
       " 57807781300,\n",
       " 57220157018,\n",
       " 55227059300,\n",
       " 57189467443,\n",
       " 55065848900,\n",
       " 57195348393,\n",
       " 57211407731,\n",
       " 57807466500,\n",
       " 23096348600,\n",
       " 57533863700,\n",
       " 55171306200,\n",
       " 56046806200,\n",
       " 7003773804,\n",
       " 8312994100,\n",
       " 7006904374,\n",
       " 6602265575,\n",
       " 8879755400,\n",
       " 57640658500]"
      ]
     },
     "execution_count": 22,
     "metadata": {},
     "output_type": "execute_result"
    }
   ],
   "source": [
    "node"
   ]
  },
  {
   "cell_type": "code",
   "execution_count": 37,
   "id": "6c07c411",
   "metadata": {},
   "outputs": [
    {
     "data": {
      "text/plain": [
       "[(6603507671, 15065185400),\n",
       " (6603507671, 23488924100),\n",
       " (6603507671, 55052390500),\n",
       " (6603507671, 57201991588),\n",
       " (15065185400, 23488924100),\n",
       " (15065185400, 55052390500),\n",
       " (15065185400, 57201991588),\n",
       " (23488924100, 55052390500),\n",
       " (23488924100, 57201991588),\n",
       " (55052390500, 57201991588),\n",
       " (7003773804, 8312994100),\n",
       " (7003773804, 56046806200),\n",
       " (7003773804, 57189467443),\n",
       " (8312994100, 56046806200),\n",
       " (8312994100, 57189467443),\n",
       " (56046806200, 57189467443),\n",
       " (6602265575, 7006904374),\n",
       " (6602265575, 8879755400),\n",
       " (6602265575, 57189467443),\n",
       " (7006904374, 8879755400),\n",
       " (7006904374, 57189467443),\n",
       " (8879755400, 57189467443),\n",
       " (7006904374, 8879755400),\n",
       " (7006904374, 57189467443),\n",
       " (7006904374, 57640658500),\n",
       " (8879755400, 57189467443),\n",
       " (8879755400, 57640658500),\n",
       " (57189467443, 57640658500),\n",
       " (6602265575, 7006904374),\n",
       " (6602265575, 8879755400),\n",
       " (6602265575, 57189467443),\n",
       " (7006904374, 8879755400),\n",
       " (7006904374, 57189467443),\n",
       " (8879755400, 57189467443)]"
      ]
     },
     "execution_count": 37,
     "metadata": {},
     "output_type": "execute_result"
    }
   ],
   "source": [
    "link"
   ]
  },
  {
   "cell_type": "code",
   "execution_count": 23,
   "id": "2ea2b8fa",
   "metadata": {},
   "outputs": [
    {
     "name": "stdout",
     "output_type": "stream",
     "text": [
      "27\n"
     ]
    }
   ],
   "source": [
    "author_lst = filter_country(node, 'nld')\n",
    "print(len(author_lst))"
   ]
  },
  {
   "cell_type": "code",
   "execution_count": null,
   "id": "0e0b2836",
   "metadata": {},
   "outputs": [],
   "source": []
  },
  {
   "cell_type": "code",
   "execution_count": 24,
   "id": "0e9c218f",
   "metadata": {},
   "outputs": [],
   "source": [
    "def get_coauthor(author_first, author_last, depth):\n",
    "    s = AuthorSearch('AUTHLAST('+author_last+') and AUTHFIRST('+author_first+')')\n",
    "    author_id = s.authors[0].eid.split('-')[-1]\n",
    "    node2 = []\n",
    "    node, link = nld_coauthor(author_id, depth, node2)\n",
    "    sources = []\n",
    "    targets = []\n",
    "    weights = []\n",
    "\n",
    "    for i in link:\n",
    "        sources.append(i[0])\n",
    "        targets.append(i[1])\n",
    "        weights.append(link.count(i))\n",
    "    \n",
    "    # Pyvis network\n",
    "    N = Network(height=800, width=\"100%\", bgcolor=\"#222222\", font_color=\"white\", select_menu=True)\n",
    "    N.toggle_hide_edges_on_drag(False)\n",
    "    N.barnes_hut()\n",
    "\n",
    "    edge_data = zip(sources, targets, weights)\n",
    "\n",
    "    for e in edge_data:\n",
    "        src = e[0]\n",
    "        dst = e[1]\n",
    "        w = e[2]\n",
    "\n",
    "        N.add_node(src, src, title=src)\n",
    "        N.add_node(dst, dst, title=dst)\n",
    "        N.add_edge(src, dst, value=w)\n",
    "\n",
    "    neighbor_map = N.get_adj_list()\n",
    "\n",
    "    # add neighbor data to node hover data\n",
    "    for node in N.nodes:\n",
    "        neighbors = []\n",
    "        for neighbor_id in neighbor_map[node[\"id\"]]:\n",
    "            neigh = AuthorRetrieval(neighbor_id)\n",
    "            neighbors.append(neigh.given_name+' '+neigh.surname)\n",
    "        #node[\"title\"] = \" Neighbors: \\n\" + \" \\n\".join(neighbors)\n",
    "        node[\"title\"] = \"Link to the author’s API page:\\n\" + AuthorRetrieval(node[\"id\"]).self_link\n",
    "        node[\"value\"] = get_hindex(node[\"id\"])\n",
    "        node[\"label\"] = AuthorRetrieval(node[\"id\"]).given_name+' '+AuthorRetrieval(node[\"id\"]).surname\n",
    "       \n",
    "\n",
    "    N.show(author_last + \".html\")\n"
   ]
  },
  {
   "cell_type": "code",
   "execution_count": 25,
   "id": "ad0f8a4f",
   "metadata": {},
   "outputs": [],
   "source": [
    "get_coauthor(\"Bart\",\"Schilperoort\",0) "
   ]
  },
  {
   "cell_type": "code",
   "execution_count": 26,
   "id": "f708414a",
   "metadata": {},
   "outputs": [
    {
     "data": {
      "text/plain": [
       "0    Hutton et al. (2016) argued that computational...\n",
       "1    Airborne wind energy (AWE) systems harness ene...\n",
       "2    Offshore wind energy production is rapidly gro...\n",
       "3    Ten years of ERA5 reanalysis data are combined...\n",
       "4    Numerical weather prediction models play an im...\n",
       "5    Uncertainty reduction in offshore wind systems...\n",
       "6    In numerical models of geophysical fluid syste...\n",
       "7    In the winter of 2012/13, the Katabatic Winds ...\n",
       "Name: description, dtype: object"
      ]
     },
     "execution_count": 26,
     "metadata": {},
     "output_type": "execute_result"
    }
   ],
   "source": [
    "docs.description"
   ]
  },
  {
   "cell_type": "code",
   "execution_count": null,
   "id": "36afd39f",
   "metadata": {},
   "outputs": [],
   "source": []
  },
  {
   "cell_type": "code",
   "execution_count": null,
   "id": "7022d7ae",
   "metadata": {},
   "outputs": [],
   "source": []
  },
  {
   "cell_type": "code",
   "execution_count": null,
   "id": "54f4c716",
   "metadata": {},
   "outputs": [],
   "source": [
    "# Import package/library\n",
    "import network_analysis as na\n",
    "\n",
    "author = na.find_author_by_name(firstname=\"Joris\", lastname=\"Eijnatten\")\n",
    "author = na.find_author_by_orcid(orcid = ....)\n",
    "coauthors = na.find_coauthors(author)\n",
    "coauthors = na.filter_coauthors(coauthors, country_code=\"nld\")\n",
    "graph = na.visualize(coauthors)"
   ]
  },
  {
   "cell_type": "markdown",
   "id": "4bf22e63",
   "metadata": {},
   "source": [
    "## Topic Modeling"
   ]
  },
  {
   "cell_type": "code",
   "execution_count": 30,
   "id": "96490982",
   "metadata": {
    "scrolled": true
   },
   "outputs": [
    {
     "data": {
      "text/plain": [
       "'Hutton et al. (2016) argued that computational hydrology can only be a proper science if the hydrological community makes sure that hydrological model studies are executed and presented in a reproducible manner. Hut, Drost and van de Giesen replied that to achieve this hydrologists should not \"re-invent the water wheel\" but rather use existing technology from other fields (such as containers and ESMValTool) and open interfaces (such as the Basic Model Interface, BMI) to do their computational science (Hut et al., 2017). With this paper and the associated release of the eWaterCycle platform and software package (available on Zenodo: https://doi.org/10.5281/zenodo.5119389, Verhoeven et al., 2022), we are putting our money where our mouth is and providing the hydrological community with a \"FAIR by design\" (FAIR meaning findable, accessible, interoperable, and reproducible) platform to do science. The eWaterCycle platform separates the experiments done on the model from the model code. In eWaterCycle, hydrological models are accessed through a common interface (BMI) in Python and run inside of software containers. In this way all models are accessed in a similar manner facilitating easy switching of models, model comparison and model coupling. Currently the following models and model suites are available through eWaterCycle: PCR-GLOBWB 2.0, wflow, Hype, LISFLOOD, MARRMoT, and WALRUS While these models are written in different programming languages they can all be run and interacted with from the Jupyter notebook environment within eWaterCycle. Furthermore, the preprocessing of input data for these models has been streamlined by making use of ESMValTool. Forcing for the models available in eWaterCycle from well-known datasets such as ERA5 can be generated with a single line of code. To illustrate the type of research that eWaterCycle facilitates, this paper includes five case studies: from a simple \"hello world\" where only a hydrograph is generated to a complex coupling of models in different languages. In this paper we stipulate the design choices made in building eWaterCycle and provide all the technical details to understand and work with the platform. For system administrators who want to install eWaterCycle on their infrastructure we offer a separate installation guide. For computational hydrologists that want to work with eWaterCycle we also provide a video explaining the platform from a user point of view (https://youtu.be/eE75dtIJ1lk, last access: 28 June 2022). With the eWaterCycle platform we are providing the hydrological community with a platform to conduct their research that is fully compatible with the principles of both Open Science and FAIR science'"
      ]
     },
     "execution_count": 30,
     "metadata": {},
     "output_type": "execute_result"
    }
   ],
   "source": [
    "docs.description[0]"
   ]
  },
  {
   "cell_type": "code",
   "execution_count": 31,
   "id": "fbad7063",
   "metadata": {},
   "outputs": [
    {
     "data": {
      "text/plain": [
       "'The eWaterCycle platform for open and FAIR hydrological collaboration'"
      ]
     },
     "execution_count": 31,
     "metadata": {},
     "output_type": "execute_result"
    }
   ],
   "source": [
    "docs.title[0]"
   ]
  },
  {
   "cell_type": "code",
   "execution_count": 9,
   "id": "473d7f0e",
   "metadata": {},
   "outputs": [],
   "source": [
    "from nltk.stem import PorterStemmer\n",
    "from nltk.tokenize import word_tokenize\n",
    "  \n",
    "ps = PorterStemmer()"
   ]
  },
  {
   "cell_type": "code",
   "execution_count": 10,
   "id": "630984b7",
   "metadata": {},
   "outputs": [
    {
     "name": "stderr",
     "output_type": "stream",
     "text": [
      "[nltk_data] Downloading package stopwords to\n",
      "[nltk_data]     /Users/jennifer/nltk_data...\n",
      "[nltk_data]   Package stopwords is already up-to-date!\n"
     ]
    }
   ],
   "source": [
    "import nltk\n",
    "import re\n",
    "from nltk.corpus import stopwords\n",
    "nltk.download(\"stopwords\")\n",
    "stop_words = set(stopwords.words(\"english\"))\n"
   ]
  },
  {
   "cell_type": "code",
   "execution_count": null,
   "id": "b2b48c95",
   "metadata": {},
   "outputs": [],
   "source": []
  },
  {
   "cell_type": "code",
   "execution_count": 8,
   "id": "5cbf2246",
   "metadata": {},
   "outputs": [],
   "source": [
    "def clean_text(text):\n",
    "    text = text.replace('\\n',\" \") \n",
    "    text = re.sub(r\"-\", \" \", text) \n",
    "    text = re.sub(r\"\\d+/\\d+/\\d+\", \"\", text) \n",
    "    text = re.sub(r\"[0-2]?[0-9]:[0-6][0-9]\", \"\", text) \n",
    "    text = re.sub(r\"[\\w]+@[\\.\\w]+\", \"\", text) \n",
    "    text = re.sub(r\"/[a-zA-Z]*[:\\//\\]*[A-Za-z0-9\\-_]+\\.+[A-Za-z0-9\\.\\/%&=\\?\\-_]+/i\", \"\", text)\n",
    "    pure_text = ''\n",
    "    for letter in text:\n",
    "        # Leave only letters and spaces\n",
    "        if letter.isalpha() or letter==' ':\n",
    "            letter = letter.lower()\n",
    "            pure_text += letter\n",
    "            \n",
    "    corpus_lst = [ps.stem(word) for word in pure_text.split() if word not in stop_words]\n",
    "    return corpus_lst"
   ]
  },
  {
   "cell_type": "code",
   "execution_count": 30,
   "id": "f2ccd671",
   "metadata": {},
   "outputs": [
    {
     "name": "stdout",
     "output_type": "stream",
     "text": [
      "['hutton', 'et', 'al', 'argu', 'comput', 'hydrolog', 'proper', 'scienc', 'hydrolog', 'commun', 'make', 'sure', 'hydrolog', 'model', 'studi', 'execut', 'present', 'reproduc', 'manner', 'hut', 'drost', 'van', 'de', 'giesen', 'repli', 'achiev', 'hydrologist', 'invent', 'water', 'wheel', 'rather', 'use', 'exist', 'technolog', 'field', 'contain', 'esmvaltool', 'open', 'interfac', 'basic', 'model', 'interfac', 'bmi', 'comput', 'scienc', 'hut', 'et', 'al', 'paper', 'associ', 'releas', 'ewatercycl', 'platform', 'softwar', 'packag', 'avail', 'zenodo', 'httpsdoiorgzenodo', 'verhoeven', 'et', 'al', 'put', 'money', 'mouth', 'provid', 'hydrolog', 'commun', 'fair', 'design', 'fair', 'mean', 'findabl', 'access', 'interoper', 'reproduc', 'platform', 'scienc', 'ewatercycl', 'platform', 'separ', 'experi', 'done', 'model', 'model', 'code', 'ewatercycl', 'hydrolog', 'model', 'access', 'common', 'interfac', 'bmi', 'python', 'run', 'insid', 'softwar', 'contain', 'way', 'model', 'access', 'similar', 'manner', 'facilit', 'easi', 'switch', 'model', 'model', 'comparison', 'model', 'coupl', 'current', 'follow', 'model', 'model', 'suit', 'avail', 'ewatercycl', 'pcr', 'globwb', 'wflow', 'hype', 'lisflood', 'marrmot', 'walru', 'model', 'written', 'differ', 'program', 'languag', 'run', 'interact', 'jupyt', 'notebook', 'environ', 'within', 'ewatercycl', 'furthermor', 'preprocess', 'input', 'data', 'model', 'streamlin', 'make', 'use', 'esmvaltool', 'forc', 'model', 'avail', 'ewatercycl', 'well', 'known', 'dataset', 'era', 'gener', 'singl', 'line', 'code', 'illustr', 'type', 'research', 'ewatercycl', 'facilit', 'paper', 'includ', 'five', 'case', 'studi', 'simpl', 'hello', 'world', 'hydrograph', 'gener', 'complex', 'coupl', 'model', 'differ', 'languag', 'paper', 'stipul', 'design', 'choic', 'made', 'build', 'ewatercycl', 'provid', 'technic', 'detail', 'understand', 'work', 'platform', 'system', 'administr', 'want', 'instal', 'ewatercycl', 'infrastructur', 'offer', 'separ', 'instal', 'guid', 'comput', 'hydrologist', 'want', 'work', 'ewatercycl', 'also', 'provid', 'video', 'explain', 'platform', 'user', 'point', 'view', 'httpsyoutubeeedtijlk', 'last', 'access', 'june', 'ewatercycl', 'platform', 'provid', 'hydrolog', 'commun', 'platform', 'conduct', 'research', 'fulli', 'compat', 'principl', 'open', 'scienc', 'fair', 'scienc']\n"
     ]
    }
   ],
   "source": [
    "cleaned_abstract = clean_text(docs.description[0])\n",
    "print(cleaned_abstract)"
   ]
  },
  {
   "cell_type": "code",
   "execution_count": null,
   "id": "254bdec6",
   "metadata": {},
   "outputs": [],
   "source": []
  },
  {
   "cell_type": "code",
   "execution_count": 31,
   "id": "11724221",
   "metadata": {},
   "outputs": [
    {
     "name": "stdout",
     "output_type": "stream",
     "text": [
      "[(0,\n",
      "  '0.058*\"wind\" + 0.018*\"speed\" + 0.014*\"jet\" + 0.013*\"era\" + 0.013*\"observ\" + '\n",
      "  '0.013*\"model\" + 0.011*\"low\" + 0.011*\"use\" + 0.011*\"level\" + 0.011*\"energi\"'),\n",
      " (1,\n",
      "  '0.035*\"wind\" + 0.012*\"condit\" + 0.010*\"surfac\" + 0.010*\"found\" + '\n",
      "  '0.010*\"parameter\" + 0.010*\"pbl\" + 0.010*\"model\" + 0.008*\"character\" + '\n",
      "  '0.008*\"extrem\" + 0.008*\"scheme\"'),\n",
      " (2,\n",
      "  '0.002*\"high\" + 0.002*\"forecast\" + 0.002*\"simul\" + 0.002*\"valu\" + '\n",
      "  '0.002*\"repres\" + 0.002*\"perform\" + 0.002*\"lead\" + 0.002*\"method\" + '\n",
      "  '0.002*\"system\" + 0.002*\"rang\"'),\n",
      " (3,\n",
      "  '0.042*\"model\" + 0.023*\"ewatercycl\" + 0.015*\"platform\" + 0.013*\"process\" + '\n",
      "  '0.013*\"hydrolog\" + 0.011*\"scienc\" + 0.011*\"parametr\" + 0.009*\"system\" + '\n",
      "  '0.009*\"provid\" + 0.009*\"access\"')]\n",
      "time for  150  passes:  2.8978772163391113 seconds.\n"
     ]
    }
   ],
   "source": [
    "cleaned_abs_corpus = []\n",
    "for abstract_lst in docs.description:\n",
    "    cleaned_abs_corpus.append(clean_text(abstract_lst))\n",
    "    \n",
    "num_topics = 4\n",
    "dictionary = corpora.Dictionary(cleaned_abs_corpus) \n",
    "corpus = [dictionary.doc2bow(text) for text in cleaned_abs_corpus]\n",
    "    \n",
    "t0= time.time()\n",
    "passes= 150\n",
    "np.random.seed(1)\n",
    "\n",
    "lda_model = gensim.models.LdaMulticore(corpus=corpus,\n",
    "                                       id2word=dictionary,\n",
    "                                       num_topics=num_topics,\n",
    "                                       chunksize= 4000, \n",
    "                                       batch= True,\n",
    "                                       minimum_probability=0.001,\n",
    "                                       iterations=350,\n",
    "                                       passes=passes)\n",
    "t1 = time.time()\n",
    "# Print the Keyword in the 4 topics\n",
    "pprint(lda_model.print_topics())\n",
    "doc_lda = lda_model[corpus]\n",
    "print(\"time for \", passes, \" passes: \", (t1-t0), \"seconds.\")"
   ]
  },
  {
   "cell_type": "code",
   "execution_count": 32,
   "id": "4ea3ec81",
   "metadata": {},
   "outputs": [
    {
     "data": {
      "text/plain": [
       "[(0,\n",
       "  [('wind', 0.05798044),\n",
       "   ('speed', 0.018184189),\n",
       "   ('jet', 0.014066984),\n",
       "   ('era', 0.012694241),\n",
       "   ('observ', 0.012693972),\n",
       "   ('model', 0.012689519),\n",
       "   ('low', 0.011322881),\n",
       "   ('use', 0.011322086),\n",
       "   ('level', 0.011322073),\n",
       "   ('energi', 0.0113214245),\n",
       "   ('profil', 0.009949115),\n",
       "   ('repres', 0.008577664),\n",
       "   ('data', 0.008577502),\n",
       "   ('studi', 0.007204741),\n",
       "   ('represent', 0.007204579),\n",
       "   ('shear', 0.0072045075),\n",
       "   ('height', 0.0072044916),\n",
       "   ('north', 0.0072044916),\n",
       "   ('sea', 0.0072044916),\n",
       "   ('shape', 0.0072044916),\n",
       "   ('cluster', 0.007204491),\n",
       "   ('mast', 0.00720449),\n",
       "   ('met', 0.00720449),\n",
       "   ('perform', 0.0058327173),\n",
       "   ('demonstr', 0.005832663)]),\n",
       " (1,\n",
       "  [('wind', 0.0354852),\n",
       "   ('condit', 0.012218964),\n",
       "   ('surfac', 0.009891995),\n",
       "   ('found', 0.009891904),\n",
       "   ('pbl', 0.009889407),\n",
       "   ('parameter', 0.009889407),\n",
       "   ('model', 0.009886225),\n",
       "   ('character', 0.007564224),\n",
       "   ('extrem', 0.0075636273),\n",
       "   ('scheme', 0.007563246),\n",
       "   ('low', 0.007563111),\n",
       "   ('sensit', 0.0075624525),\n",
       "   ('moistur', 0.0075624525),\n",
       "   ('larger', 0.0075624525),\n",
       "   ('land', 0.0075624525),\n",
       "   ('soil', 0.0075624525),\n",
       "   ('turbul', 0.0075624455),\n",
       "   ('observ', 0.0075620683),\n",
       "   ('simul', 0.005237273),\n",
       "   ('case', 0.005236812),\n",
       "   ('result', 0.005236722),\n",
       "   ('accur', 0.005236614),\n",
       "   ('wrf', 0.0052366103),\n",
       "   ('strong', 0.0052366103),\n",
       "   ('temperatur', 0.0052366103)]),\n",
       " (2,\n",
       "  [('high', 0.0017637982),\n",
       "   ('forecast', 0.001763778),\n",
       "   ('simul', 0.0017637742),\n",
       "   ('valu', 0.0017637723),\n",
       "   ('repres', 0.0017637692),\n",
       "   ('perform', 0.0017637663),\n",
       "   ('lead', 0.0017637642),\n",
       "   ('method', 0.0017637616),\n",
       "   ('system', 0.0017637603),\n",
       "   ('rang', 0.0017637582),\n",
       "   ('time', 0.0017637566),\n",
       "   ('particular', 0.001763752),\n",
       "   ('new', 0.001763752),\n",
       "   ('low', 0.0017637511),\n",
       "   ('studi', 0.0017637471),\n",
       "   ('result', 0.0017637471),\n",
       "   ('case', 0.0017637431),\n",
       "   ('potenti', 0.0017637425),\n",
       "   ('dataset', 0.0017637413),\n",
       "   ('deriv', 0.0017637368),\n",
       "   ('specif', 0.0017637368),\n",
       "   ('base', 0.0017637368),\n",
       "   ('numer', 0.0017637364),\n",
       "   ('use', 0.0017637314),\n",
       "   ('propos', 0.0017637309)]),\n",
       " (3,\n",
       "  [('model', 0.041870233),\n",
       "   ('ewatercycl', 0.02325606),\n",
       "   ('platform', 0.014989229),\n",
       "   ('process', 0.0129215885),\n",
       "   ('hydrolog', 0.012919971),\n",
       "   ('scienc', 0.010852753),\n",
       "   ('parametr', 0.010852741),\n",
       "   ('system', 0.008787508),\n",
       "   ('provid', 0.008786422),\n",
       "   ('access', 0.008785535),\n",
       "   ('unresolv', 0.008785521),\n",
       "   ('paper', 0.0067195776),\n",
       "   ('avail', 0.0067195776),\n",
       "   ('studi', 0.006719274),\n",
       "   ('use', 0.0067186183),\n",
       "   ('et', 0.006718315),\n",
       "   ('al', 0.006718315),\n",
       "   ('fair', 0.006718315),\n",
       "   ('commun', 0.006718315),\n",
       "   ('comput', 0.006718315),\n",
       "   ('interfac', 0.006718315),\n",
       "   ('fluid', 0.0067183017),\n",
       "   ('separ', 0.0046517956),\n",
       "   ('numer', 0.004651754),\n",
       "   ('propos', 0.004651679)])]"
      ]
     },
     "execution_count": 32,
     "metadata": {},
     "output_type": "execute_result"
    }
   ],
   "source": [
    "lda_model.show_topics(num_words=25, formatted=False)\n"
   ]
  },
  {
   "cell_type": "code",
   "execution_count": 33,
   "id": "54c2e37d",
   "metadata": {},
   "outputs": [
    {
     "name": "stdout",
     "output_type": "stream",
     "text": [
      "0.001084416\n",
      "0.0010798272\n",
      "0.0010753459\n",
      "0.9967604\n",
      "0.99461305\n",
      "0.0018029399\n",
      "0.001778131\n",
      "0.0018058829\n",
      "0.993448\n",
      "0.0022223713\n",
      "0.0021596113\n",
      "0.002170031\n",
      "0.99625033\n",
      "0.0012538695\n",
      "0.0012352354\n",
      "0.0012605928\n",
      "0.99412096\n",
      "0.0020128905\n",
      "0.0019144075\n",
      "0.0019518129\n",
      "0.002094716\n",
      "0.9939112\n",
      "0.0019884403\n",
      "0.0020056863\n",
      "0.0023199155\n",
      "0.0022932314\n",
      "0.0022576414\n",
      "0.9931292\n",
      "0.0015599736\n",
      "0.995364\n",
      "0.0015277533\n",
      "0.0015482353\n"
     ]
    }
   ],
   "source": [
    "for i in range(len(cleaned_abs_corpus)):\n",
    "    for j1,j2 in lda_model[corpus[i]]:\n",
    "        print(j2)"
   ]
  },
  {
   "cell_type": "code",
   "execution_count": 34,
   "id": "465237b0",
   "metadata": {
    "scrolled": true
   },
   "outputs": [
    {
     "data": {
      "text/html": [
       "<div>\n",
       "<style scoped>\n",
       "    .dataframe tbody tr th:only-of-type {\n",
       "        vertical-align: middle;\n",
       "    }\n",
       "\n",
       "    .dataframe tbody tr th {\n",
       "        vertical-align: top;\n",
       "    }\n",
       "\n",
       "    .dataframe thead th {\n",
       "        text-align: right;\n",
       "    }\n",
       "</style>\n",
       "<table border=\"1\" class=\"dataframe\">\n",
       "  <thead>\n",
       "    <tr style=\"text-align: right;\">\n",
       "      <th></th>\n",
       "      <th>eid</th>\n",
       "      <th>doi</th>\n",
       "      <th>pii</th>\n",
       "      <th>pubmed_id</th>\n",
       "      <th>title</th>\n",
       "      <th>subtype</th>\n",
       "      <th>subtypeDescription</th>\n",
       "      <th>creator</th>\n",
       "      <th>afid</th>\n",
       "      <th>affilname</th>\n",
       "      <th>...</th>\n",
       "      <th>description</th>\n",
       "      <th>authkeywords</th>\n",
       "      <th>citedby_count</th>\n",
       "      <th>openaccess</th>\n",
       "      <th>freetoread</th>\n",
       "      <th>freetoreadLabel</th>\n",
       "      <th>fund_acr</th>\n",
       "      <th>fund_no</th>\n",
       "      <th>fund_sponsor</th>\n",
       "      <th>group</th>\n",
       "    </tr>\n",
       "  </thead>\n",
       "  <tbody>\n",
       "    <tr>\n",
       "      <th>0</th>\n",
       "      <td>2-s2.0-85134310662</td>\n",
       "      <td>10.5194/gmd-15-5371-2022</td>\n",
       "      <td>None</td>\n",
       "      <td>None</td>\n",
       "      <td>The eWaterCycle platform for open and FAIR hyd...</td>\n",
       "      <td>ar</td>\n",
       "      <td>Article</td>\n",
       "      <td>Hut R.</td>\n",
       "      <td>60159380;60118019;60000221</td>\n",
       "      <td>Netherlands eScience Center;Faculteit Civiele ...</td>\n",
       "      <td>...</td>\n",
       "      <td>Hutton et al. (2016) argued that computational...</td>\n",
       "      <td>None</td>\n",
       "      <td>3</td>\n",
       "      <td>1</td>\n",
       "      <td>repositoryvor</td>\n",
       "      <td>Green</td>\n",
       "      <td>None</td>\n",
       "      <td>027.017.F01</td>\n",
       "      <td>Netherlands eScience Center</td>\n",
       "      <td>3</td>\n",
       "    </tr>\n",
       "    <tr>\n",
       "      <th>1</th>\n",
       "      <td>2-s2.0-85093942697</td>\n",
       "      <td>10.5194/wes-5-1097-2020</td>\n",
       "      <td>None</td>\n",
       "      <td>None</td>\n",
       "      <td>Clustering wind profile shapes to estimate air...</td>\n",
       "      <td>ar</td>\n",
       "      <td>Article</td>\n",
       "      <td>Schelbergen M.</td>\n",
       "      <td>60117954;60004156</td>\n",
       "      <td>Faculteit Luchtvaart- en Ruimtevaarttechniek, ...</td>\n",
       "      <td>...</td>\n",
       "      <td>Airborne wind energy (AWE) systems harness ene...</td>\n",
       "      <td>None</td>\n",
       "      <td>4</td>\n",
       "      <td>1</td>\n",
       "      <td>repositoryvor</td>\n",
       "      <td>Green</td>\n",
       "      <td>H2020</td>\n",
       "      <td>H2020-ITN-642682</td>\n",
       "      <td>Horizon 2020 Framework Programme</td>\n",
       "      <td>0</td>\n",
       "    </tr>\n",
       "    <tr>\n",
       "      <th>2</th>\n",
       "      <td>2-s2.0-85079363786</td>\n",
       "      <td>10.1002/qj.3748</td>\n",
       "      <td>None</td>\n",
       "      <td>None</td>\n",
       "      <td>Quality of wind characteristics in recent wind...</td>\n",
       "      <td>ar</td>\n",
       "      <td>Article</td>\n",
       "      <td>Kalverla P.C.</td>\n",
       "      <td>60004156</td>\n",
       "      <td>Wageningen University &amp;amp; Research</td>\n",
       "      <td>...</td>\n",
       "      <td>Offshore wind energy production is rapidly gro...</td>\n",
       "      <td>DOWA | ERA-5 | low-level jets | Meteo Mast IJm...</td>\n",
       "      <td>22</td>\n",
       "      <td>1</td>\n",
       "      <td>publisherhybridgold</td>\n",
       "      <td>Hybrid Gold</td>\n",
       "      <td>NWO</td>\n",
       "      <td>SH‐312‐15</td>\n",
       "      <td>Nederlandse Organisatie voor Wetenschappelijk ...</td>\n",
       "      <td>0</td>\n",
       "    </tr>\n",
       "    <tr>\n",
       "      <th>3</th>\n",
       "      <td>2-s2.0-85070920049</td>\n",
       "      <td>10.5194/wes-4-193-2019</td>\n",
       "      <td>None</td>\n",
       "      <td>None</td>\n",
       "      <td>Low-level jets over the north sea based on ERA...</td>\n",
       "      <td>ar</td>\n",
       "      <td>Article</td>\n",
       "      <td>Kalverla P.C.</td>\n",
       "      <td>60022168;60004156</td>\n",
       "      <td>Energy research Centre of the Netherlands - EC...</td>\n",
       "      <td>...</td>\n",
       "      <td>Ten years of ERA5 reanalysis data are combined...</td>\n",
       "      <td>None</td>\n",
       "      <td>37</td>\n",
       "      <td>1</td>\n",
       "      <td>repositoryam</td>\n",
       "      <td>Green</td>\n",
       "      <td>NWO</td>\n",
       "      <td>SH-312-15</td>\n",
       "      <td>Nederlandse Organisatie voor Wetenschappelijk ...</td>\n",
       "      <td>0</td>\n",
       "    </tr>\n",
       "    <tr>\n",
       "      <th>4</th>\n",
       "      <td>2-s2.0-85052934619</td>\n",
       "      <td>10.1002/we.2267</td>\n",
       "      <td>None</td>\n",
       "      <td>None</td>\n",
       "      <td>Evaluation of three mainstream numerical weath...</td>\n",
       "      <td>ar</td>\n",
       "      <td>Article</td>\n",
       "      <td>Kalverla P.</td>\n",
       "      <td>60004156;60000203</td>\n",
       "      <td>Wageningen University &amp;amp; Research;Royal Net...</td>\n",
       "      <td>...</td>\n",
       "      <td>Numerical weather prediction models play an im...</td>\n",
       "      <td>Met mast IJmuiden | Model evaluation | North S...</td>\n",
       "      <td>14</td>\n",
       "      <td>1</td>\n",
       "      <td>publisherhybridgold</td>\n",
       "      <td>Hybrid Gold</td>\n",
       "      <td>EZ</td>\n",
       "      <td>SH-312-15</td>\n",
       "      <td>Ministerie van Economische Zaken</td>\n",
       "      <td>0</td>\n",
       "    </tr>\n",
       "    <tr>\n",
       "      <th>5</th>\n",
       "      <td>2-s2.0-85015913347</td>\n",
       "      <td>10.1016/j.jweia.2017.03.008</td>\n",
       "      <td>S0167610516307061</td>\n",
       "      <td>None</td>\n",
       "      <td>An observational climatology of anomalous wind...</td>\n",
       "      <td>ar</td>\n",
       "      <td>Article</td>\n",
       "      <td>Kalverla P.C.</td>\n",
       "      <td>60004156;60000203</td>\n",
       "      <td>Wageningen University &amp;amp; Research;Royal Net...</td>\n",
       "      <td>...</td>\n",
       "      <td>Uncertainty reduction in offshore wind systems...</td>\n",
       "      <td>None</td>\n",
       "      <td>29</td>\n",
       "      <td>1</td>\n",
       "      <td>publisherhybridgold</td>\n",
       "      <td>Hybrid Gold</td>\n",
       "      <td>EZ</td>\n",
       "      <td>14185</td>\n",
       "      <td>Ministerie van Economische Zaken</td>\n",
       "      <td>1</td>\n",
       "    </tr>\n",
       "    <tr>\n",
       "      <th>6</th>\n",
       "      <td>2-s2.0-84971254242</td>\n",
       "      <td>10.1002/qj.2817</td>\n",
       "      <td>None</td>\n",
       "      <td>None</td>\n",
       "      <td>A maximum entropy approach to the parametrizat...</td>\n",
       "      <td>ar</td>\n",
       "      <td>Article</td>\n",
       "      <td>Verkley W.</td>\n",
       "      <td>60000203</td>\n",
       "      <td>Royal Netherlands Meteorological Institute</td>\n",
       "      <td>...</td>\n",
       "      <td>In numerical models of geophysical fluid syste...</td>\n",
       "      <td>atmospheric modelling | maximum entropy | para...</td>\n",
       "      <td>12</td>\n",
       "      <td>0</td>\n",
       "      <td>None</td>\n",
       "      <td>None</td>\n",
       "      <td>None</td>\n",
       "      <td>undefined</td>\n",
       "      <td>None</td>\n",
       "      <td>3</td>\n",
       "    </tr>\n",
       "    <tr>\n",
       "      <th>7</th>\n",
       "      <td>2-s2.0-84975217639</td>\n",
       "      <td>10.1175/JAMC-D-15-0258.1</td>\n",
       "      <td>None</td>\n",
       "      <td>None</td>\n",
       "      <td>Evaluation of the weather research and forecas...</td>\n",
       "      <td>ar</td>\n",
       "      <td>Article</td>\n",
       "      <td>Kalverla P.C.</td>\n",
       "      <td>60102124;60004156;60003729</td>\n",
       "      <td>Université Fédérale Toulouse Midi-Pyrénées;Wag...</td>\n",
       "      <td>...</td>\n",
       "      <td>In the winter of 2012/13, the Katabatic Winds ...</td>\n",
       "      <td>Atmosphere-land interaction | Boundary layer |...</td>\n",
       "      <td>25</td>\n",
       "      <td>1</td>\n",
       "      <td>publisherfree2read</td>\n",
       "      <td>Bronze</td>\n",
       "      <td>None</td>\n",
       "      <td>undefined</td>\n",
       "      <td>None</td>\n",
       "      <td>1</td>\n",
       "    </tr>\n",
       "  </tbody>\n",
       "</table>\n",
       "<p>8 rows × 37 columns</p>\n",
       "</div>"
      ],
      "text/plain": [
       "                  eid                          doi                pii  \\\n",
       "0  2-s2.0-85134310662     10.5194/gmd-15-5371-2022               None   \n",
       "1  2-s2.0-85093942697      10.5194/wes-5-1097-2020               None   \n",
       "2  2-s2.0-85079363786              10.1002/qj.3748               None   \n",
       "3  2-s2.0-85070920049       10.5194/wes-4-193-2019               None   \n",
       "4  2-s2.0-85052934619              10.1002/we.2267               None   \n",
       "5  2-s2.0-85015913347  10.1016/j.jweia.2017.03.008  S0167610516307061   \n",
       "6  2-s2.0-84971254242              10.1002/qj.2817               None   \n",
       "7  2-s2.0-84975217639     10.1175/JAMC-D-15-0258.1               None   \n",
       "\n",
       "  pubmed_id                                              title subtype  \\\n",
       "0      None  The eWaterCycle platform for open and FAIR hyd...      ar   \n",
       "1      None  Clustering wind profile shapes to estimate air...      ar   \n",
       "2      None  Quality of wind characteristics in recent wind...      ar   \n",
       "3      None  Low-level jets over the north sea based on ERA...      ar   \n",
       "4      None  Evaluation of three mainstream numerical weath...      ar   \n",
       "5      None  An observational climatology of anomalous wind...      ar   \n",
       "6      None  A maximum entropy approach to the parametrizat...      ar   \n",
       "7      None  Evaluation of the weather research and forecas...      ar   \n",
       "\n",
       "  subtypeDescription         creator                        afid  \\\n",
       "0            Article          Hut R.  60159380;60118019;60000221   \n",
       "1            Article  Schelbergen M.           60117954;60004156   \n",
       "2            Article   Kalverla P.C.                    60004156   \n",
       "3            Article   Kalverla P.C.           60022168;60004156   \n",
       "4            Article     Kalverla P.           60004156;60000203   \n",
       "5            Article   Kalverla P.C.           60004156;60000203   \n",
       "6            Article      Verkley W.                    60000203   \n",
       "7            Article   Kalverla P.C.  60102124;60004156;60003729   \n",
       "\n",
       "                                           affilname  ...  \\\n",
       "0  Netherlands eScience Center;Faculteit Civiele ...  ...   \n",
       "1  Faculteit Luchtvaart- en Ruimtevaarttechniek, ...  ...   \n",
       "2               Wageningen University &amp; Research  ...   \n",
       "3  Energy research Centre of the Netherlands - EC...  ...   \n",
       "4  Wageningen University &amp; Research;Royal Net...  ...   \n",
       "5  Wageningen University &amp; Research;Royal Net...  ...   \n",
       "6         Royal Netherlands Meteorological Institute  ...   \n",
       "7  Université Fédérale Toulouse Midi-Pyrénées;Wag...  ...   \n",
       "\n",
       "                                         description  \\\n",
       "0  Hutton et al. (2016) argued that computational...   \n",
       "1  Airborne wind energy (AWE) systems harness ene...   \n",
       "2  Offshore wind energy production is rapidly gro...   \n",
       "3  Ten years of ERA5 reanalysis data are combined...   \n",
       "4  Numerical weather prediction models play an im...   \n",
       "5  Uncertainty reduction in offshore wind systems...   \n",
       "6  In numerical models of geophysical fluid syste...   \n",
       "7  In the winter of 2012/13, the Katabatic Winds ...   \n",
       "\n",
       "                                        authkeywords citedby_count openaccess  \\\n",
       "0                                               None             3          1   \n",
       "1                                               None             4          1   \n",
       "2  DOWA | ERA-5 | low-level jets | Meteo Mast IJm...            22          1   \n",
       "3                                               None            37          1   \n",
       "4  Met mast IJmuiden | Model evaluation | North S...            14          1   \n",
       "5                                               None            29          1   \n",
       "6  atmospheric modelling | maximum entropy | para...            12          0   \n",
       "7  Atmosphere-land interaction | Boundary layer |...            25          1   \n",
       "\n",
       "            freetoread freetoreadLabel fund_acr           fund_no  \\\n",
       "0        repositoryvor           Green     None       027.017.F01   \n",
       "1        repositoryvor           Green    H2020  H2020-ITN-642682   \n",
       "2  publisherhybridgold     Hybrid Gold      NWO         SH‐312‐15   \n",
       "3         repositoryam           Green      NWO         SH-312-15   \n",
       "4  publisherhybridgold     Hybrid Gold       EZ         SH-312-15   \n",
       "5  publisherhybridgold     Hybrid Gold       EZ             14185   \n",
       "6                 None            None     None         undefined   \n",
       "7   publisherfree2read          Bronze     None         undefined   \n",
       "\n",
       "                                        fund_sponsor group  \n",
       "0                        Netherlands eScience Center     3  \n",
       "1                   Horizon 2020 Framework Programme     0  \n",
       "2  Nederlandse Organisatie voor Wetenschappelijk ...     0  \n",
       "3  Nederlandse Organisatie voor Wetenschappelijk ...     0  \n",
       "4                   Ministerie van Economische Zaken     0  \n",
       "5                   Ministerie van Economische Zaken     1  \n",
       "6                                               None     3  \n",
       "7                                               None     1  \n",
       "\n",
       "[8 rows x 37 columns]"
      ]
     },
     "execution_count": 34,
     "metadata": {},
     "output_type": "execute_result"
    }
   ],
   "source": [
    "group = []\n",
    "for i in range(len(cleaned_abs_corpus)):\n",
    "    scores = []\n",
    "    for j1,j2 in lda_model[corpus[i]]:\n",
    "        scores.append(j2)\n",
    "    group.append(scores.index(max(scores)))\n",
    "docs['group'] = group\n",
    "docs"
   ]
  },
  {
   "cell_type": "code",
   "execution_count": 7,
   "id": "d45d6b64",
   "metadata": {},
   "outputs": [],
   "source": [
    "def lda_cluster(docs):\n",
    "    cleaned_abs_corpus = []\n",
    "    for i in range(len(docs)):\n",
    "        if docs.description[i]:\n",
    "            cleaned_abs_corpus.append(clean_text(docs.description[i]))\n",
    "        else:\n",
    "            cleaned_abs_corpus.append(clean_text(docs.title[i]))\n",
    "\n",
    "    num_topics = 4\n",
    "    dictionary = corpora.Dictionary(cleaned_abs_corpus) \n",
    "    corpus = [dictionary.doc2bow(text) for text in cleaned_abs_corpus]\n",
    "\n",
    "    t0= time.time()\n",
    "    passes= 150\n",
    "    np.random.seed(1)\n",
    "\n",
    "    lda_model = gensim.models.LdaMulticore(corpus=corpus,\n",
    "                                           id2word=dictionary,\n",
    "                                           num_topics=num_topics,\n",
    "                                           chunksize= 4000, \n",
    "                                           batch= True,\n",
    "                                           minimum_probability=0.001,\n",
    "                                           iterations=350,\n",
    "                                           passes=passes)\n",
    "    group = []\n",
    "    for i in range(len(cleaned_abs_corpus)):\n",
    "        scores = []\n",
    "        for j1,j2 in lda_model[corpus[i]]:\n",
    "            scores.append(j2)\n",
    "        group.append(scores.index(max(scores)))\n",
    "    docs['group'] = group\n",
    "    return docs"
   ]
  },
  {
   "cell_type": "code",
   "execution_count": 36,
   "id": "aa6498bb",
   "metadata": {},
   "outputs": [
    {
     "data": {
      "text/plain": [
       "3"
      ]
     },
     "execution_count": 36,
     "metadata": {},
     "output_type": "execute_result"
    }
   ],
   "source": [
    "docs.group[0]"
   ]
  },
  {
   "cell_type": "code",
   "execution_count": 4,
   "id": "3606a235",
   "metadata": {},
   "outputs": [],
   "source": [
    "def nld_coauthor(author_id, depth, node_retrieved):\n",
    "    au = AuthorRetrieval(author_id)\n",
    "    docs = pd.DataFrame(au.get_documents())\n",
    "    # Get clusters of docs\n",
    "    docs = lda_cluster(docs)\n",
    "    # Access to documents for the last five years\n",
    "#     new_docs = docs[(docs.coverDate > '2018')]\n",
    "    au_id = docs.author_ids\n",
    "    \n",
    "    link = []\n",
    "    all_node = []\n",
    "    groups = []\n",
    "    au_group = {}\n",
    "\n",
    "    node_retrieved.append(author_id)\n",
    "    \n",
    "    for i in range(len(au_id)):\n",
    "        coau_id = au_id[i].split(\";\")\n",
    "        coau_id = list(map(int, coau_id))\n",
    "        new_coau_id = []\n",
    "        for j in coau_id:\n",
    "            aff = AuthorRetrieval(j).affiliation_current\n",
    "            if aff:\n",
    "                # Geo-filtering \n",
    "                # todo: all the affiliations \n",
    "                # if AuthorRetrieval(j).affiliation_current[0][7] == 'nld':   \n",
    "                    if j not in all_node:\n",
    "                        all_node.append(j)\n",
    "                    if docs.group[i] not in groups:\n",
    "                        groups.append(docs.group[i])\n",
    "                    new_coau_id.append(j)\n",
    "                    au_group[j] = groups.index(docs.group[i])\n",
    "                    \n",
    "        sorted_new_coauid = list(map(int, new_coau_id))\n",
    "        sorted_new_coauid.sort()\n",
    "        link = link+list(itertools.combinations(sorted_new_coauid, 2))\n",
    "        # Do recursion (increase depth of the network)\n",
    "        if depth > 0:\n",
    "            for j in sorted_new_coauid:\n",
    "                if j not in node_retrieved:\n",
    "                    nld_coauthor(j, depth-1, node_retrieved)\n",
    "    return all_node, link, au_group"
   ]
  },
  {
   "cell_type": "code",
   "execution_count": 16,
   "id": "b4f63764",
   "metadata": {},
   "outputs": [],
   "source": [
    "node_retrieved = []\n",
    "node, link, au_group = nld_coauthor(57189467443, 1, 5, node_retrieved)"
   ]
  },
  {
   "cell_type": "code",
   "execution_count": 26,
   "id": "c0edeb30",
   "metadata": {},
   "outputs": [
    {
     "data": {
      "text/plain": [
       "[(6603507671, 15065185400),\n",
       " (6603507671, 23488924100),\n",
       " (6603507671, 55052390500),\n",
       " (6603507671, 57201991588),\n",
       " (15065185400, 23488924100),\n",
       " (15065185400, 55052390500),\n",
       " (15065185400, 57201991588),\n",
       " (23488924100, 55052390500),\n",
       " (23488924100, 57201991588),\n",
       " (55052390500, 57201991588),\n",
       " (7003773804, 8312994100),\n",
       " (7003773804, 56046806200),\n",
       " (7003773804, 57189467443),\n",
       " (8312994100, 56046806200),\n",
       " (8312994100, 57189467443),\n",
       " (56046806200, 57189467443),\n",
       " (6602265575, 7006904374),\n",
       " (6602265575, 8879755400),\n",
       " (6602265575, 57189467443),\n",
       " (7006904374, 8879755400),\n",
       " (7006904374, 57189467443),\n",
       " (8879755400, 57189467443),\n",
       " (7006904374, 8879755400),\n",
       " (7006904374, 57189467443),\n",
       " (7006904374, 57640658500),\n",
       " (8879755400, 57189467443),\n",
       " (8879755400, 57640658500),\n",
       " (57189467443, 57640658500),\n",
       " (6602265575, 7006904374),\n",
       " (6602265575, 8879755400),\n",
       " (6602265575, 57189467443),\n",
       " (7006904374, 8879755400),\n",
       " (7006904374, 57189467443),\n",
       " (8879755400, 57189467443)]"
      ]
     },
     "execution_count": 26,
     "metadata": {},
     "output_type": "execute_result"
    }
   ],
   "source": [
    "link"
   ]
  },
  {
   "cell_type": "markdown",
   "id": "872361f8",
   "metadata": {},
   "source": [
    "If the quota is exceeded, X-RateLimit-Limit and X-RateLimit-Remaining don’t return. "
   ]
  },
  {
   "cell_type": "code",
   "execution_count": 58,
   "id": "36fa7a10",
   "metadata": {},
   "outputs": [
    {
     "name": "stdout",
     "output_type": "stream",
     "text": [
      "Koller M. from Department of Clinical Research in Switzerland,\n",
      "published 209 document(s) since 2001 \n",
      "which were cited by 4,580 author(s) in 4,995 document(s) as of 2023-02-26\n"
     ]
    }
   ],
   "source": [
    "print(s)"
   ]
  },
  {
   "cell_type": "code",
   "execution_count": 5,
   "id": "1cc9bbf0",
   "metadata": {},
   "outputs": [],
   "source": [
    "def get_coauthor(author_first, author_last, depth):\n",
    "    s = AuthorSearch('AUTHLAST('+author_last+') and AUTHFIRST('+author_first+')')\n",
    "    author_id = s.authors[0].eid.split('-')[-1]\n",
    "    \n",
    "    node_retrieved = []\n",
    "    node, link, au_group = nld_coauthor(author_id, depth, node_retrieved)\n",
    "    sources = []\n",
    "    targets = []\n",
    "    weights = []\n",
    "\n",
    "    for i in link:\n",
    "        sources.append(i[0])\n",
    "        targets.append(i[1])\n",
    "        weights.append(link.count(i))\n",
    "    \n",
    "    # Pyvis network\n",
    "    N = Network(height=800, width=\"100%\", bgcolor=\"#222222\", font_color=\"white\")\n",
    "    N.toggle_hide_edges_on_drag(False)\n",
    "    N.barnes_hut()\n",
    "\n",
    "    edge_data = zip(sources, targets, weights)\n",
    "\n",
    "    for e in edge_data:\n",
    "        src = e[0]\n",
    "        dst = e[1]\n",
    "        w = e[2]\n",
    "\n",
    "        N.add_node(src, src, title=src, group = au_group[src])\n",
    "        N.add_node(dst, dst, title=dst, group = au_group[dst])\n",
    "        N.add_edge(src, dst, value=w)\n",
    "\n",
    "    neighbor_map = N.get_adj_list()\n",
    "\n",
    "    # add neighbor data to node hover data\n",
    "    for node in N.nodes:\n",
    "        neighbors = []\n",
    "        for neighbor_id in neighbor_map[node[\"id\"]]:\n",
    "            neigh = AuthorRetrieval(neighbor_id)\n",
    "            neighbors.append(neigh.given_name+' '+neigh.surname)\n",
    "        #node[\"title\"] = \" Neighbors: \\n\" + \" \\n\".join(neighbors)\n",
    "        node[\"title\"] = \"Link to the author’s API page:\\n\" + AuthorRetrieval(node[\"id\"]).self_link\n",
    "        node[\"value\"] = get_hindex(node[\"id\"])\n",
    "        node[\"label\"] = AuthorRetrieval(node[\"id\"]).given_name+' '+AuthorRetrieval(node[\"id\"]).surname\n",
    "       \n",
    "\n",
    "    N.show(author_last + \".html\")\n",
    "\n"
   ]
  },
  {
   "attachments": {},
   "cell_type": "markdown",
   "id": "1c3f2f24",
   "metadata": {},
   "source": [
    "Example"
   ]
  },
  {
   "cell_type": "code",
   "execution_count": 2,
   "id": "2757721e",
   "metadata": {},
   "outputs": [
    {
     "ename": "PermissionError",
     "evalue": "[Errno 13] Permission denied: '/Users/jennifer/.pybliometrics/Scopus/author_retrieval/ENHANCED/6603615408'",
     "output_type": "error",
     "traceback": [
      "\u001b[0;31m---------------------------------------------------------------------------\u001b[0m",
      "\u001b[0;31mPermissionError\u001b[0m                           Traceback (most recent call last)",
      "\u001b[0;32m/var/folders/fp/vghv4nhj5zg720lgbcqs7x300000gn/T/ipykernel_2553/3903816752.py\u001b[0m in \u001b[0;36m<module>\u001b[0;34m\u001b[0m\n\u001b[0;32m----> 1\u001b[0;31m \u001b[0mscopus\u001b[0m\u001b[0;34m.\u001b[0m\u001b[0mget_coauthor\u001b[0m\u001b[0;34m(\u001b[0m\u001b[0;34m\"Peter\"\u001b[0m\u001b[0;34m,\u001b[0m \u001b[0;34m\"Kalverla\"\u001b[0m\u001b[0;34m,\u001b[0m \u001b[0;36m0\u001b[0m\u001b[0;34m)\u001b[0m\u001b[0;34m\u001b[0m\u001b[0;34m\u001b[0m\u001b[0m\n\u001b[0m",
      "\u001b[0;32m~/RCSNA/rcn-py/notebook/../rcn_py/scopus.py\u001b[0m in \u001b[0;36mget_coauthor\u001b[0;34m(author_first, author_last, depth)\u001b[0m\n\u001b[1;32m    138\u001b[0m \u001b[0;34m\u001b[0m\u001b[0m\n\u001b[1;32m    139\u001b[0m     \u001b[0mnode_retrieved\u001b[0m \u001b[0;34m=\u001b[0m \u001b[0;34m[\u001b[0m\u001b[0;34m]\u001b[0m\u001b[0;34m\u001b[0m\u001b[0;34m\u001b[0m\u001b[0m\n\u001b[0;32m--> 140\u001b[0;31m     \u001b[0mnode\u001b[0m\u001b[0;34m,\u001b[0m \u001b[0mlink\u001b[0m\u001b[0;34m,\u001b[0m \u001b[0mau_group\u001b[0m \u001b[0;34m=\u001b[0m \u001b[0mnld_coauthor\u001b[0m\u001b[0;34m(\u001b[0m\u001b[0mauthor_id\u001b[0m\u001b[0;34m,\u001b[0m \u001b[0mdepth\u001b[0m\u001b[0;34m,\u001b[0m \u001b[0mnode_retrieved\u001b[0m\u001b[0;34m)\u001b[0m\u001b[0;34m\u001b[0m\u001b[0;34m\u001b[0m\u001b[0m\n\u001b[0m\u001b[1;32m    141\u001b[0m     \u001b[0msources\u001b[0m \u001b[0;34m=\u001b[0m \u001b[0;34m[\u001b[0m\u001b[0;34m]\u001b[0m\u001b[0;34m\u001b[0m\u001b[0;34m\u001b[0m\u001b[0m\n\u001b[1;32m    142\u001b[0m     \u001b[0mtargets\u001b[0m \u001b[0;34m=\u001b[0m \u001b[0;34m[\u001b[0m\u001b[0;34m]\u001b[0m\u001b[0;34m\u001b[0m\u001b[0;34m\u001b[0m\u001b[0m\n",
      "\u001b[0;32m~/RCSNA/rcn-py/notebook/../rcn_py/scopus.py\u001b[0m in \u001b[0;36mnld_coauthor\u001b[0;34m(author_id, depth, node_retrieved)\u001b[0m\n\u001b[1;32m    109\u001b[0m         \u001b[0mnew_coau_id\u001b[0m \u001b[0;34m=\u001b[0m \u001b[0;34m[\u001b[0m\u001b[0;34m]\u001b[0m\u001b[0;34m\u001b[0m\u001b[0;34m\u001b[0m\u001b[0m\n\u001b[1;32m    110\u001b[0m         \u001b[0;32mfor\u001b[0m \u001b[0mj\u001b[0m \u001b[0;32min\u001b[0m \u001b[0mcoau_id\u001b[0m\u001b[0;34m:\u001b[0m\u001b[0;34m\u001b[0m\u001b[0;34m\u001b[0m\u001b[0m\n\u001b[0;32m--> 111\u001b[0;31m             \u001b[0maff\u001b[0m \u001b[0;34m=\u001b[0m \u001b[0mAuthorRetrieval\u001b[0m\u001b[0;34m(\u001b[0m\u001b[0mj\u001b[0m\u001b[0;34m)\u001b[0m\u001b[0;34m.\u001b[0m\u001b[0maffiliation_current\u001b[0m\u001b[0;34m\u001b[0m\u001b[0;34m\u001b[0m\u001b[0m\n\u001b[0m\u001b[1;32m    112\u001b[0m             \u001b[0;32mif\u001b[0m \u001b[0maff\u001b[0m\u001b[0;34m:\u001b[0m\u001b[0;34m\u001b[0m\u001b[0;34m\u001b[0m\u001b[0m\n\u001b[1;32m    113\u001b[0m                 \u001b[0;31m# Geo-filtering\u001b[0m\u001b[0;34m\u001b[0m\u001b[0;34m\u001b[0m\u001b[0m\n",
      "\u001b[0;32m~/opt/anaconda3/lib/python3.9/site-packages/pybliometrics/scopus/author_retrieval.py\u001b[0m in \u001b[0;36m__init__\u001b[0;34m(self, author_id, refresh, view, **kwds)\u001b[0m\n\u001b[1;32m    248\u001b[0m         \u001b[0mself\u001b[0m\u001b[0;34m.\u001b[0m\u001b[0m_view\u001b[0m \u001b[0;34m=\u001b[0m \u001b[0mview\u001b[0m\u001b[0;34m\u001b[0m\u001b[0;34m\u001b[0m\u001b[0m\n\u001b[1;32m    249\u001b[0m         \u001b[0mself\u001b[0m\u001b[0;34m.\u001b[0m\u001b[0m_refresh\u001b[0m \u001b[0;34m=\u001b[0m \u001b[0mrefresh\u001b[0m\u001b[0;34m\u001b[0m\u001b[0;34m\u001b[0m\u001b[0m\n\u001b[0;32m--> 250\u001b[0;31m         Retrieval.__init__(self, identifier=self._id,\n\u001b[0m\u001b[1;32m    251\u001b[0m                            api='AuthorRetrieval', **kwds)\n\u001b[1;32m    252\u001b[0m \u001b[0;34m\u001b[0m\u001b[0m\n",
      "\u001b[0;32m~/opt/anaconda3/lib/python3.9/site-packages/pybliometrics/scopus/superclasses/retrieval.py\u001b[0m in \u001b[0;36m__init__\u001b[0;34m(self, identifier, api, id_type, **kwds)\u001b[0m\n\u001b[1;32m     46\u001b[0m         \u001b[0;31m# Parse file contents\u001b[0m\u001b[0;34m\u001b[0m\u001b[0;34m\u001b[0m\u001b[0m\n\u001b[1;32m     47\u001b[0m         \u001b[0mparams\u001b[0m \u001b[0;34m=\u001b[0m \u001b[0;34m{\u001b[0m\u001b[0;34m'view'\u001b[0m\u001b[0;34m:\u001b[0m \u001b[0mself\u001b[0m\u001b[0;34m.\u001b[0m\u001b[0m_view\u001b[0m\u001b[0;34m,\u001b[0m \u001b[0;34m**\u001b[0m\u001b[0mkwds\u001b[0m\u001b[0;34m}\u001b[0m\u001b[0;34m\u001b[0m\u001b[0;34m\u001b[0m\u001b[0m\n\u001b[0;32m---> 48\u001b[0;31m         \u001b[0mBase\u001b[0m\u001b[0;34m.\u001b[0m\u001b[0m__init__\u001b[0m\u001b[0;34m(\u001b[0m\u001b[0mself\u001b[0m\u001b[0;34m,\u001b[0m \u001b[0mparams\u001b[0m\u001b[0;34m=\u001b[0m\u001b[0mparams\u001b[0m\u001b[0;34m,\u001b[0m \u001b[0murl\u001b[0m\u001b[0;34m=\u001b[0m\u001b[0murl\u001b[0m\u001b[0;34m,\u001b[0m \u001b[0mapi\u001b[0m\u001b[0;34m=\u001b[0m\u001b[0mapi\u001b[0m\u001b[0;34m)\u001b[0m\u001b[0;34m\u001b[0m\u001b[0;34m\u001b[0m\u001b[0m\n\u001b[0m",
      "\u001b[0;32m~/opt/anaconda3/lib/python3.9/site-packages/pybliometrics/scopus/superclasses/base.py\u001b[0m in \u001b[0;36m__init__\u001b[0;34m(self, params, url, api, download, verbose, *args, **kwds)\u001b[0m\n\u001b[1;32m     91\u001b[0m             \u001b[0;32mif\u001b[0m \u001b[0mdownload\u001b[0m\u001b[0;34m:\u001b[0m\u001b[0;34m\u001b[0m\u001b[0;34m\u001b[0m\u001b[0m\n\u001b[1;32m     92\u001b[0m                 \u001b[0mtext\u001b[0m \u001b[0;34m=\u001b[0m \u001b[0;34m[\u001b[0m\u001b[0mdumps\u001b[0m\u001b[0;34m(\u001b[0m\u001b[0mitem\u001b[0m\u001b[0;34m,\u001b[0m \u001b[0mseparators\u001b[0m\u001b[0;34m=\u001b[0m\u001b[0;34m(\u001b[0m\u001b[0;34m','\u001b[0m\u001b[0;34m,\u001b[0m \u001b[0;34m':'\u001b[0m\u001b[0;34m)\u001b[0m\u001b[0;34m)\u001b[0m \u001b[0;32mfor\u001b[0m \u001b[0mitem\u001b[0m \u001b[0;32min\u001b[0m \u001b[0mdata\u001b[0m\u001b[0;34m]\u001b[0m\u001b[0;34m\u001b[0m\u001b[0;34m\u001b[0m\u001b[0m\n\u001b[0;32m---> 93\u001b[0;31m                 \u001b[0mfname\u001b[0m\u001b[0;34m.\u001b[0m\u001b[0mwrite_text\u001b[0m\u001b[0;34m(\u001b[0m\u001b[0;34m\"\\n\"\u001b[0m\u001b[0;34m.\u001b[0m\u001b[0mjoin\u001b[0m\u001b[0;34m(\u001b[0m\u001b[0mtext\u001b[0m\u001b[0;34m)\u001b[0m\u001b[0;34m)\u001b[0m\u001b[0;34m\u001b[0m\u001b[0;34m\u001b[0m\u001b[0m\n\u001b[0m\u001b[1;32m     94\u001b[0m \u001b[0;34m\u001b[0m\u001b[0m\n\u001b[1;32m     95\u001b[0m     \u001b[0;32mdef\u001b[0m \u001b[0mget_cache_file_age\u001b[0m\u001b[0;34m(\u001b[0m\u001b[0mself\u001b[0m\u001b[0;34m)\u001b[0m \u001b[0;34m->\u001b[0m \u001b[0mint\u001b[0m\u001b[0;34m:\u001b[0m\u001b[0;34m\u001b[0m\u001b[0;34m\u001b[0m\u001b[0m\n",
      "\u001b[0;32m~/opt/anaconda3/lib/python3.9/pathlib.py\u001b[0m in \u001b[0;36mwrite_text\u001b[0;34m(self, data, encoding, errors)\u001b[0m\n\u001b[1;32m   1283\u001b[0m             raise TypeError('data must be str, not %s' %\n\u001b[1;32m   1284\u001b[0m                             data.__class__.__name__)\n\u001b[0;32m-> 1285\u001b[0;31m         \u001b[0;32mwith\u001b[0m \u001b[0mself\u001b[0m\u001b[0;34m.\u001b[0m\u001b[0mopen\u001b[0m\u001b[0;34m(\u001b[0m\u001b[0mmode\u001b[0m\u001b[0;34m=\u001b[0m\u001b[0;34m'w'\u001b[0m\u001b[0;34m,\u001b[0m \u001b[0mencoding\u001b[0m\u001b[0;34m=\u001b[0m\u001b[0mencoding\u001b[0m\u001b[0;34m,\u001b[0m \u001b[0merrors\u001b[0m\u001b[0;34m=\u001b[0m\u001b[0merrors\u001b[0m\u001b[0;34m)\u001b[0m \u001b[0;32mas\u001b[0m \u001b[0mf\u001b[0m\u001b[0;34m:\u001b[0m\u001b[0;34m\u001b[0m\u001b[0;34m\u001b[0m\u001b[0m\n\u001b[0m\u001b[1;32m   1286\u001b[0m             \u001b[0;32mreturn\u001b[0m \u001b[0mf\u001b[0m\u001b[0;34m.\u001b[0m\u001b[0mwrite\u001b[0m\u001b[0;34m(\u001b[0m\u001b[0mdata\u001b[0m\u001b[0;34m)\u001b[0m\u001b[0;34m\u001b[0m\u001b[0;34m\u001b[0m\u001b[0m\n\u001b[1;32m   1287\u001b[0m \u001b[0;34m\u001b[0m\u001b[0m\n",
      "\u001b[0;32m~/opt/anaconda3/lib/python3.9/pathlib.py\u001b[0m in \u001b[0;36mopen\u001b[0;34m(self, mode, buffering, encoding, errors, newline)\u001b[0m\n\u001b[1;32m   1250\u001b[0m         \u001b[0mthe\u001b[0m \u001b[0mbuilt\u001b[0m\u001b[0;34m-\u001b[0m\u001b[0;32min\u001b[0m \u001b[0mopen\u001b[0m\u001b[0;34m(\u001b[0m\u001b[0;34m)\u001b[0m \u001b[0mfunction\u001b[0m \u001b[0mdoes\u001b[0m\u001b[0;34m.\u001b[0m\u001b[0;34m\u001b[0m\u001b[0;34m\u001b[0m\u001b[0m\n\u001b[1;32m   1251\u001b[0m         \"\"\"\n\u001b[0;32m-> 1252\u001b[0;31m         return io.open(self, mode, buffering, encoding, errors, newline,\n\u001b[0m\u001b[1;32m   1253\u001b[0m                        opener=self._opener)\n\u001b[1;32m   1254\u001b[0m \u001b[0;34m\u001b[0m\u001b[0m\n",
      "\u001b[0;32m~/opt/anaconda3/lib/python3.9/pathlib.py\u001b[0m in \u001b[0;36m_opener\u001b[0;34m(self, name, flags, mode)\u001b[0m\n\u001b[1;32m   1118\u001b[0m     \u001b[0;32mdef\u001b[0m \u001b[0m_opener\u001b[0m\u001b[0;34m(\u001b[0m\u001b[0mself\u001b[0m\u001b[0;34m,\u001b[0m \u001b[0mname\u001b[0m\u001b[0;34m,\u001b[0m \u001b[0mflags\u001b[0m\u001b[0;34m,\u001b[0m \u001b[0mmode\u001b[0m\u001b[0;34m=\u001b[0m\u001b[0;36m0o666\u001b[0m\u001b[0;34m)\u001b[0m\u001b[0;34m:\u001b[0m\u001b[0;34m\u001b[0m\u001b[0;34m\u001b[0m\u001b[0m\n\u001b[1;32m   1119\u001b[0m         \u001b[0;31m# A stub for the opener argument to built-in open()\u001b[0m\u001b[0;34m\u001b[0m\u001b[0;34m\u001b[0m\u001b[0m\n\u001b[0;32m-> 1120\u001b[0;31m         \u001b[0;32mreturn\u001b[0m \u001b[0mself\u001b[0m\u001b[0;34m.\u001b[0m\u001b[0m_accessor\u001b[0m\u001b[0;34m.\u001b[0m\u001b[0mopen\u001b[0m\u001b[0;34m(\u001b[0m\u001b[0mself\u001b[0m\u001b[0;34m,\u001b[0m \u001b[0mflags\u001b[0m\u001b[0;34m,\u001b[0m \u001b[0mmode\u001b[0m\u001b[0;34m)\u001b[0m\u001b[0;34m\u001b[0m\u001b[0;34m\u001b[0m\u001b[0m\n\u001b[0m\u001b[1;32m   1121\u001b[0m \u001b[0;34m\u001b[0m\u001b[0m\n\u001b[1;32m   1122\u001b[0m     \u001b[0;32mdef\u001b[0m \u001b[0m_raw_open\u001b[0m\u001b[0;34m(\u001b[0m\u001b[0mself\u001b[0m\u001b[0;34m,\u001b[0m \u001b[0mflags\u001b[0m\u001b[0;34m,\u001b[0m \u001b[0mmode\u001b[0m\u001b[0;34m=\u001b[0m\u001b[0;36m0o777\u001b[0m\u001b[0;34m)\u001b[0m\u001b[0;34m:\u001b[0m\u001b[0;34m\u001b[0m\u001b[0;34m\u001b[0m\u001b[0m\n",
      "\u001b[0;31mPermissionError\u001b[0m: [Errno 13] Permission denied: '/Users/jennifer/.pybliometrics/Scopus/author_retrieval/ENHANCED/6603615408'"
     ]
    }
   ],
   "source": [
    "scopus.get_coauthor(\"Peter\", \"Kalverla\", 0)"
   ]
  },
  {
   "cell_type": "code",
   "execution_count": 9,
   "id": "81150531",
   "metadata": {},
   "outputs": [
    {
     "ename": "PermissionError",
     "evalue": "[Errno 13] Permission denied: '/Users/jennifer/.pybliometrics/Scopus/author_retrieval/ENHANCED/6603615408'",
     "output_type": "error",
     "traceback": [
      "\u001b[0;31m---------------------------------------------------------------------------\u001b[0m",
      "\u001b[0;31mPermissionError\u001b[0m                           Traceback (most recent call last)",
      "\u001b[0;32m/var/folders/fp/vghv4nhj5zg720lgbcqs7x300000gn/T/ipykernel_2553/2340879143.py\u001b[0m in \u001b[0;36m<module>\u001b[0;34m\u001b[0m\n\u001b[0;32m----> 1\u001b[0;31m \u001b[0mAuthorRetrieval\u001b[0m\u001b[0;34m(\u001b[0m\u001b[0;36m6603615408\u001b[0m\u001b[0;34m)\u001b[0m\u001b[0;34m\u001b[0m\u001b[0;34m\u001b[0m\u001b[0m\n\u001b[0m",
      "\u001b[0;32m~/opt/anaconda3/lib/python3.9/site-packages/pybliometrics/scopus/author_retrieval.py\u001b[0m in \u001b[0;36m__init__\u001b[0;34m(self, author_id, refresh, view, **kwds)\u001b[0m\n\u001b[1;32m    248\u001b[0m         \u001b[0mself\u001b[0m\u001b[0;34m.\u001b[0m\u001b[0m_view\u001b[0m \u001b[0;34m=\u001b[0m \u001b[0mview\u001b[0m\u001b[0;34m\u001b[0m\u001b[0;34m\u001b[0m\u001b[0m\n\u001b[1;32m    249\u001b[0m         \u001b[0mself\u001b[0m\u001b[0;34m.\u001b[0m\u001b[0m_refresh\u001b[0m \u001b[0;34m=\u001b[0m \u001b[0mrefresh\u001b[0m\u001b[0;34m\u001b[0m\u001b[0;34m\u001b[0m\u001b[0m\n\u001b[0;32m--> 250\u001b[0;31m         Retrieval.__init__(self, identifier=self._id,\n\u001b[0m\u001b[1;32m    251\u001b[0m                            api='AuthorRetrieval', **kwds)\n\u001b[1;32m    252\u001b[0m \u001b[0;34m\u001b[0m\u001b[0m\n",
      "\u001b[0;32m~/opt/anaconda3/lib/python3.9/site-packages/pybliometrics/scopus/superclasses/retrieval.py\u001b[0m in \u001b[0;36m__init__\u001b[0;34m(self, identifier, api, id_type, **kwds)\u001b[0m\n\u001b[1;32m     46\u001b[0m         \u001b[0;31m# Parse file contents\u001b[0m\u001b[0;34m\u001b[0m\u001b[0;34m\u001b[0m\u001b[0m\n\u001b[1;32m     47\u001b[0m         \u001b[0mparams\u001b[0m \u001b[0;34m=\u001b[0m \u001b[0;34m{\u001b[0m\u001b[0;34m'view'\u001b[0m\u001b[0;34m:\u001b[0m \u001b[0mself\u001b[0m\u001b[0;34m.\u001b[0m\u001b[0m_view\u001b[0m\u001b[0;34m,\u001b[0m \u001b[0;34m**\u001b[0m\u001b[0mkwds\u001b[0m\u001b[0;34m}\u001b[0m\u001b[0;34m\u001b[0m\u001b[0;34m\u001b[0m\u001b[0m\n\u001b[0;32m---> 48\u001b[0;31m         \u001b[0mBase\u001b[0m\u001b[0;34m.\u001b[0m\u001b[0m__init__\u001b[0m\u001b[0;34m(\u001b[0m\u001b[0mself\u001b[0m\u001b[0;34m,\u001b[0m \u001b[0mparams\u001b[0m\u001b[0;34m=\u001b[0m\u001b[0mparams\u001b[0m\u001b[0;34m,\u001b[0m \u001b[0murl\u001b[0m\u001b[0;34m=\u001b[0m\u001b[0murl\u001b[0m\u001b[0;34m,\u001b[0m \u001b[0mapi\u001b[0m\u001b[0;34m=\u001b[0m\u001b[0mapi\u001b[0m\u001b[0;34m)\u001b[0m\u001b[0;34m\u001b[0m\u001b[0;34m\u001b[0m\u001b[0m\n\u001b[0m",
      "\u001b[0;32m~/opt/anaconda3/lib/python3.9/site-packages/pybliometrics/scopus/superclasses/base.py\u001b[0m in \u001b[0;36m__init__\u001b[0;34m(self, params, url, api, download, verbose, *args, **kwds)\u001b[0m\n\u001b[1;32m     91\u001b[0m             \u001b[0;32mif\u001b[0m \u001b[0mdownload\u001b[0m\u001b[0;34m:\u001b[0m\u001b[0;34m\u001b[0m\u001b[0;34m\u001b[0m\u001b[0m\n\u001b[1;32m     92\u001b[0m                 \u001b[0mtext\u001b[0m \u001b[0;34m=\u001b[0m \u001b[0;34m[\u001b[0m\u001b[0mdumps\u001b[0m\u001b[0;34m(\u001b[0m\u001b[0mitem\u001b[0m\u001b[0;34m,\u001b[0m \u001b[0mseparators\u001b[0m\u001b[0;34m=\u001b[0m\u001b[0;34m(\u001b[0m\u001b[0;34m','\u001b[0m\u001b[0;34m,\u001b[0m \u001b[0;34m':'\u001b[0m\u001b[0;34m)\u001b[0m\u001b[0;34m)\u001b[0m \u001b[0;32mfor\u001b[0m \u001b[0mitem\u001b[0m \u001b[0;32min\u001b[0m \u001b[0mdata\u001b[0m\u001b[0;34m]\u001b[0m\u001b[0;34m\u001b[0m\u001b[0;34m\u001b[0m\u001b[0m\n\u001b[0;32m---> 93\u001b[0;31m                 \u001b[0mfname\u001b[0m\u001b[0;34m.\u001b[0m\u001b[0mwrite_text\u001b[0m\u001b[0;34m(\u001b[0m\u001b[0;34m\"\\n\"\u001b[0m\u001b[0;34m.\u001b[0m\u001b[0mjoin\u001b[0m\u001b[0;34m(\u001b[0m\u001b[0mtext\u001b[0m\u001b[0;34m)\u001b[0m\u001b[0;34m)\u001b[0m\u001b[0;34m\u001b[0m\u001b[0;34m\u001b[0m\u001b[0m\n\u001b[0m\u001b[1;32m     94\u001b[0m \u001b[0;34m\u001b[0m\u001b[0m\n\u001b[1;32m     95\u001b[0m     \u001b[0;32mdef\u001b[0m \u001b[0mget_cache_file_age\u001b[0m\u001b[0;34m(\u001b[0m\u001b[0mself\u001b[0m\u001b[0;34m)\u001b[0m \u001b[0;34m->\u001b[0m \u001b[0mint\u001b[0m\u001b[0;34m:\u001b[0m\u001b[0;34m\u001b[0m\u001b[0;34m\u001b[0m\u001b[0m\n",
      "\u001b[0;32m~/opt/anaconda3/lib/python3.9/pathlib.py\u001b[0m in \u001b[0;36mwrite_text\u001b[0;34m(self, data, encoding, errors)\u001b[0m\n\u001b[1;32m   1283\u001b[0m             raise TypeError('data must be str, not %s' %\n\u001b[1;32m   1284\u001b[0m                             data.__class__.__name__)\n\u001b[0;32m-> 1285\u001b[0;31m         \u001b[0;32mwith\u001b[0m \u001b[0mself\u001b[0m\u001b[0;34m.\u001b[0m\u001b[0mopen\u001b[0m\u001b[0;34m(\u001b[0m\u001b[0mmode\u001b[0m\u001b[0;34m=\u001b[0m\u001b[0;34m'w'\u001b[0m\u001b[0;34m,\u001b[0m \u001b[0mencoding\u001b[0m\u001b[0;34m=\u001b[0m\u001b[0mencoding\u001b[0m\u001b[0;34m,\u001b[0m \u001b[0merrors\u001b[0m\u001b[0;34m=\u001b[0m\u001b[0merrors\u001b[0m\u001b[0;34m)\u001b[0m \u001b[0;32mas\u001b[0m \u001b[0mf\u001b[0m\u001b[0;34m:\u001b[0m\u001b[0;34m\u001b[0m\u001b[0;34m\u001b[0m\u001b[0m\n\u001b[0m\u001b[1;32m   1286\u001b[0m             \u001b[0;32mreturn\u001b[0m \u001b[0mf\u001b[0m\u001b[0;34m.\u001b[0m\u001b[0mwrite\u001b[0m\u001b[0;34m(\u001b[0m\u001b[0mdata\u001b[0m\u001b[0;34m)\u001b[0m\u001b[0;34m\u001b[0m\u001b[0;34m\u001b[0m\u001b[0m\n\u001b[1;32m   1287\u001b[0m \u001b[0;34m\u001b[0m\u001b[0m\n",
      "\u001b[0;32m~/opt/anaconda3/lib/python3.9/pathlib.py\u001b[0m in \u001b[0;36mopen\u001b[0;34m(self, mode, buffering, encoding, errors, newline)\u001b[0m\n\u001b[1;32m   1250\u001b[0m         \u001b[0mthe\u001b[0m \u001b[0mbuilt\u001b[0m\u001b[0;34m-\u001b[0m\u001b[0;32min\u001b[0m \u001b[0mopen\u001b[0m\u001b[0;34m(\u001b[0m\u001b[0;34m)\u001b[0m \u001b[0mfunction\u001b[0m \u001b[0mdoes\u001b[0m\u001b[0;34m.\u001b[0m\u001b[0;34m\u001b[0m\u001b[0;34m\u001b[0m\u001b[0m\n\u001b[1;32m   1251\u001b[0m         \"\"\"\n\u001b[0;32m-> 1252\u001b[0;31m         return io.open(self, mode, buffering, encoding, errors, newline,\n\u001b[0m\u001b[1;32m   1253\u001b[0m                        opener=self._opener)\n\u001b[1;32m   1254\u001b[0m \u001b[0;34m\u001b[0m\u001b[0m\n",
      "\u001b[0;32m~/opt/anaconda3/lib/python3.9/pathlib.py\u001b[0m in \u001b[0;36m_opener\u001b[0;34m(self, name, flags, mode)\u001b[0m\n\u001b[1;32m   1118\u001b[0m     \u001b[0;32mdef\u001b[0m \u001b[0m_opener\u001b[0m\u001b[0;34m(\u001b[0m\u001b[0mself\u001b[0m\u001b[0;34m,\u001b[0m \u001b[0mname\u001b[0m\u001b[0;34m,\u001b[0m \u001b[0mflags\u001b[0m\u001b[0;34m,\u001b[0m \u001b[0mmode\u001b[0m\u001b[0;34m=\u001b[0m\u001b[0;36m0o666\u001b[0m\u001b[0;34m)\u001b[0m\u001b[0;34m:\u001b[0m\u001b[0;34m\u001b[0m\u001b[0;34m\u001b[0m\u001b[0m\n\u001b[1;32m   1119\u001b[0m         \u001b[0;31m# A stub for the opener argument to built-in open()\u001b[0m\u001b[0;34m\u001b[0m\u001b[0;34m\u001b[0m\u001b[0m\n\u001b[0;32m-> 1120\u001b[0;31m         \u001b[0;32mreturn\u001b[0m \u001b[0mself\u001b[0m\u001b[0;34m.\u001b[0m\u001b[0m_accessor\u001b[0m\u001b[0;34m.\u001b[0m\u001b[0mopen\u001b[0m\u001b[0;34m(\u001b[0m\u001b[0mself\u001b[0m\u001b[0;34m,\u001b[0m \u001b[0mflags\u001b[0m\u001b[0;34m,\u001b[0m \u001b[0mmode\u001b[0m\u001b[0;34m)\u001b[0m\u001b[0;34m\u001b[0m\u001b[0;34m\u001b[0m\u001b[0m\n\u001b[0m\u001b[1;32m   1121\u001b[0m \u001b[0;34m\u001b[0m\u001b[0m\n\u001b[1;32m   1122\u001b[0m     \u001b[0;32mdef\u001b[0m \u001b[0m_raw_open\u001b[0m\u001b[0;34m(\u001b[0m\u001b[0mself\u001b[0m\u001b[0;34m,\u001b[0m \u001b[0mflags\u001b[0m\u001b[0;34m,\u001b[0m \u001b[0mmode\u001b[0m\u001b[0;34m=\u001b[0m\u001b[0;36m0o777\u001b[0m\u001b[0;34m)\u001b[0m\u001b[0;34m:\u001b[0m\u001b[0;34m\u001b[0m\u001b[0;34m\u001b[0m\u001b[0m\n",
      "\u001b[0;31mPermissionError\u001b[0m: [Errno 13] Permission denied: '/Users/jennifer/.pybliometrics/Scopus/author_retrieval/ENHANCED/6603615408'"
     ]
    }
   ],
   "source": [
    "\n",
    "AuthorRetrieval(6603615408)\n"
   ]
  },
  {
   "cell_type": "code",
   "execution_count": null,
   "id": "e5142cf3",
   "metadata": {},
   "outputs": [],
   "source": []
  }
 ],
 "metadata": {
  "kernelspec": {
   "display_name": "base",
   "language": "python",
   "name": "python3"
  },
  "language_info": {
   "codemirror_mode": {
    "name": "ipython",
    "version": 3
   },
   "file_extension": ".py",
   "mimetype": "text/x-python",
   "name": "python",
   "nbconvert_exporter": "python",
   "pygments_lexer": "ipython3",
   "version": "3.9.13"
  },
  "vscode": {
   "interpreter": {
    "hash": "78d178f77aa2234760f0004d20edde8d97d9d6aae15b3a03389e75a39bac3a7d"
   }
  }
 },
 "nbformat": 4,
 "nbformat_minor": 5
}
