{
 "cells": [
  {
   "cell_type": "code",
   "execution_count": 57,
   "metadata": {},
   "outputs": [],
   "source": [
    "import pandas as pd\n",
    "import sqlite3\n",
    "from pybliometrics.scopus import AbstractRetrieval\n",
    "from six import string_types, text_type\n",
    "from crossref.restful import Works\n",
    "# import ibis\n",
    "import sys\n",
    "sys.path.append(\"..\")\n",
    "from rcn_py import orcid\n"
   ]
  },
  {
   "cell_type": "code",
   "execution_count": 3,
   "metadata": {},
   "outputs": [],
   "source": [
    "df_peter = pd.read_csv(\"/Users/jennifer/RCSNA/data/Peter Kalverla_crossref.csv\")"
   ]
  },
  {
   "cell_type": "code",
   "execution_count": 10,
   "metadata": {},
   "outputs": [],
   "source": [
    "con = sqlite3.connect(\"tutorial.db\")"
   ]
  },
  {
   "cell_type": "code",
   "execution_count": 11,
   "metadata": {},
   "outputs": [],
   "source": [
    "cur = con.cursor()\n"
   ]
  },
  {
   "cell_type": "code",
   "execution_count": 12,
   "metadata": {},
   "outputs": [
    {
     "data": {
      "text/plain": [
       "<sqlite3.Cursor at 0x7fc879214f80>"
      ]
     },
     "execution_count": 12,
     "metadata": {},
     "output_type": "execute_result"
    }
   ],
   "source": [
    "cur.execute(\"CREATE TABLE test_paper(doi primary key, title, abstract)\")"
   ]
  },
  {
   "cell_type": "code",
   "execution_count": 13,
   "metadata": {},
   "outputs": [
    {
     "data": {
      "text/plain": [
       "<sqlite3.Cursor at 0x7fc879214f80>"
      ]
     },
     "execution_count": 13,
     "metadata": {},
     "output_type": "execute_result"
    }
   ],
   "source": [
    "cur.execute(\"CREATE TABLE test_authors(orcid primary key, name, country)\")\n"
   ]
  },
  {
   "cell_type": "code",
   "execution_count": 16,
   "metadata": {},
   "outputs": [
    {
     "data": {
      "text/plain": [
       "<sqlite3.Cursor at 0x7fc879214f80>"
      ]
     },
     "execution_count": 16,
     "metadata": {},
     "output_type": "execute_result"
    }
   ],
   "source": [
    "cur.execute(\"CREATE TABLE test_author_papers2(orcid, doi, primary key(orcid, doi) FOREIGN KEY(orcid) REFERENCES test_author(orcid), FOREIGN KEY(doi) REFERENCES test_paper(doi))\")"
   ]
  },
  {
   "cell_type": "code",
   "execution_count": 55,
   "metadata": {},
   "outputs": [],
   "source": [
    "con.commit()"
   ]
  },
  {
   "cell_type": "code",
   "execution_count": 56,
   "metadata": {},
   "outputs": [],
   "source": [
    "con.close()"
   ]
  },
  {
   "cell_type": "code",
   "execution_count": 76,
   "metadata": {},
   "outputs": [],
   "source": [
    "''' \n",
    "    author-paper table\n",
    "    author info table\n",
    "    publication table\n",
    "'''\n",
    "\n",
    "def insert_database(orcid_id, fullname): \n",
    "    if len(orcid_id)==0:\n",
    "        orcid_id = orcid.name_to_orcid_id(fullname)\n",
    "    orcid_record = orcid.query_orcid_for_record(orcid_id)\n",
    "    # probably there is null value in every stage, which will occure an error\n",
    "    if len(orcid_record['person']['addresses']['address']) > 0:\n",
    "        country = orcid_record['person']['addresses']['address'][0]['country']['value']\n",
    "    else:\n",
    "        country = ''\n",
    "\n",
    "    docs = orcid.extract_works_section(orcid_record)\n",
    "    \n",
    "    con = sqlite3.connect(\"tutorial.db\")\n",
    "    cur = con.cursor()\n",
    "    works = Works()\n",
    "    orcid_doi_value = []\n",
    "    paper_value = []\n",
    "    for doc in docs:\n",
    "        doi, title = orcid.extract_doi(doc)\n",
    "        # make insert value for orcid-doi\n",
    "        orcid_doi_value.append((orcid_id, doi))\n",
    "\n",
    "        w = works.doi(doi)\n",
    "        # orcid_list, name_list = orcid.get_authors(doi)\n",
    "        \n",
    "        if w:\n",
    "            if 'abstract' in w.keys():\n",
    "                abstract = w['abstract']\n",
    "            else:\n",
    "                abstract = ''\n",
    "        else:\n",
    "            abstract = ''\n",
    "\n",
    "        paper_value.append((doi, title, abstract))\n",
    "        \n",
    "    # author table (orcid, name, country)\n",
    "    cur.execute(\"INSERT or IGNORE INTO authors VALUES (?, ?, ?)\", (orcid_id, fullname, country))\n",
    "    # publication table (doi, title, abstract)\n",
    "    cur.executemany(\"INSERT or IGNORE INTO publications VALUES (?, ?, ?)\", paper_value)\n",
    "    # author-paper table (orcid, doi)\n",
    "    cur.executemany(\"INSERT or IGNORE INTO author_publication VALUES (?, ?)\", orcid_doi_value)\n",
    "    con.commit()\n",
    "    con.close()\n",
    "\n",
    "    return \"Done\"\n",
    "    "
   ]
  },
  {
   "cell_type": "code",
   "execution_count": 72,
   "metadata": {},
   "outputs": [
    {
     "data": {
      "text/plain": [
       "'Done.'"
      ]
     },
     "execution_count": 72,
     "metadata": {},
     "output_type": "execute_result"
    }
   ],
   "source": [
    "insert_database('',\"Peter Kalverla\")"
   ]
  },
  {
   "cell_type": "code",
   "execution_count": 83,
   "metadata": {},
   "outputs": [],
   "source": [
    "# Retrieve the coauthors for publications of the person\n",
    "def insert_coauthors_data(fullname):\n",
    "    orcid_id = orcid.name_to_orcid_id(fullname)\n",
    "    orcid_record = orcid.query_orcid_for_record(orcid_id)\n",
    "    if orcid_record == False:\n",
    "        return\n",
    "    docs = orcid.extract_works_section(orcid_record)\n",
    "\n",
    "    for doc in docs:\n",
    "        doi, title = orcid.extract_doi(doc)\n",
    "        orcid_list, name_list = orcid.get_authors(doi)\n",
    "        for i in range(len(orcid_list)): \n",
    "            insert_database(orcid_list[i], name_list[i])\n",
    "\n",
    "    return \"Done!\"\n",
    "    "
   ]
  },
  {
   "cell_type": "code",
   "execution_count": 84,
   "metadata": {},
   "outputs": [
    {
     "ename": "TypeError",
     "evalue": "'NoneType' object is not subscriptable",
     "output_type": "error",
     "traceback": [
      "\u001b[0;31m---------------------------------------------------------------------------\u001b[0m",
      "\u001b[0;31mTypeError\u001b[0m                                 Traceback (most recent call last)",
      "\u001b[0;32m/var/folders/fp/vghv4nhj5zg720lgbcqs7x300000gn/T/ipykernel_29612/3749545472.py\u001b[0m in \u001b[0;36m<module>\u001b[0;34m\u001b[0m\n\u001b[0;32m----> 1\u001b[0;31m \u001b[0minsert_coauthors_data\u001b[0m\u001b[0;34m(\u001b[0m\u001b[0;34m\"Peter Kalverla\"\u001b[0m\u001b[0;34m)\u001b[0m\u001b[0;34m\u001b[0m\u001b[0;34m\u001b[0m\u001b[0m\n\u001b[0m",
      "\u001b[0;32m/var/folders/fp/vghv4nhj5zg720lgbcqs7x300000gn/T/ipykernel_29612/31433231.py\u001b[0m in \u001b[0;36minsert_coauthors_data\u001b[0;34m(fullname)\u001b[0m\n\u001b[1;32m     11\u001b[0m         \u001b[0morcid_list\u001b[0m\u001b[0;34m,\u001b[0m \u001b[0mname_list\u001b[0m \u001b[0;34m=\u001b[0m \u001b[0morcid\u001b[0m\u001b[0;34m.\u001b[0m\u001b[0mget_authors\u001b[0m\u001b[0;34m(\u001b[0m\u001b[0mdoi\u001b[0m\u001b[0;34m)\u001b[0m\u001b[0;34m\u001b[0m\u001b[0;34m\u001b[0m\u001b[0m\n\u001b[1;32m     12\u001b[0m         \u001b[0;32mfor\u001b[0m \u001b[0mi\u001b[0m \u001b[0;32min\u001b[0m \u001b[0mrange\u001b[0m\u001b[0;34m(\u001b[0m\u001b[0mlen\u001b[0m\u001b[0;34m(\u001b[0m\u001b[0morcid_list\u001b[0m\u001b[0;34m)\u001b[0m\u001b[0;34m)\u001b[0m\u001b[0;34m:\u001b[0m\u001b[0;34m\u001b[0m\u001b[0;34m\u001b[0m\u001b[0m\n\u001b[0;32m---> 13\u001b[0;31m             \u001b[0minsert_database\u001b[0m\u001b[0;34m(\u001b[0m\u001b[0morcid_list\u001b[0m\u001b[0;34m[\u001b[0m\u001b[0mi\u001b[0m\u001b[0;34m]\u001b[0m\u001b[0;34m,\u001b[0m \u001b[0mname_list\u001b[0m\u001b[0;34m[\u001b[0m\u001b[0mi\u001b[0m\u001b[0;34m]\u001b[0m\u001b[0;34m)\u001b[0m\u001b[0;34m\u001b[0m\u001b[0;34m\u001b[0m\u001b[0m\n\u001b[0m\u001b[1;32m     14\u001b[0m \u001b[0;34m\u001b[0m\u001b[0m\n\u001b[1;32m     15\u001b[0m     \u001b[0;32mreturn\u001b[0m \u001b[0;34m\"Done!\"\u001b[0m\u001b[0;34m\u001b[0m\u001b[0;34m\u001b[0m\u001b[0m\n",
      "\u001b[0;32m/var/folders/fp/vghv4nhj5zg720lgbcqs7x300000gn/T/ipykernel_29612/4034337838.py\u001b[0m in \u001b[0;36minsert_database\u001b[0;34m(orcid_id, fullname)\u001b[0m\n\u001b[1;32m     23\u001b[0m     \u001b[0mpaper_value\u001b[0m \u001b[0;34m=\u001b[0m \u001b[0;34m[\u001b[0m\u001b[0;34m]\u001b[0m\u001b[0;34m\u001b[0m\u001b[0;34m\u001b[0m\u001b[0m\n\u001b[1;32m     24\u001b[0m     \u001b[0;32mfor\u001b[0m \u001b[0mdoc\u001b[0m \u001b[0;32min\u001b[0m \u001b[0mdocs\u001b[0m\u001b[0;34m:\u001b[0m\u001b[0;34m\u001b[0m\u001b[0;34m\u001b[0m\u001b[0m\n\u001b[0;32m---> 25\u001b[0;31m         \u001b[0mdoi\u001b[0m\u001b[0;34m,\u001b[0m \u001b[0mtitle\u001b[0m \u001b[0;34m=\u001b[0m \u001b[0morcid\u001b[0m\u001b[0;34m.\u001b[0m\u001b[0mextract_doi\u001b[0m\u001b[0;34m(\u001b[0m\u001b[0mdoc\u001b[0m\u001b[0;34m)\u001b[0m\u001b[0;34m\u001b[0m\u001b[0;34m\u001b[0m\u001b[0m\n\u001b[0m\u001b[1;32m     26\u001b[0m         \u001b[0;31m# make insert value for orcid-doi\u001b[0m\u001b[0;34m\u001b[0m\u001b[0;34m\u001b[0m\u001b[0m\n\u001b[1;32m     27\u001b[0m         \u001b[0morcid_doi_value\u001b[0m\u001b[0;34m.\u001b[0m\u001b[0mappend\u001b[0m\u001b[0;34m(\u001b[0m\u001b[0;34m(\u001b[0m\u001b[0morcid_id\u001b[0m\u001b[0;34m,\u001b[0m \u001b[0mdoi\u001b[0m\u001b[0;34m)\u001b[0m\u001b[0;34m)\u001b[0m\u001b[0;34m\u001b[0m\u001b[0;34m\u001b[0m\u001b[0m\n",
      "\u001b[0;32m~/RCSNA/rcn-py/notebook/../rcn_py/orcid.py\u001b[0m in \u001b[0;36mextract_doi\u001b[0;34m(work)\u001b[0m\n\u001b[1;32m    134\u001b[0m     \u001b[0mwork_summary\u001b[0m \u001b[0;34m=\u001b[0m \u001b[0mwork\u001b[0m\u001b[0;34m[\u001b[0m\u001b[0;34m'work-summary'\u001b[0m\u001b[0;34m]\u001b[0m\u001b[0;34m[\u001b[0m\u001b[0;36m0\u001b[0m\u001b[0;34m]\u001b[0m\u001b[0;34m\u001b[0m\u001b[0;34m\u001b[0m\u001b[0m\n\u001b[1;32m    135\u001b[0m     \u001b[0mtitle\u001b[0m \u001b[0;34m=\u001b[0m \u001b[0mwork_summary\u001b[0m\u001b[0;34m[\u001b[0m\u001b[0;34m'title'\u001b[0m\u001b[0;34m]\u001b[0m\u001b[0;34m[\u001b[0m\u001b[0;34m'title'\u001b[0m\u001b[0;34m]\u001b[0m\u001b[0;34m[\u001b[0m\u001b[0;34m'value'\u001b[0m\u001b[0;34m]\u001b[0m\u001b[0;34m\u001b[0m\u001b[0;34m\u001b[0m\u001b[0m\n\u001b[0;32m--> 136\u001b[0;31m     \u001b[0mdois\u001b[0m \u001b[0;34m=\u001b[0m  \u001b[0;34m[\u001b[0m\u001b[0mdoi\u001b[0m\u001b[0;34m[\u001b[0m\u001b[0;34m'external-id-value'\u001b[0m\u001b[0;34m]\u001b[0m \u001b[0;32mfor\u001b[0m \u001b[0mdoi\u001b[0m \u001b[0;32min\u001b[0m \u001b[0mwork_summary\u001b[0m\u001b[0;34m[\u001b[0m\u001b[0;34m'external-ids'\u001b[0m\u001b[0;34m]\u001b[0m\u001b[0;34m[\u001b[0m\u001b[0;34m'external-id'\u001b[0m\u001b[0;34m]\u001b[0m \u001b[0;32mif\u001b[0m \u001b[0mdoi\u001b[0m \u001b[0;32mif\u001b[0m \u001b[0mdoi\u001b[0m\u001b[0;34m[\u001b[0m\u001b[0;34m'external-id-type'\u001b[0m\u001b[0;34m]\u001b[0m\u001b[0;34m==\u001b[0m\u001b[0;34m\"doi\"\u001b[0m\u001b[0;34m]\u001b[0m\u001b[0;34m\u001b[0m\u001b[0;34m\u001b[0m\u001b[0m\n\u001b[0m\u001b[1;32m    137\u001b[0m     \u001b[0;31m# if there is a DOI, we can extract the first one\u001b[0m\u001b[0;34m\u001b[0m\u001b[0;34m\u001b[0m\u001b[0m\n\u001b[1;32m    138\u001b[0m     \u001b[0mdoi\u001b[0m \u001b[0;34m=\u001b[0m \u001b[0mdois\u001b[0m\u001b[0;34m[\u001b[0m\u001b[0;36m0\u001b[0m\u001b[0;34m]\u001b[0m \u001b[0;32mif\u001b[0m \u001b[0mdois\u001b[0m \u001b[0;32melse\u001b[0m \u001b[0;32mNone\u001b[0m\u001b[0;34m\u001b[0m\u001b[0;34m\u001b[0m\u001b[0m\n",
      "\u001b[0;31mTypeError\u001b[0m: 'NoneType' object is not subscriptable"
     ]
    }
   ],
   "source": [
    "insert_coauthors_data(\"Peter Kalverla\")"
   ]
  },
  {
   "cell_type": "code",
   "execution_count": 88,
   "metadata": {},
   "outputs": [],
   "source": [
    "works = orcid_record['activities-summary']['works']['group']"
   ]
  },
  {
   "cell_type": "code",
   "execution_count": 89,
   "metadata": {},
   "outputs": [
    {
     "data": {
      "text/plain": [
       "{'last-modified-date': {'value': 1654040356185},\n",
       " 'external-ids': {'external-id': [{'external-id-type': 'doi',\n",
       "    'external-id-value': '10.5194/egusphere-egu21-9387',\n",
       "    'external-id-normalized': {'value': '10.5194/egusphere-egu21-9387',\n",
       "     'transient': True},\n",
       "    'external-id-normalized-error': None,\n",
       "    'external-id-url': {'value': 'https://doi.org/10.5194/egusphere-egu21-9387'},\n",
       "    'external-id-relationship': 'self'}]},\n",
       " 'work-summary': [{'put-code': 89903286,\n",
       "   'created-date': {'value': 1614838570891},\n",
       "   'last-modified-date': {'value': 1654040356185},\n",
       "   'source': {'source-orcid': None,\n",
       "    'source-client-id': {'uri': 'https://orcid.org/client/0000-0001-9884-1913',\n",
       "     'path': '0000-0001-9884-1913',\n",
       "     'host': 'orcid.org'},\n",
       "    'source-name': {'value': 'Crossref'},\n",
       "    'assertion-origin-orcid': None,\n",
       "    'assertion-origin-client-id': None,\n",
       "    'assertion-origin-name': None},\n",
       "   'title': {'title': {'value': 'A multi-model ensemble weighting method (ClimWIP) in ESMValTool'},\n",
       "    'subtitle': None,\n",
       "    'translated-title': None},\n",
       "   'external-ids': {'external-id': [{'external-id-type': 'doi',\n",
       "      'external-id-value': '10.5194/egusphere-egu21-9387',\n",
       "      'external-id-normalized': {'value': '10.5194/egusphere-egu21-9387',\n",
       "       'transient': True},\n",
       "      'external-id-normalized-error': None,\n",
       "      'external-id-url': {'value': 'https://doi.org/10.5194/egusphere-egu21-9387'},\n",
       "      'external-id-relationship': 'self'}]},\n",
       "   'url': {'value': 'https://doi.org/10.5194/egusphere-egu21-9387'},\n",
       "   'type': 'other',\n",
       "   'publication-date': {'year': {'value': '2021'},\n",
       "    'month': {'value': '03'},\n",
       "    'day': {'value': '04'}},\n",
       "   'journal-title': None,\n",
       "   'visibility': 'public',\n",
       "   'path': '/0000-0002-5025-7862/work/89903286',\n",
       "   'display-index': '0'}]}"
      ]
     },
     "execution_count": 89,
     "metadata": {},
     "output_type": "execute_result"
    }
   ],
   "source": [
    "works[0]"
   ]
  },
  {
   "cell_type": "code",
   "execution_count": 90,
   "metadata": {},
   "outputs": [],
   "source": [
    "work_summary = works[0]['work-summary'][0]"
   ]
  },
  {
   "cell_type": "code",
   "execution_count": 91,
   "metadata": {},
   "outputs": [
    {
     "data": {
      "text/plain": [
       "{'put-code': 89903286,\n",
       " 'created-date': {'value': 1614838570891},\n",
       " 'last-modified-date': {'value': 1654040356185},\n",
       " 'source': {'source-orcid': None,\n",
       "  'source-client-id': {'uri': 'https://orcid.org/client/0000-0001-9884-1913',\n",
       "   'path': '0000-0001-9884-1913',\n",
       "   'host': 'orcid.org'},\n",
       "  'source-name': {'value': 'Crossref'},\n",
       "  'assertion-origin-orcid': None,\n",
       "  'assertion-origin-client-id': None,\n",
       "  'assertion-origin-name': None},\n",
       " 'title': {'title': {'value': 'A multi-model ensemble weighting method (ClimWIP) in ESMValTool'},\n",
       "  'subtitle': None,\n",
       "  'translated-title': None},\n",
       " 'external-ids': {'external-id': [{'external-id-type': 'doi',\n",
       "    'external-id-value': '10.5194/egusphere-egu21-9387',\n",
       "    'external-id-normalized': {'value': '10.5194/egusphere-egu21-9387',\n",
       "     'transient': True},\n",
       "    'external-id-normalized-error': None,\n",
       "    'external-id-url': {'value': 'https://doi.org/10.5194/egusphere-egu21-9387'},\n",
       "    'external-id-relationship': 'self'}]},\n",
       " 'url': {'value': 'https://doi.org/10.5194/egusphere-egu21-9387'},\n",
       " 'type': 'other',\n",
       " 'publication-date': {'year': {'value': '2021'},\n",
       "  'month': {'value': '03'},\n",
       "  'day': {'value': '04'}},\n",
       " 'journal-title': None,\n",
       " 'visibility': 'public',\n",
       " 'path': '/0000-0002-5025-7862/work/89903286',\n",
       " 'display-index': '0'}"
      ]
     },
     "execution_count": 91,
     "metadata": {},
     "output_type": "execute_result"
    }
   ],
   "source": [
    "work_summary"
   ]
  },
  {
   "cell_type": "code",
   "execution_count": 92,
   "metadata": {},
   "outputs": [],
   "source": [
    "dois =  [doi['external-id-value'] for doi in work_summary['external-ids']['external-id'] if doi if doi['external-id-type']==\"doi\"]\n",
    " "
   ]
  },
  {
   "cell_type": "code",
   "execution_count": 93,
   "metadata": {},
   "outputs": [
    {
     "data": {
      "text/plain": [
       "['10.5194/egusphere-egu21-9387']"
      ]
     },
     "execution_count": 93,
     "metadata": {},
     "output_type": "execute_result"
    }
   ],
   "source": [
    "dois"
   ]
  },
  {
   "cell_type": "code",
   "execution_count": 95,
   "metadata": {},
   "outputs": [],
   "source": [
    "dois = []\n",
    "if 'external-id' in work_summary['external-ids'].keys():\n",
    "    for ws in work_summary['external-ids']['external-id']:\n",
    "        if 'external-id-type' in ws.keys() and 'external-id-value' in ws.keys():\n",
    "            if ws['external-id-type']==\"doi\":\n",
    "                dois.append(ws['external-id-value'])"
   ]
  },
  {
   "cell_type": "code",
   "execution_count": 97,
   "metadata": {},
   "outputs": [
    {
     "data": {
      "text/plain": [
       "'10.5194/egusphere-egu21-9387'"
      ]
     },
     "execution_count": 97,
     "metadata": {},
     "output_type": "execute_result"
    }
   ],
   "source": [
    "dois[0]"
   ]
  },
  {
   "cell_type": "code",
   "execution_count": null,
   "metadata": {},
   "outputs": [],
   "source": []
  }
 ],
 "metadata": {
  "kernelspec": {
   "display_name": "base",
   "language": "python",
   "name": "python3"
  },
  "language_info": {
   "codemirror_mode": {
    "name": "ipython",
    "version": 3
   },
   "file_extension": ".py",
   "mimetype": "text/x-python",
   "name": "python",
   "nbconvert_exporter": "python",
   "pygments_lexer": "ipython3",
   "version": "3.9.13"
  },
  "orig_nbformat": 4,
  "vscode": {
   "interpreter": {
    "hash": "78d178f77aa2234760f0004d20edde8d97d9d6aae15b3a03389e75a39bac3a7d"
   }
  }
 },
 "nbformat": 4,
 "nbformat_minor": 2
}
