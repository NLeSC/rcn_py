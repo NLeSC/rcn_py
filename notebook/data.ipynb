{
 "cells": [
  {
   "cell_type": "code",
   "execution_count": 2,
   "metadata": {},
   "outputs": [
    {
     "name": "stderr",
     "output_type": "stream",
     "text": [
      "[nltk_data] Downloading package omw-1.4 to\n",
      "[nltk_data]     /Users/jennifer/nltk_data...\n",
      "[nltk_data]   Package omw-1.4 is already up-to-date!\n",
      "[nltk_data] Downloading package stopwords to\n",
      "[nltk_data]     /Users/jennifer/nltk_data...\n",
      "[nltk_data]   Package stopwords is already up-to-date!\n",
      "[nltk_data] Downloading package wordnet to\n",
      "[nltk_data]     /Users/jennifer/nltk_data...\n",
      "[nltk_data]   Package wordnet is already up-to-date!\n",
      "[nltk_data] Downloading package stopwords to\n",
      "[nltk_data]     /Users/jennifer/nltk_data...\n",
      "[nltk_data]   Package stopwords is already up-to-date!\n",
      "[nltk_data] Downloading package wordnet to\n",
      "[nltk_data]     /Users/jennifer/nltk_data...\n",
      "[nltk_data]   Package wordnet is already up-to-date!\n",
      "[nltk_data] Downloading package omw-1.4 to\n",
      "[nltk_data]     /Users/jennifer/nltk_data...\n",
      "[nltk_data]   Package omw-1.4 is already up-to-date!\n",
      "[nltk_data] Downloading package stopwords to\n",
      "[nltk_data]     /Users/jennifer/nltk_data...\n",
      "[nltk_data]   Package stopwords is already up-to-date!\n",
      "[nltk_data] Downloading package wordnet to\n",
      "[nltk_data]     /Users/jennifer/nltk_data...\n",
      "[nltk_data]   Package wordnet is already up-to-date!\n"
     ]
    }
   ],
   "source": [
    "from pybliometrics.scopus import AuthorSearch\n",
    "from pybliometrics.scopus import AuthorRetrieval\n",
    "from scholarly import scholarly\n",
    "import pandas as pd\n",
    "import sys\n",
    "sys.path.append(\"..\")\n",
    "from rcn_py import orcid\n",
    "from rcn_py import data_storage\n",
    "import nltk\n",
    "from nltk.corpus import stopwords\n",
    "from nltk.stem import WordNetLemmatizer\n",
    "from nltk.stem import PorterStemmer\n",
    "nltk.download('omw-1.4')\n",
    "nltk.download(\"stopwords\")\n",
    "nltk.download('wordnet')\n",
    "stop_words = set(stopwords.words(\"english\"))\n",
    "wnl = WordNetLemmatizer()\n",
    "ps = PorterStemmer()\n",
    "\n"
   ]
  },
  {
   "attachments": {},
   "cell_type": "markdown",
   "metadata": {},
   "source": [
    "### Scopus"
   ]
  },
  {
   "cell_type": "code",
   "execution_count": null,
   "metadata": {},
   "outputs": [],
   "source": [
    "fullname = 'Stefan Verhoeven'\n",
    "author_last = 'Verhoeven'\n",
    "author_first = 'Stefan'\n"
   ]
  },
  {
   "cell_type": "code",
   "execution_count": null,
   "metadata": {},
   "outputs": [],
   "source": [
    "s = AuthorSearch('AUTHLAST('+author_last+') and AUTHFIRST('+author_first+')')\n",
    "#s = AuthorSearch('Stefan Verhoeven')\n",
    "author_id = s.authors[0].eid.split('-')[-1]\n",
    "#s.authors[0]"
   ]
  },
  {
   "cell_type": "code",
   "execution_count": null,
   "metadata": {},
   "outputs": [],
   "source": [
    "au = AuthorRetrieval(author_id)\n",
    "docs = pd.DataFrame(au.get_documents())"
   ]
  },
  {
   "attachments": {},
   "cell_type": "markdown",
   "metadata": {},
   "source": [
    "### Google Scholar"
   ]
  },
  {
   "cell_type": "code",
   "execution_count": null,
   "metadata": {},
   "outputs": [],
   "source": [
    "# search publication info using title\n",
    "search_pub = scholarly.search_pubs('17B. 6 LONG TERM OBSERVATIONS OF LONG WAVE RADIATIVE FLUX DIVERGENCE IN THE STABLE BOUNDARY LAYER OVER LAND')\n",
    "pubinfo=next(search_pub)"
   ]
  },
  {
   "cell_type": "code",
   "execution_count": null,
   "metadata": {},
   "outputs": [],
   "source": [
    "# author info searched by scholar id\n",
    "search_query_author = scholarly.search_author_id(\"TOokPzcAAAAJ\")\n",
    "search_query_author"
   ]
  },
  {
   "cell_type": "code",
   "execution_count": null,
   "metadata": {},
   "outputs": [],
   "source": [
    "# author info using name\n",
    "search_query_author2 = scholarly.search_author('Peter Kalverla')\n",
    "authorinfo = scholarly.fill(next(search_query_author2))"
   ]
  },
  {
   "cell_type": "code",
   "execution_count": null,
   "metadata": {},
   "outputs": [],
   "source": [
    "# save paper info as csv file \n",
    "data_storage.get_scholar_data('Peter Kalverla', \"/Users/jennifer/RCSNA/data\")"
   ]
  },
  {
   "attachments": {},
   "cell_type": "markdown",
   "metadata": {},
   "source": [
    "### Crossref (ORCID)"
   ]
  },
  {
   "cell_type": "code",
   "execution_count": null,
   "metadata": {},
   "outputs": [],
   "source": [
    "# Using rcn_py.orcid functions\n",
    "orcid_id = orcid.name_to_orcid_id(fullname)\n",
    "orcid_record = orcid.query_orcid_for_record(orcid_id)\n",
    "docs = orcid.extract_works_section(orcid_record)"
   ]
  },
  {
   "cell_type": "code",
   "execution_count": null,
   "metadata": {},
   "outputs": [],
   "source": [
    "# Store all publication info of one person\n",
    "data_storage.get_crossref_data_by_name(\"Peter Kalverla\", \"/Users/jennifer/RCSNA/data\")"
   ]
  },
  {
   "cell_type": "code",
   "execution_count": null,
   "metadata": {},
   "outputs": [],
   "source": [
    "# Get all publications of all coauthors and do de-duplication\n",
    "# Long running time\n",
    "df = data_storage.coauthor_data_from_csv(\"Peter Kalverla\", \"/Users/jennifer/RCSNA/data\")"
   ]
  },
  {
   "cell_type": "code",
   "execution_count": null,
   "metadata": {},
   "outputs": [],
   "source": [
    "node_data = data_storage.assign_group_node(\"Peter Kalverla\", \"/Users/jennifer/RCSNA/data\")"
   ]
  },
  {
   "cell_type": "code",
   "execution_count": null,
   "metadata": {},
   "outputs": [],
   "source": [
    "links = data_storage.get_links_from_csv(\"Stefan Verhoeven\", \"/Users/jennifer/RCSNA/data\")"
   ]
  },
  {
   "cell_type": "code",
   "execution_count": null,
   "metadata": {},
   "outputs": [],
   "source": [
    "data_storage.build_network_by_datafile(\"Peter Kalverla\", \"/Users/jennifer/RCSNA/data\", \"/Users/jennifer/RCSNA/visualization\")"
   ]
  },
  {
   "cell_type": "code",
   "execution_count": null,
   "metadata": {},
   "outputs": [],
   "source": []
  },
  {
   "cell_type": "code",
   "execution_count": null,
   "metadata": {},
   "outputs": [],
   "source": []
  },
  {
   "cell_type": "code",
   "execution_count": 7,
   "metadata": {},
   "outputs": [
    {
     "data": {
      "text/plain": [
       "97"
      ]
     },
     "execution_count": 7,
     "metadata": {},
     "output_type": "execute_result"
    }
   ],
   "source": [
    "df = pd.read_csv(\"/Users/jennifer/RCSNA/data/Peter Kalverla_crossref.csv\")\n",
    "authors_list = df['author_orcid']\n",
    "frames = []\n",
    "ids = []\n",
    "for coauthors_id in authors_list:\n",
    "    coauthors_id = coauthors_id.strip('[')\n",
    "    coauthors_id = coauthors_id.strip(']')\n",
    "    coauthors_id = coauthors_id.split(',')\n",
    "    for id in coauthors_id:\n",
    "        id = id.strip('\\' ')\n",
    "        \n",
    "len(ids)"
   ]
  },
  {
   "cell_type": "code",
   "execution_count": 3,
   "metadata": {},
   "outputs": [],
   "source": [
    "# Get all publications of all coauthors and do de-duplication\n",
    "def coauthor_data_from_csv(fullname, folderpath):\n",
    "    df = pd.read_csv(\"/Users/jennifer/RCSNA/data/Peter Kalverla_crossref.csv\")\n",
    "    authors_list = df['author_orcid']\n",
    "    frames = []\n",
    "    frames.append(df)\n",
    "    for coauthors_id in authors_list:\n",
    "        coauthors_id = coauthors_id.strip('[')\n",
    "        coauthors_id = coauthors_id.strip(']')\n",
    "        coauthors_id = coauthors_id.split(',')\n",
    "        for id in coauthors_id:\n",
    "            id = id.strip('\\' ')\n",
    "            orcid_record = orcid.query_orcid_for_record(id)\n",
    "            if orcid_record['person']['addresses']['address']:\n",
    "                country = orcid_record['person']['addresses']['address'][0]['country']['value']\n",
    "            else:\n",
    "                country = ''\n",
    "            if country == 'NL':\n",
    "                if id != orcid_id:\n",
    "                    df2 = data_storage.get_crossref_data_by_orcid(id)\n",
    "                    if not df2.empty:\n",
    "                        frames.append(df2)\n",
    "    new_df = pd.concat(frames)\n",
    "    new_df2 = new_df.drop_duplicates(subset = ['doi'],keep='first', ignore_index=True)\n",
    "    new_df2.to_csv(folderpath+'/'+fullname+\"_coauthors_allpub.csv\")\n",
    "    return new_df2\n",
    "   "
   ]
  },
  {
   "cell_type": "code",
   "execution_count": null,
   "metadata": {},
   "outputs": [],
   "source": []
  }
 ],
 "metadata": {
  "kernelspec": {
   "display_name": "base",
   "language": "python",
   "name": "python3"
  },
  "language_info": {
   "codemirror_mode": {
    "name": "ipython",
    "version": 3
   },
   "file_extension": ".py",
   "mimetype": "text/x-python",
   "name": "python",
   "nbconvert_exporter": "python",
   "pygments_lexer": "ipython3",
   "version": "3.9.13"
  },
  "orig_nbformat": 4,
  "vscode": {
   "interpreter": {
    "hash": "78d178f77aa2234760f0004d20edde8d97d9d6aae15b3a03389e75a39bac3a7d"
   }
  }
 },
 "nbformat": 4,
 "nbformat_minor": 2
}
