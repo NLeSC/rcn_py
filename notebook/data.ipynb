{
 "cells": [
  {
   "cell_type": "code",
   "execution_count": null,
   "metadata": {},
   "outputs": [],
   "source": [
    "from pybliometrics.scopus import AuthorSearch\n",
    "from pybliometrics.scopus import AuthorRetrieval\n",
    "from scholarly import scholarly\n",
    "from crossref.restful import Works\n",
    "import pandas as pd\n",
    "import itertools\n",
    "import sys\n",
    "sys.path.append(\"..\")\n",
    "from rcn_py import orcid\n",
    "from rcn_py import data_storage\n",
    "import collections\n",
    "import nltk\n",
    "import re\n",
    "from nltk.corpus import stopwords\n",
    "from nltk.stem import WordNetLemmatizer\n",
    "from nltk.stem import PorterStemmer\n",
    "nltk.download('omw-1.4')\n",
    "nltk.download(\"stopwords\")\n",
    "nltk.download('wordnet')\n",
    "stop_words = set(stopwords.words(\"english\"))\n",
    "wnl = WordNetLemmatizer()\n",
    "ps = PorterStemmer()\n",
    "\n",
    "import networkx as nx\n",
    "from pyvis.network import Network"
   ]
  },
  {
   "attachments": {},
   "cell_type": "markdown",
   "metadata": {},
   "source": [
    "### Scopus"
   ]
  },
  {
   "cell_type": "code",
   "execution_count": null,
   "metadata": {},
   "outputs": [],
   "source": [
    "fullname = 'Stefan Verhoeven'\n",
    "author_last = 'Verhoeven'\n",
    "author_first = 'Stefan'\n"
   ]
  },
  {
   "cell_type": "code",
   "execution_count": null,
   "metadata": {},
   "outputs": [],
   "source": [
    "s = AuthorSearch('AUTHLAST('+author_last+') and AUTHFIRST('+author_first+')')\n",
    "#s = AuthorSearch('Stefan Verhoeven')\n",
    "author_id = s.authors[0].eid.split('-')[-1]\n",
    "#s.authors[0]"
   ]
  },
  {
   "cell_type": "code",
   "execution_count": null,
   "metadata": {},
   "outputs": [],
   "source": [
    "au = AuthorRetrieval(author_id)\n",
    "docs = pd.DataFrame(au.get_documents())"
   ]
  },
  {
   "attachments": {},
   "cell_type": "markdown",
   "metadata": {},
   "source": [
    "### Google Scholar"
   ]
  },
  {
   "cell_type": "code",
   "execution_count": null,
   "metadata": {},
   "outputs": [],
   "source": [
    "# search publication info using title\n",
    "search_pub = scholarly.search_pubs('17B. 6 LONG TERM OBSERVATIONS OF LONG WAVE RADIATIVE FLUX DIVERGENCE IN THE STABLE BOUNDARY LAYER OVER LAND')\n",
    "pubinfo=next(search_pub)"
   ]
  },
  {
   "cell_type": "code",
   "execution_count": null,
   "metadata": {},
   "outputs": [],
   "source": [
    "# author info searched by scholar id\n",
    "search_query_author = scholarly.search_author_id(\"TOokPzcAAAAJ\")\n",
    "search_query_author"
   ]
  },
  {
   "cell_type": "code",
   "execution_count": null,
   "metadata": {},
   "outputs": [],
   "source": [
    "# author info using name\n",
    "search_query_author2 = scholarly.search_author('Peter Kalverla')\n",
    "authorinfo = scholarly.fill(next(search_query_author2))"
   ]
  },
  {
   "cell_type": "code",
   "execution_count": null,
   "metadata": {},
   "outputs": [],
   "source": [
    "# save paper info as csv file \n",
    "data_storage.get_scholar_data('Peter Kalverla', \"/Users/jennifer/RCSNA/data\")"
   ]
  },
  {
   "attachments": {},
   "cell_type": "markdown",
   "metadata": {},
   "source": [
    "### Crossref (ORCID)"
   ]
  },
  {
   "cell_type": "code",
   "execution_count": null,
   "metadata": {},
   "outputs": [],
   "source": [
    "# Using rcn_py.orcid functions\n",
    "orcid_id = orcid.name_to_orcid_id(fullname)\n",
    "orcid_record = orcid.query_orcid_for_record(orcid_id)\n",
    "docs = orcid.extract_works_section(orcid_record)"
   ]
  },
  {
   "cell_type": "code",
   "execution_count": null,
   "metadata": {},
   "outputs": [],
   "source": [
    "# Store all publication info of one person\n",
    "data_storage.get_crossref_data_by_name(\"Peter Kalverla\", \"/Users/jennifer/RCSNA/data\")"
   ]
  },
  {
   "cell_type": "code",
   "execution_count": null,
   "metadata": {},
   "outputs": [],
   "source": [
    "# Get all publications of all coauthors and do de-duplication\n",
    "# Long running time\n",
    "df = data_storage.coauthor_data_from_csv(\"Peter Kalverla\", \"/Users/jennifer/RCSNA/data\")"
   ]
  },
  {
   "cell_type": "code",
   "execution_count": null,
   "metadata": {},
   "outputs": [],
   "source": [
    "node_data = data_storage.assign_group_node(\"Peter Kalverla\", \"/Users/jennifer/RCSNA/data\")"
   ]
  },
  {
   "cell_type": "code",
   "execution_count": null,
   "metadata": {},
   "outputs": [],
   "source": [
    "links = data_storage.get_links_from_csv(\"Stefan Verhoeven\", \"/Users/jennifer/RCSNA/data\")"
   ]
  },
  {
   "cell_type": "code",
   "execution_count": null,
   "metadata": {},
   "outputs": [],
   "source": [
    "data_storage.build_network_by_datafile(\"Peter Kalverla\", \"/Users/jennifer/RCSNA/data\", \"/Users/jennifer/RCSNA/visualization\")"
   ]
  },
  {
   "cell_type": "code",
   "execution_count": null,
   "metadata": {},
   "outputs": [],
   "source": []
  }
 ],
 "metadata": {
  "kernelspec": {
   "display_name": "base",
   "language": "python",
   "name": "python3"
  },
  "language_info": {
   "codemirror_mode": {
    "name": "ipython",
    "version": 3
   },
   "file_extension": ".py",
   "mimetype": "text/x-python",
   "name": "python",
   "nbconvert_exporter": "python",
   "pygments_lexer": "ipython3",
   "version": "3.9.13"
  },
  "orig_nbformat": 4,
  "vscode": {
   "interpreter": {
    "hash": "78d178f77aa2234760f0004d20edde8d97d9d6aae15b3a03389e75a39bac3a7d"
   }
  }
 },
 "nbformat": 4,
 "nbformat_minor": 2
}
