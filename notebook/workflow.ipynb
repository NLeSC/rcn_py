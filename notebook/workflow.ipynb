{
 "cells": [
  {
   "attachments": {},
   "cell_type": "markdown",
   "metadata": {},
   "source": [
    "An example pipeline for buiding a Scopus co-authorship network\n",
    "---------------\n",
    "\n",
    "### Step 1a: Access Scopus Collection and download the Scopus paper metadata you are interested. \n",
    "\n",
    "To reach the Scopus document search module, you should use academic IPs. If your institute has been listed in the Scopus database, you have permission to search documents in Scopus. It is not free of charge, and your university should pay its share to Scopus to provide this service for its academic researchers.\n",
    "\n",
    "If you do not have a academic IP, please skip to [Step 1b](#step-1b) to download the exsiting csv files.\n",
    "\n",
    "**Why Scopus?**\t\n",
    "\n",
    "Scopus has very comprehensive paper data, especially its metadata contains details of authors' affiliations, countries and paper keywords (which are not available on other paper search websites)\n",
    "\n",
    "**How?**\t\t\n",
    "\n",
    "1. As the number of papers involving Dutch researchers in just one year is 50,000+, the Scopus API does not offer to handle such a  large amount of data. Therefore, I use the [Scopus Document Search website](https://www.scopus.com/search/form.uri?display=basic#basic) (which requires academic IPs, such as the UvA VPN). The [Advanced Document Search](https://www.scopus.com/search/form.uri?display=advanced) query string is as follows: \n",
    "\n",
    "    `PUBYEAR  >  2012  AND  PUBYEAR  <  2024  AND  (  LIMIT-TO ( OA ,  \"all\" ) )  AND  ( LIMIT-TO ( AFFILCOUNTRY ,  \"Netherlands\" ) )  AND  ( LIMIT-TO ( PUBSTAGE ,  \"final\" ) )  AND  ( LIMIT-TO ( PUBYEAR ,  2022 ) )  AND  ( LIMIT-TO ( LANGUAGE ,  \"English\" ) )`\n",
    "    \n",
    "    Using this statement we can get: papers (in 2022) with researchers working in Dutch institutions among the authors, so the authors in the data we obtain are most Dutch researchers, and researchers from other countries who have collaborated with them.\n",
    "\n",
    "2. Limit the data scape by choosing one particular **Subject area** in the webpage, and click the *CSV export* button to select information that you want to export. In this project, the following information will be used:\n",
    "\n",
    "    <img src=../images/scopus_export_setting.png width=50% />\n",
    "    \n",
    "    (*Export restrictions*: If the number of selected papers is greater than 2000, the Affiliations and Author Keywords parameters are not available, so please split the data into csv files containing less than 2000 papers each.)\n"
   ]
  },
  {
   "attachments": {},
   "cell_type": "markdown",
   "metadata": {},
   "source": [
    "### Step 1b (Optional): Get the downloaded csv files that contains the last ten years papers with Dutch researchers.\n",
    "\n",
    "You can get the metadata for papers in scopus 2022 with Dutch researchers [here](https://nlesc-my.sharepoint.com/:f:/g/personal/z_bai_esciencecenter_nl/Eig3gDDIRvRAgz9LzP7br1kBVa9e8vMQu6s6y9GDBmDsOQ?e=9zdHF2)"
   ]
  },
  {
   "attachments": {},
   "cell_type": "markdown",
   "metadata": {},
   "source": [
    "### Step 2: Import CSV files to Neo4j Database\n",
    "\n",
    "1. Neo4j provides a [fully-managed cloud service](https://neo4j.com/cloud/platform/aura-graph-database/?ref=nav-get-started-cta) (One free AuraDB instance per user, with a limit: 20,000 nodes and 40,000 relationships max)\n",
    "\n",
    "2. You can also download [Neo4j Desktop](https://neo4j.com/download/), there is no limit to the sizes (recommanded), and then add *Project* and *Start* it.\n"
   ]
  },
  {
   "cell_type": "code",
   "execution_count": 1,
   "metadata": {},
   "outputs": [
    {
     "name": "stderr",
     "output_type": "stream",
     "text": [
      "[nltk_data] Downloading package omw-1.4 to\n",
      "[nltk_data]     /Users/jennifer/nltk_data...\n",
      "[nltk_data]   Package omw-1.4 is already up-to-date!\n",
      "[nltk_data] Downloading package stopwords to\n",
      "[nltk_data]     /Users/jennifer/nltk_data...\n",
      "[nltk_data]   Package stopwords is already up-to-date!\n",
      "[nltk_data] Downloading package wordnet to\n",
      "[nltk_data]     /Users/jennifer/nltk_data...\n",
      "[nltk_data]   Package wordnet is already up-to-date!\n"
     ]
    }
   ],
   "source": [
    "import os\n",
    "import sys\n",
    "sys.path.append(\"..\")\n",
    "from rcn_py import neo4j_scopus\n",
    "from rcn_py import neo4j_rsd\n",
    "from neo4j import GraphDatabase\n",
    "import pandas as pd"
   ]
  },
  {
   "attachments": {},
   "cell_type": "markdown",
   "metadata": {},
   "source": [
    "Connect to your neo4j DB server, obtain your own **uri, username** and **password**"
   ]
  },
  {
   "cell_type": "code",
   "execution_count": null,
   "metadata": {},
   "outputs": [],
   "source": [
    "# local AuraDB example\n",
    "# uri = \"bolt://localhost:7687\"\n",
    "# user = \"neo4j\"\n",
    "# password = \"zhiningbai\"\n",
    "uri = \"your URI\"\n",
    "user = \"your username\"\n",
    "password = \"your password\""
   ]
  },
  {
   "attachments": {},
   "cell_type": "markdown",
   "metadata": {},
   "source": [
    "Check for connection"
   ]
  },
  {
   "cell_type": "code",
   "execution_count": null,
   "metadata": {},
   "outputs": [],
   "source": [
    "check_verify =  GraphDatabase.driver(uri, auth=(user, password))\n",
    "check_verify.verify_connectivity()"
   ]
  },
  {
   "attachments": {},
   "cell_type": "markdown",
   "metadata": {},
   "source": [
    "#### 2.1 Scopus data storage\n",
    "\n",
    "Change the following to your csv file path.\n",
    "\n",
    "If you download the csv file from scopus by filtering *Subject area*, please input the following *Subject*."
   ]
  },
  {
   "cell_type": "code",
   "execution_count": null,
   "metadata": {},
   "outputs": [],
   "source": [
    "filepath = \"The csv file path that you want to insert into the database\"\n",
    "subject = \"The official scopus subject classification if available\""
   ]
  },
  {
   "attachments": {},
   "cell_type": "markdown",
   "metadata": {},
   "source": [
    "Create Constraints"
   ]
  },
  {
   "cell_type": "code",
   "execution_count": null,
   "metadata": {},
   "outputs": [],
   "source": [
    "driver = GraphDatabase.driver(uri, auth=(user, password))\n",
    "session = driver.session(database=\"neo4j\")\n",
    "session.write_transaction(neo4j_scopus.add_constraint) "
   ]
  },
  {
   "attachments": {},
   "cell_type": "markdown",
   "metadata": {},
   "source": [
    "Insert people nodes and publication nodes, and authorship edges to Neo4j DB"
   ]
  },
  {
   "cell_type": "code",
   "execution_count": null,
   "metadata": {},
   "outputs": [],
   "source": [
    "with GraphDatabase.driver(uri, auth=(user, password)) as driver:\n",
    "    driver.verify_connectivity()\n",
    "    with driver.session(database=\"neo4j\") as session:\n",
    "        # Create nodes & edges\n",
    "        if os.path.exists(filepath):\n",
    "        # Skipping bad lines (very rare occurrence): \n",
    "        # Replace the following line: df = pd.read_csv(path, on_bad_lines = 'skip')\n",
    "            df = pd.read_csv(filepath)\n",
    "                    \n",
    "            # Create \"Person\" nodes (scopus_id, name, affiliation, country, keywords, year, subject)\n",
    "            session.write_transaction(neo4j_scopus.neo4j_create_people, df, subject) \n",
    "            # Create \"Publication\" nodes (doi, title, year, cited, keywords, subject)\n",
    "            session.write_transaction(neo4j_scopus.neo4j_create_publication, df, subject)\n",
    "            # Create Relationship \"IS_AUTHOR_OF\" (scopus_id, doi, author_name, title, year)\n",
    "            session.write_transaction(neo4j_scopus.neo4j_create_author_pub_edge, df)\n",
    "            print (\"Successfully insert \" + subject + \" csv file.\")  \n",
    "        else:\n",
    "            print(\"The file path does not exist!\") "
   ]
  },
  {
   "attachments": {},
   "cell_type": "markdown",
   "metadata": {},
   "source": [
    "##### Now you can find data in your Neo4j DB."
   ]
  },
  {
   "attachments": {},
   "cell_type": "markdown",
   "metadata": {},
   "source": [
    "Close DB connection if necessary"
   ]
  },
  {
   "cell_type": "code",
   "execution_count": null,
   "metadata": {},
   "outputs": [],
   "source": [
    "session.close()\n",
    "driver.close()"
   ]
  },
  {
   "attachments": {},
   "cell_type": "markdown",
   "metadata": {},
   "source": [
    "#### 2.2 [Research Software Directory (RSD)](https://research-software-directory.org/) data storage"
   ]
  },
  {
   "cell_type": "code",
   "execution_count": null,
   "metadata": {},
   "outputs": [],
   "source": [
    "projects, authors_proj, software, contributor_soft = neo4j_rsd.request_rsd_data()"
   ]
  },
  {
   "attachments": {},
   "cell_type": "markdown",
   "metadata": {},
   "source": [
    "Run only once."
   ]
  },
  {
   "cell_type": "code",
   "execution_count": null,
   "metadata": {},
   "outputs": [],
   "source": [
    "with GraphDatabase.driver(uri, auth=(user, password)) as driver:\n",
    "    driver.verify_connectivity()\n",
    "    with driver.session(database=\"neo4j\") as session:\n",
    "        # Start creating nodes & edges\n",
    "        \n",
    "        # Create \"Person\" nodes (scopus_id, orcid, name, affiliation)\n",
    "        session.write_transaction(neo4j_rsd.create_person_nodes, authors_proj) \n",
    "        session.write_transaction(neo4j_rsd.create_person_nodes, contributor_soft) \n",
    "\n",
    "        # Create \"Project\" nodes (project_id, title, year, description)\n",
    "        session.write_transaction(neo4j_rsd.create_project_nodes, projects)\n",
    "        # Create \"Software\" nodes (software_id, doi, brand_name, year, description)\n",
    "        session.write_transaction(neo4j_rsd.create_software_nodes, software)\n",
    "\n",
    "        # Create Relationship \"IS_AUTHOR_OF\" \n",
    "        # (scopus_id, project_id/software_id, author_name, title, year)\n",
    "        session.write_transaction(neo4j_rsd.create_author_project_edge, authors_proj)\n",
    "        session.write_transaction(neo4j_rsd.create_author_software_edge, contributor_soft)\n",
    "        "
   ]
  },
  {
   "attachments": {},
   "cell_type": "markdown",
   "metadata": {},
   "source": [
    "Close the drive if it is no longer in use."
   ]
  },
  {
   "cell_type": "code",
   "execution_count": null,
   "metadata": {},
   "outputs": [],
   "source": [
    "session.close()\n",
    "driver.close()"
   ]
  },
  {
   "attachments": {},
   "cell_type": "markdown",
   "metadata": {},
   "source": [
    "### Step 3: Read database and map the network"
   ]
  },
  {
   "attachments": {},
   "cell_type": "markdown",
   "metadata": {},
   "source": [
    "These are the components of our Web Application:\n",
    "\n",
    "|  |  |\n",
    "| --- | --- |\n",
    "| Application Type | Python-Web Application |\n",
    "| Web framework | Flask (Micro-Webframework)|\n",
    "| Neo4j Database Connector | Neo4j Python Driver for Cypher Docs |\n",
    "| Database | Neo4j-Server |\n",
    "| Frontend | jquery, bootstrap, d3.js |"
   ]
  },
  {
   "cell_type": "code",
   "execution_count": 21,
   "metadata": {},
   "outputs": [],
   "source": [
    "# uri = \"bolt://localhost:7687\"\n",
    "# username = \"neo4j\"\n",
    "# password = \"zhiningbai\""
   ]
  },
  {
   "cell_type": "code",
   "execution_count": 27,
   "metadata": {},
   "outputs": [
    {
     "name": "stderr",
     "output_type": "stream",
     "text": [
      "INFO:root:Starting on port 8081, database is at bolt://localhost:7687\n"
     ]
    },
    {
     "name": "stdout",
     "output_type": "stream",
     "text": [
      " * Serving Flask app 'rcn_d3'\n",
      " * Debug mode: off\n"
     ]
    },
    {
     "name": "stderr",
     "output_type": "stream",
     "text": [
      "INFO:werkzeug:\u001b[31m\u001b[1mWARNING: This is a development server. Do not use it in a production deployment. Use a production WSGI server instead.\u001b[0m\n",
      " * Running on http://127.0.0.1:8081\n",
      "INFO:werkzeug:\u001b[33mPress CTRL+C to quit\u001b[0m\n",
      "INFO:werkzeug:127.0.0.1 - - [10/Apr/2023 03:19:51] \"\u001b[36mGET / HTTP/1.1\u001b[0m\" 304 -\n",
      "INFO:werkzeug:127.0.0.1 - - [10/Apr/2023 03:19:51] \"GET /graph HTTP/1.1\" 200 -\n",
      "INFO:werkzeug:127.0.0.1 - - [10/Apr/2023 03:19:56] \"GET /search?keyword=Deep%20learning&year=2014 HTTP/1.1\" 200 -\n"
     ]
    }
   ],
   "source": [
    "%run ../rcn_d3.py \"bolt://localhost:7687\" \"neo4j\" \"zhiningbai\""
   ]
  },
  {
   "attachments": {},
   "cell_type": "markdown",
   "metadata": {},
   "source": [
    "Or:"
   ]
  },
  {
   "cell_type": "code",
   "execution_count": 28,
   "metadata": {},
   "outputs": [
    {
     "name": "stdout",
     "output_type": "stream",
     "text": [
      "[nltk_data] Downloading package omw-1.4 to\n",
      "[nltk_data]     /Users/jennifer/nltk_data...\n",
      "[nltk_data]   Package omw-1.4 is already up-to-date!\n",
      "[nltk_data] Downloading package stopwords to\n",
      "[nltk_data]     /Users/jennifer/nltk_data...\n",
      "[nltk_data]   Package stopwords is already up-to-date!\n",
      "[nltk_data] Downloading package wordnet to\n",
      "[nltk_data]     /Users/jennifer/nltk_data...\n",
      "[nltk_data]   Package wordnet is already up-to-date!\n",
      "INFO:root:Starting on port 8081, database is at bolt://localhost:7687\n",
      " * Serving Flask app 'rcn_d3'\n",
      " * Debug mode: off\n",
      "INFO:werkzeug:\u001b[31m\u001b[1mWARNING: This is a development server. Do not use it in a production deployment. Use a production WSGI server instead.\u001b[0m\n",
      " * Running on http://127.0.0.1:8081\n",
      "INFO:werkzeug:\u001b[33mPress CTRL+C to quit\u001b[0m\n",
      "INFO:werkzeug:127.0.0.1 - - [10/Apr/2023 03:20:45] \"\u001b[36mGET / HTTP/1.1\u001b[0m\" 304 -\n",
      "INFO:werkzeug:127.0.0.1 - - [10/Apr/2023 03:20:46] \"GET /graph HTTP/1.1\" 200 -\n",
      "INFO:werkzeug:127.0.0.1 - - [10/Apr/2023 03:20:50] \"GET /search?keyword=Deep%20learning&year=2014 HTTP/1.1\" 200 -\n",
      "^C\n",
      "Exception ignored in: <function Driver.__del__ at 0x7f8292337f70>\n",
      "Traceback (most recent call last):\n",
      "  File \"/Users/jennifer/opt/anaconda3/lib/python3.9/site-packages/neo4j/__init__.py\", line 282, in __del__\n",
      "  File \"/Users/jennifer/opt/anaconda3/lib/python3.9/site-packages/neo4j/__init__.py\", line 312, in close\n",
      "  File \"/Users/jennifer/opt/anaconda3/lib/python3.9/site-packages/neo4j/io/__init__.py\", line 883, in close\n",
      "  File \"/Users/jennifer/opt/anaconda3/lib/python3.9/site-packages/neo4j/io/__init__.py\", line 623, in close\n",
      "  File \"/Users/jennifer/opt/anaconda3/lib/python3.9/site-packages/neo4j/io/_bolt4.py\", line 262, in goodbye\n",
      "AttributeError: 'NoneType' object has no attribute 'debug'\n"
     ]
    }
   ],
   "source": [
    "!python ../rcn_d3.py \"bolt://localhost:7687\" \"neo4j\" \"zhiningbai\""
   ]
  },
  {
   "cell_type": "code",
   "execution_count": null,
   "metadata": {},
   "outputs": [],
   "source": []
  }
 ],
 "metadata": {
  "kernelspec": {
   "display_name": "base",
   "language": "python",
   "name": "python3"
  },
  "language_info": {
   "codemirror_mode": {
    "name": "ipython",
    "version": 3
   },
   "file_extension": ".py",
   "mimetype": "text/x-python",
   "name": "python",
   "nbconvert_exporter": "python",
   "pygments_lexer": "ipython3",
   "version": "3.9.13"
  },
  "orig_nbformat": 4,
  "vscode": {
   "interpreter": {
    "hash": "78d178f77aa2234760f0004d20edde8d97d9d6aae15b3a03389e75a39bac3a7d"
   }
  }
 },
 "nbformat": 4,
 "nbformat_minor": 2
}
