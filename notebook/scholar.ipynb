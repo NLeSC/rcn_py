{
 "cells": [
  {
   "cell_type": "code",
   "execution_count": 1,
   "id": "36bff298",
   "metadata": {},
   "outputs": [],
   "source": [
    "import pandas as pd\n",
    "from scholarly import scholarly\n",
    "import sys\n",
    "sys.path.append(\"..\")\n",
    "from rcn_py import scholar"
   ]
  },
  {
   "cell_type": "code",
   "execution_count": 2,
   "id": "984de152",
   "metadata": {},
   "outputs": [],
   "source": [
    "search_query = scholarly.search_author('GJ Steeneveld')\n",
    "author = scholarly.fill(next(search_query))"
   ]
  },
  {
   "cell_type": "code",
   "execution_count": 137,
   "id": "9c24744f",
   "metadata": {},
   "outputs": [
    {
     "name": "stdout",
     "output_type": "stream",
     "text": [
      "{'container_type': 'Author', 'filled': ['basics'], 'scholar_id': '1CT5_v8AAAAJ', 'source': <AuthorSource.AUTHOR_PROFILE_PAGE: 'AUTHOR_PROFILE_PAGE'>, 'name': 'Gert-Jan Steeneveld', 'url_picture': 'https://scholar.googleusercontent.com/citations?view_op=view_photo&user=1CT5_v8AAAAJ&citpid=2', 'affiliation': 'Associate professor Wageningen University, Wageningen, Netherlands', 'organization': 8198649032033710874, 'interests': ['Boundary-layer meteorology', 'fog', 'urban climate', 'wind energy', 'air quality'], 'email_domain': '@wur.nl', 'homepage': 'https://gjsteeneveld.wordpress.com/', 'citedby': 7244}\n"
     ]
    }
   ],
   "source": [
    "search_query2 = scholarly.search_author_id('1CT5_v8AAAAJ')\n",
    "print(search_query2)"
   ]
  },
  {
   "cell_type": "code",
   "execution_count": 139,
   "id": "1a2adf3f",
   "metadata": {},
   "outputs": [],
   "source": [
    "search_pub = scholarly.search_pubs(author['publications'][0]['bib']['title'])\n",
    "pub_info = next(search_pub)"
   ]
  },
  {
   "cell_type": "code",
   "execution_count": 2,
   "id": "9c6414dd",
   "metadata": {
    "scrolled": true
   },
   "outputs": [],
   "source": [
    "df, link = scholar.scholar_search_coauthor('Peter Kalverla')"
   ]
  },
  {
   "cell_type": "code",
   "execution_count": null,
   "id": "e131bd1c",
   "metadata": {},
   "outputs": [],
   "source": []
  }
 ],
 "metadata": {
  "kernelspec": {
   "display_name": "base",
   "language": "python",
   "name": "python3"
  },
  "language_info": {
   "codemirror_mode": {
    "name": "ipython",
    "version": 3
   },
   "file_extension": ".py",
   "mimetype": "text/x-python",
   "name": "python",
   "nbconvert_exporter": "python",
   "pygments_lexer": "ipython3",
   "version": "3.9.13"
  },
  "vscode": {
   "interpreter": {
    "hash": "78d178f77aa2234760f0004d20edde8d97d9d6aae15b3a03389e75a39bac3a7d"
   }
  }
 },
 "nbformat": 4,
 "nbformat_minor": 5
}
