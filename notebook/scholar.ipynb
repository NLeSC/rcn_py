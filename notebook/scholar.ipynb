{
 "cells": [
  {
   "cell_type": "code",
   "execution_count": 1,
   "id": "36bff298",
   "metadata": {},
   "outputs": [],
   "source": [
    "import pandas as pd\n",
    "import requests\n",
    "import itertools\n",
    "from scholarly import scholarly\n",
    "import sys\n",
    "sys.path.append(\"..\")\n",
    "from rcn_py import scholar"
   ]
  },
  {
   "cell_type": "code",
   "execution_count": 2,
   "id": "984de152",
   "metadata": {},
   "outputs": [],
   "source": [
    "search_query = scholarly.search_author('GJ Steeneveld')\n",
    "author = scholarly.fill(next(search_query))"
   ]
  },
  {
   "cell_type": "code",
   "execution_count": 137,
   "id": "9c24744f",
   "metadata": {},
   "outputs": [
    {
     "name": "stdout",
     "output_type": "stream",
     "text": [
      "{'container_type': 'Author', 'filled': ['basics'], 'scholar_id': '1CT5_v8AAAAJ', 'source': <AuthorSource.AUTHOR_PROFILE_PAGE: 'AUTHOR_PROFILE_PAGE'>, 'name': 'Gert-Jan Steeneveld', 'url_picture': 'https://scholar.googleusercontent.com/citations?view_op=view_photo&user=1CT5_v8AAAAJ&citpid=2', 'affiliation': 'Associate professor Wageningen University, Wageningen, Netherlands', 'organization': 8198649032033710874, 'interests': ['Boundary-layer meteorology', 'fog', 'urban climate', 'wind energy', 'air quality'], 'email_domain': '@wur.nl', 'homepage': 'https://gjsteeneveld.wordpress.com/', 'citedby': 7244}\n"
     ]
    }
   ],
   "source": [
    "search_query2 = scholarly.search_author_id('1CT5_v8AAAAJ')\n",
    "print(search_query2)"
   ]
  },
  {
   "cell_type": "code",
   "execution_count": 139,
   "id": "1a2adf3f",
   "metadata": {},
   "outputs": [],
   "source": [
    "search_pub = scholarly.search_pubs(author['publications'][0]['bib']['title'])\n",
    "pub_info = next(search_pub)"
   ]
  },
  {
   "cell_type": "code",
   "execution_count": 141,
   "id": "49bf55ed",
   "metadata": {
    "scrolled": true
   },
   "outputs": [
    {
     "data": {
      "text/plain": [
       "{'container_type': 'Publication',\n",
       " 'source': <PublicationSource.PUBLICATION_SEARCH_SNIPPET: 'PUBLICATION_SEARCH_SNIPPET'>,\n",
       " 'bib': {'title': 'Low-level jets over the North Sea based on ERA5 and observations: together they do better',\n",
       "  'author': ['PC Kalverla', 'JB Duncan Jr', 'GJ Steeneveld'],\n",
       "  'pub_year': '2019',\n",
       "  'venue': 'Wind Energy …',\n",
       "  'abstract': 'Ten years of ERA5 reanalysis data are combined with met-mast and lidar observations from 10 offshore platforms to investigate low-level jet characteristics over the Dutch North Sea. The objective of this study is to combine the best of two worlds:(1) ERA5 data with a large spatiotemporal extent but inherent accuracy limitations due to a relatively coarse grid and an incomplete representation of physical processes and (2) observations that provide more reliable estimates of the measured quantity but are limited in both space and time. We'},\n",
       " 'filled': False,\n",
       " 'gsrank': 1,\n",
       " 'pub_url': 'https://wes.copernicus.org/articles/4/193/2019/',\n",
       " 'author_id': ['TOokPzcAAAAJ', '', '1CT5_v8AAAAJ'],\n",
       " 'url_scholarbib': '/scholar?hl=en&q=info:DxRM_nri8_QJ:scholar.google.com/&output=cite&scirp=0&hl=en',\n",
       " 'url_add_sclib': '/citations?hl=en&xsrf=&continue=/scholar%3Fq%3DLow-level%2Bjets%2Bover%2Bthe%2BNorth%2BSea%2Bbased%2Bon%2BERA5%2Band%2Bobservations:%2Btogether%2Bthey%2Bdo%2Bbetter%26hl%3Den%26as_sdt%3D0,33&citilm=1&update_op=library_add&info=DxRM_nri8_QJ&ei=fZoAZNGgKJn4yATzjJS4CA&json=',\n",
       " 'num_citations': 48,\n",
       " 'citedby_url': '/scholar?cites=17650700382475392015&as_sdt=5,33&sciodt=0,33&hl=en',\n",
       " 'url_related_articles': '/scholar?q=related:DxRM_nri8_QJ:scholar.google.com/&scioq=Low-level+jets+over+the+North+Sea+based+on+ERA5+and+observations:+together+they+do+better&hl=en&as_sdt=0,33',\n",
       " 'eprint_url': 'https://wes.copernicus.org/articles/4/193/2019/'}"
      ]
     },
     "execution_count": 141,
     "metadata": {},
     "output_type": "execute_result"
    }
   ],
   "source": [
    "pub_info\n",
    "# some authors don't own a scholar id "
   ]
  },
  {
   "cell_type": "code",
   "execution_count": 4,
   "id": "2008992b",
   "metadata": {},
   "outputs": [],
   "source": [
    "docs = []\n",
    "for i in range(len(author['publications'])):\n",
    "    docs.append(author['publications'][i]['bib'])"
   ]
  },
  {
   "cell_type": "code",
   "execution_count": 197,
   "id": "b94c05df",
   "metadata": {},
   "outputs": [],
   "source": [
    "docs = []\n",
    "new_docs = []\n",
    "for i in range(len(author['publications'])):\n",
    "    docs.append(author['publications'][i])\n",
    "for j in docs:\n",
    "    if ('pub_year' in j['bib'].keys()) and (j['bib']['pub_year'] >= '2018'):\n",
    "        new_docs.append(j)\n"
   ]
  },
  {
   "cell_type": "code",
   "execution_count": 214,
   "id": "83ef9c41",
   "metadata": {},
   "outputs": [
    {
     "data": {
      "text/plain": [
       "[{'title': 'Low-level jets over the North Sea based on ERA5 and observations: together they do better',\n",
       "  'pub_year': '2019',\n",
       "  'citation': 'Wind Energy Science 4 (2), 193-209, 2019'},\n",
       " {'title': 'An observational climatology of anomalous wind events at offshore meteomast IJmuiden (North Sea)',\n",
       "  'pub_year': '2017',\n",
       "  'citation': 'Journal of Wind Engineering and Industrial Aerodynamics 165, 86-99, 2017'},\n",
       " {'title': 'Evaluation of the Weather Research and Forecasting Model in the Durance Valley complex terrain during the KASCADE field campaign',\n",
       "  'pub_year': '2016',\n",
       "  'citation': 'Journal of Applied Meteorology and Climatology 55 (4), 861-882, 2016'},\n",
       " {'title': 'Quality of wind characteristics in recent wind atlases over the North Sea',\n",
       "  'pub_year': '2020',\n",
       "  'citation': 'Quarterly Journal of the Royal Meteorological Society 146 (728), 1498-1515, 2020'},\n",
       " {'title': 'Evaluation of three mainstream numerical weather prediction models with observations from meteorological mast IJmuiden at the North Sea',\n",
       "  'pub_year': '2019',\n",
       "  'citation': 'Wind Energy 22 (1), 34-48, 2019'},\n",
       " {'title': 'A maximum entropy approach to the parametrization of subgrid processes in two‐dimensional flow',\n",
       "  'pub_year': '2016',\n",
       "  'citation': 'Quarterly Journal of the Royal Meteorological Society 142 (699), 2273-2283, 2016'},\n",
       " {'title': 'Clustering wind profile shapes to estimate airborne wind energy production',\n",
       "  'pub_year': '2020',\n",
       "  'citation': 'Wind Energy Science 5 (3), 1097-1120, 2020'},\n",
       " {'title': 'Evaluation of the Weather Research and Forecasting Model for Contrasting Diurnal Cycles in the Durance Vally Complex Terrain During the KASCADE Field Campaign',\n",
       "  'pub_year': '2014',\n",
       "  'citation': '[Netherlands]:[publisher not identified], 2014'},\n",
       " {'title': 'ESMValTool', 'pub_year': '2022', 'citation': 'Zenodo, 2022'},\n",
       " {'title': 'Quality of wind characteristics in recent wind atlases over the North Sea, QJ Roy. Meteor. Soc., 146, 1498–1515',\n",
       "  'pub_year': '2020',\n",
       "  'citation': ''},\n",
       " {'title': 'The eWaterCycle platform for open and FAIR hydrological collaboration',\n",
       "  'pub_year': '2023',\n",
       "  'citation': 'EGU23, 2023'},\n",
       " {'title': 'A maximum entropy approach to the parameterization of subgrid-scale processes in two-dimensional flows',\n",
       "  'pub_year': '2015',\n",
       "  'citation': 'KNMI Internal Report IR-2015-01. http://bibliotheek. knmi. nl/internrapport …, 2015'},\n",
       " {'title': 'Characterisation of offshore winds for energy applications',\n",
       "  'pub_year': '2019',\n",
       "  'citation': 'PQDT-Global, 2019'},\n",
       " {'title': 'Coupling Hydrological models using BMI in eWaterCycle',\n",
       "  'pub_year': '2020',\n",
       "  'citation': 'EGU General Assembly Conference Abstracts, 11730, 2020'},\n",
       " {'title': 'Reconciling the moisture sources of the extreme flood event in July 2021 over western Europe',\n",
       "  'pub_year': '2023',\n",
       "  'citation': 'EGU23, 2023'},\n",
       " {'title': 's2spy, a package to boost (sub) seasonal forecasting with artificial intelligence',\n",
       "  'pub_year': '2023',\n",
       "  'citation': 'EGU23, 2023'},\n",
       " {'title': 'User-friendly climate data discovery and analysis with ESMValCore',\n",
       "  'pub_year': '2023',\n",
       "  'citation': 'EGU23, 2023'},\n",
       " {'title': 'Digital twincubator eWaterCycle',\n",
       "  'pub_year': '2023',\n",
       "  'citation': 'EGU23, 2023'},\n",
       " {'title': 'era5cli: from a utility script to a reusable software package',\n",
       "  'pub_year': '2023',\n",
       "  'citation': 'EGU23, 2023'},\n",
       " {'title': 'Towards Reproducible Hydrological Modelling with eWaterCycle',\n",
       "  'pub_year': '2022',\n",
       "  'citation': 'Authorea Preprints, 2022'},\n",
       " {'title': 'The eWaterCycle platform for open and FAIR hydrological collaboration',\n",
       "  'pub_year': '2022',\n",
       "  'citation': 'Geoscientific Model Development 15 (13), 5371-5390, 2022'},\n",
       " {'title': 'Moisture origin of the extreme precipitation event in Western Europe in July 2021',\n",
       "  'pub_year': '2022',\n",
       "  'citation': 'EMS2022, 2022'},\n",
       " {'title': 'User-friendly moisture tracking with WAM-2layers',\n",
       "  'pub_year': '2022',\n",
       "  'citation': 'EMS2022, 2022'},\n",
       " {'title': 'Introducing the eWaterCycle Python package for open and FAIR hydrological modelling',\n",
       "  'pub_year': '2022',\n",
       "  'citation': 'EGU General Assembly Conference Abstracts, EGU22-7715, 2022'},\n",
       " {'title': 'Introducing the eWaterCycle Platform for computational hydrology to support decision making based on transparent big climate data analyses.',\n",
       "  'pub_year': '2021',\n",
       "  'citation': 'AGU Fall Meeting Abstracts 2021, SY24B-07, 2021'},\n",
       " {'title': 'The eWaterCycle platform for open and FAIR computational hydrological research',\n",
       "  'pub_year': '2021',\n",
       "  'citation': 'AGU Fall Meeting Abstracts 2021, H35K-1157, 2021'},\n",
       " {'title': 'The evolution of shared infrastructure for climate analytics',\n",
       "  'pub_year': '2021',\n",
       "  'citation': 'EMS2021, 2021'},\n",
       " {'title': 'era5cli: the command line interface to ERA5 data',\n",
       "  'pub_year': '2021',\n",
       "  'citation': 'EGU General Assembly Conference Abstracts, EGU21-4895, 2021'},\n",
       " {'title': 'A multi-model ensemble weighting method (ClimWIP) in ESMValTool',\n",
       "  'pub_year': '2021',\n",
       "  'citation': 'EGU General Assembly Conference Abstracts, EGU21-9387, 2021'},\n",
       " {'title': \"Preprocessing of hydrological models' input in eWaterCycle with ESMValTool\",\n",
       "  'pub_year': '2021',\n",
       "  'citation': 'EGU General Assembly Conference Abstracts, EGU21-6051, 2021'},\n",
       " {'title': 'Bringing ESMValTool to the Jupyter Lab',\n",
       "  'pub_year': '2021',\n",
       "  'citation': 'EGU General Assembly Conference Abstracts, EGU21-4805, 2021'},\n",
       " {'title': 'Recent developments on the Earth System Model Evaluation Tool',\n",
       "  'pub_year': '2021',\n",
       "  'citation': 'EGU General Assembly Conference Abstracts, EGU21-3476, 2021'},\n",
       " {'title': 'Towards Open and FAIR Hydrological Modelling with eWaterCycle',\n",
       "  'pub_year': '2021',\n",
       "  'citation': 'EGU General Assembly Conference Abstracts, EGU21-7797, 2021'},\n",
       " {'title': 'Hydrological Model Experiment Setups Using the eWaterCycle Platform',\n",
       "  'pub_year': '2020',\n",
       "  'citation': 'AGU Fall Meeting Abstracts 2020, H103-07, 2020'},\n",
       " {'title': 'era5cli: The command line tool to download ERA5 data',\n",
       "  'pub_year': '2020',\n",
       "  'citation': 'EGU General Assembly Conference Abstracts, 21619, 2020'},\n",
       " {'title': 'ESMValTool pre-processing functions for eWaterCycle',\n",
       "  'pub_year': '2020',\n",
       "  'citation': 'EGU General Assembly Conference Abstracts, 14745, 2020'},\n",
       " {'title': 'The eWaterCycle platform for FAIR and Open Hydrological Modeling',\n",
       "  'pub_year': '2020',\n",
       "  'citation': 'EGU General Assembly Conference Abstracts, 11495, 2020'},\n",
       " {'title': 'Validation of North Sea wind and weather in the WRF meteorological model',\n",
       "  'pub_year': '2017',\n",
       "  'citation': 'Wind energy science conference (WESC) 2017 Kopenhagen, Denemaken, 2017'},\n",
       " {'title': 'Subgrid modeling in two-dimensional turbulent flow using the principle of maximum entropy',\n",
       "  'pub_year': '2016',\n",
       "  'citation': 'EGU General Assembly Conference Abstracts, EPSC2016-8976, 2016'},\n",
       " {'title': 'Subgrid modeling in two-dimensional turbulent flow using the principle of maximum entropy',\n",
       "  'pub_year': '2016',\n",
       "  'citation': ''},\n",
       " {'title': 'Evaluation of the Weather Research and Forecasting model in the Durance Valley complex terrain during the KASCADE field campaign for simulations of the Durance down-valley wind',\n",
       "  'pub_year': '2016',\n",
       "  'citation': '17th Conference on Mountain Meteorology, American Meteorological Soc, 27 …, 2016'},\n",
       " {'title': 'MSc thesis report', 'pub_year': '2014', 'citation': ''},\n",
       " {'title': 'Boundary Layer Processes',\n",
       "  'pub_year': '2014',\n",
       "  'citation': 'Wageningen University, Meteorology and Air Quality Section, 2014'},\n",
       " {'title': 'ADDITIONAL MATERIAL: A multi-model ensemble weighting method (ClimWIP) in ESMValTool',\n",
       "  'citation': ''}]"
      ]
     },
     "execution_count": 214,
     "metadata": {},
     "output_type": "execute_result"
    }
   ],
   "source": [
    "docs"
   ]
  },
  {
   "cell_type": "code",
   "execution_count": 87,
   "id": "6e62e377",
   "metadata": {},
   "outputs": [
    {
     "data": {
      "text/plain": [
       "'Low-level jets over the North Sea based on ERA5 and observations: together they do better'"
      ]
     },
     "execution_count": 87,
     "metadata": {},
     "output_type": "execute_result"
    }
   ],
   "source": [
    "docs[0]['bib']['title']"
   ]
  },
  {
   "cell_type": "code",
   "execution_count": 8,
   "id": "07a4851e",
   "metadata": {},
   "outputs": [],
   "source": [
    "search_query = scholarly.search_pubs('Low-level jets over the North Sea based on ERA5 and observations: together they do better')"
   ]
  },
  {
   "cell_type": "code",
   "execution_count": 97,
   "id": "ab188298",
   "metadata": {},
   "outputs": [
    {
     "name": "stdout",
     "output_type": "stream",
     "text": [
      "b\"{'author_id': ['4bahYMkAAAAJ', 'ruUKktgAAAAJ', '9XRvM88AAAAJ'],\\n 'bib': {'abstract': 'Humans can judge from vision alone whether an object is '\\n                     'physically stable or not. Such judgments allow observers '\\n                     'to predict the physical behavior of objects, and hence '\\n                     'to guide their motor actions. We investigated the visual '\\n                     'estimation of physical stability of 3-D objects (shown '\\n                     'in stereoscopically viewed rendered scenes) and how it '\\n                     'relates to visual estimates of their center of mass '\\n                     '(COM). In Experiment 1, observers viewed an object near '\\n                     'the edge of a table and adjusted its tilt to the '\\n                     'perceived critical angle, ie, the tilt angle at which '\\n                     'the object',\\n         'author': ['SA Cholewiak', 'RW Fleming', 'M Singh'],\\n         'pub_year': '2015',\\n         'title': 'Perception of physical stability and center of mass of 3-D '\\n                  'objects',\\n         'venue': 'Journal of vision'},\\n 'citedby_url': '/scholar?cites=15736880631888070187&as_sdt=5,33&sciodt=0,33&hl=en',\\n 'eprint_url': 'https://jov.arvojournals.org/article.aspx?articleID=2213254',\\n 'filled': False,\\n 'gsrank': 1,\\n 'num_citations': 25,\\n 'pub_url': 'https://jov.arvojournals.org/article.aspx?articleID=2213254',\\n 'source': 'PUBLICATION_SEARCH_SNIPPET',\\n 'url_add_sclib': '/citations?hl=en&xsrf=&continue=/scholar%3Fq%3DPerception%2Bof%2Bphysical%2Bstability%2Band%2Bcenter%2Bof%2Bmass%2Bof%2B3D%2Bobjects%26hl%3Den%26as_sdt%3D0,33&citilm=1&update_op=library_add&info=K8ZpoI6hZNoJ&ei=-ZIAZKCpII7gygSPuIegDA&json=',\\n 'url_related_articles': '/scholar?q=related:K8ZpoI6hZNoJ:scholar.google.com/&scioq=Perception+of+physical+stability+and+center+of+mass+of+3D+objects&hl=en&as_sdt=0,33',\\n 'url_scholarbib': '/scholar?hl=en&q=info:K8ZpoI6hZNoJ:scholar.google.com/&output=cite&scirp=0&hl=en'}\"\n"
     ]
    }
   ],
   "source": [
    "scholarly.pprint(next(search_query))"
   ]
  },
  {
   "cell_type": "code",
   "execution_count": 8,
   "id": "9c6414dd",
   "metadata": {
    "scrolled": true
   },
   "outputs": [
    {
     "ename": "MaxTriesExceededException",
     "evalue": "Cannot Fetch from Google Scholar.",
     "output_type": "error",
     "traceback": [
      "\u001b[0;31m---------------------------------------------------------------------------\u001b[0m",
      "\u001b[0;31mMaxTriesExceededException\u001b[0m                 Traceback (most recent call last)",
      "\u001b[0;32m/var/folders/fp/vghv4nhj5zg720lgbcqs7x300000gn/T/ipykernel_70376/429887480.py\u001b[0m in \u001b[0;36m<module>\u001b[0;34m\u001b[0m\n\u001b[1;32m      1\u001b[0m \u001b[0;31m# Such a long time\u001b[0m\u001b[0;34m\u001b[0m\u001b[0;34m\u001b[0m\u001b[0m\n\u001b[0;32m----> 2\u001b[0;31m \u001b[0mdf\u001b[0m\u001b[0;34m,\u001b[0m \u001b[0mlink\u001b[0m \u001b[0;34m=\u001b[0m \u001b[0mscholar\u001b[0m\u001b[0;34m.\u001b[0m\u001b[0mscholar_search_coauthor\u001b[0m\u001b[0;34m(\u001b[0m\u001b[0;34m'Peter Kalverla'\u001b[0m\u001b[0;34m)\u001b[0m\u001b[0;34m\u001b[0m\u001b[0;34m\u001b[0m\u001b[0m\n\u001b[0m",
      "\u001b[0;32m~/RCSNA/rcn-py/notebook/../rcn_py/scholar.py\u001b[0m in \u001b[0;36mscholar_search_coauthor\u001b[0;34m(author_fullname)\u001b[0m\n\u001b[1;32m     26\u001b[0m     \u001b[0mlink\u001b[0m \u001b[0;34m=\u001b[0m \u001b[0;34m[\u001b[0m\u001b[0;34m]\u001b[0m\u001b[0;34m\u001b[0m\u001b[0;34m\u001b[0m\u001b[0m\n\u001b[1;32m     27\u001b[0m     \u001b[0;32mfor\u001b[0m \u001b[0mdoc\u001b[0m \u001b[0;32min\u001b[0m \u001b[0mnew_docs\u001b[0m\u001b[0;34m:\u001b[0m\u001b[0;34m\u001b[0m\u001b[0;34m\u001b[0m\u001b[0m\n\u001b[0;32m---> 28\u001b[0;31m         \u001b[0msearch_pub\u001b[0m \u001b[0;34m=\u001b[0m \u001b[0mscholarly\u001b[0m\u001b[0;34m.\u001b[0m\u001b[0msearch_pubs\u001b[0m\u001b[0;34m(\u001b[0m\u001b[0mdoc\u001b[0m\u001b[0;34m[\u001b[0m\u001b[0;34m'title'\u001b[0m\u001b[0;34m]\u001b[0m\u001b[0;34m)\u001b[0m\u001b[0;34m\u001b[0m\u001b[0;34m\u001b[0m\u001b[0m\n\u001b[0m\u001b[1;32m     29\u001b[0m         \u001b[0mpub_info\u001b[0m \u001b[0;34m=\u001b[0m \u001b[0mnext\u001b[0m\u001b[0;34m(\u001b[0m\u001b[0msearch_pub\u001b[0m\u001b[0;34m)\u001b[0m\u001b[0;34m\u001b[0m\u001b[0;34m\u001b[0m\u001b[0m\n\u001b[1;32m     30\u001b[0m         \u001b[0;31m# Build a dataframe containing authors' name and id\u001b[0m\u001b[0;34m\u001b[0m\u001b[0;34m\u001b[0m\u001b[0m\n",
      "\u001b[0;32m~/opt/anaconda3/lib/python3.9/site-packages/scholarly/_scholarly.py\u001b[0m in \u001b[0;36msearch_pubs\u001b[0;34m(self, query, patents, citations, year_low, year_high, sort_by, include_last_year, start_index)\u001b[0m\n\u001b[1;32m    158\u001b[0m                                   \u001b[0mcitations\u001b[0m\u001b[0;34m=\u001b[0m\u001b[0mcitations\u001b[0m\u001b[0;34m,\u001b[0m \u001b[0myear_low\u001b[0m\u001b[0;34m=\u001b[0m\u001b[0myear_low\u001b[0m\u001b[0;34m,\u001b[0m \u001b[0myear_high\u001b[0m\u001b[0;34m=\u001b[0m\u001b[0myear_high\u001b[0m\u001b[0;34m,\u001b[0m\u001b[0;34m\u001b[0m\u001b[0;34m\u001b[0m\u001b[0m\n\u001b[1;32m    159\u001b[0m                                   sort_by=sort_by, include_last_year=include_last_year, start_index=start_index)\n\u001b[0;32m--> 160\u001b[0;31m         \u001b[0;32mreturn\u001b[0m \u001b[0mself\u001b[0m\u001b[0;34m.\u001b[0m\u001b[0m__nav\u001b[0m\u001b[0;34m.\u001b[0m\u001b[0msearch_publications\u001b[0m\u001b[0;34m(\u001b[0m\u001b[0murl\u001b[0m\u001b[0;34m)\u001b[0m\u001b[0;34m\u001b[0m\u001b[0;34m\u001b[0m\u001b[0m\n\u001b[0m\u001b[1;32m    161\u001b[0m \u001b[0;34m\u001b[0m\u001b[0m\n\u001b[1;32m    162\u001b[0m     \u001b[0;32mdef\u001b[0m \u001b[0msearch_citedby\u001b[0m\u001b[0;34m(\u001b[0m\u001b[0mself\u001b[0m\u001b[0;34m,\u001b[0m \u001b[0mpublication_id\u001b[0m\u001b[0;34m:\u001b[0m \u001b[0mUnion\u001b[0m\u001b[0;34m[\u001b[0m\u001b[0mint\u001b[0m\u001b[0;34m,\u001b[0m \u001b[0mstr\u001b[0m\u001b[0;34m]\u001b[0m\u001b[0;34m,\u001b[0m \u001b[0;34m**\u001b[0m\u001b[0mkwargs\u001b[0m\u001b[0;34m)\u001b[0m\u001b[0;34m:\u001b[0m\u001b[0;34m\u001b[0m\u001b[0;34m\u001b[0m\u001b[0m\n",
      "\u001b[0;32m~/opt/anaconda3/lib/python3.9/site-packages/scholarly/_navigator.py\u001b[0m in \u001b[0;36msearch_publications\u001b[0;34m(self, url)\u001b[0m\n\u001b[1;32m    294\u001b[0m         \u001b[0;34m:\u001b[0m\u001b[0mrtype\u001b[0m\u001b[0;34m:\u001b[0m \u001b[0;34m{\u001b[0m\u001b[0m_SearchScholarIterator\u001b[0m\u001b[0;34m}\u001b[0m\u001b[0;34m\u001b[0m\u001b[0;34m\u001b[0m\u001b[0m\n\u001b[1;32m    295\u001b[0m         \"\"\"\n\u001b[0;32m--> 296\u001b[0;31m         \u001b[0;32mreturn\u001b[0m \u001b[0m_SearchScholarIterator\u001b[0m\u001b[0;34m(\u001b[0m\u001b[0mself\u001b[0m\u001b[0;34m,\u001b[0m \u001b[0murl\u001b[0m\u001b[0;34m)\u001b[0m\u001b[0;34m\u001b[0m\u001b[0;34m\u001b[0m\u001b[0m\n\u001b[0m\u001b[1;32m    297\u001b[0m \u001b[0;34m\u001b[0m\u001b[0m\n\u001b[1;32m    298\u001b[0m     \u001b[0;32mdef\u001b[0m \u001b[0msearch_author_id\u001b[0m\u001b[0;34m(\u001b[0m\u001b[0mself\u001b[0m\u001b[0;34m,\u001b[0m \u001b[0mid\u001b[0m\u001b[0;34m:\u001b[0m \u001b[0mstr\u001b[0m\u001b[0;34m,\u001b[0m \u001b[0mfilled\u001b[0m\u001b[0;34m:\u001b[0m \u001b[0mbool\u001b[0m \u001b[0;34m=\u001b[0m \u001b[0;32mFalse\u001b[0m\u001b[0;34m,\u001b[0m \u001b[0msortby\u001b[0m\u001b[0;34m:\u001b[0m \u001b[0mstr\u001b[0m \u001b[0;34m=\u001b[0m \u001b[0;34m\"citedby\"\u001b[0m\u001b[0;34m,\u001b[0m \u001b[0mpublication_limit\u001b[0m\u001b[0;34m:\u001b[0m \u001b[0mint\u001b[0m \u001b[0;34m=\u001b[0m \u001b[0;36m0\u001b[0m\u001b[0;34m)\u001b[0m \u001b[0;34m->\u001b[0m \u001b[0mAuthor\u001b[0m\u001b[0;34m:\u001b[0m\u001b[0;34m\u001b[0m\u001b[0;34m\u001b[0m\u001b[0m\n",
      "\u001b[0;32m~/opt/anaconda3/lib/python3.9/site-packages/scholarly/publication_parser.py\u001b[0m in \u001b[0;36m__init__\u001b[0;34m(self, nav, url)\u001b[0m\n\u001b[1;32m     51\u001b[0m         \u001b[0mself\u001b[0m\u001b[0;34m.\u001b[0m\u001b[0m_pubtype\u001b[0m \u001b[0;34m=\u001b[0m \u001b[0mPublicationSource\u001b[0m\u001b[0;34m.\u001b[0m\u001b[0mPUBLICATION_SEARCH_SNIPPET\u001b[0m \u001b[0;32mif\u001b[0m \u001b[0;34m\"/scholar?\"\u001b[0m \u001b[0;32min\u001b[0m \u001b[0murl\u001b[0m \u001b[0;32melse\u001b[0m \u001b[0mPublicationSource\u001b[0m\u001b[0;34m.\u001b[0m\u001b[0mJOURNAL_CITATION_LIST\u001b[0m\u001b[0;34m\u001b[0m\u001b[0;34m\u001b[0m\u001b[0m\n\u001b[1;32m     52\u001b[0m         \u001b[0mself\u001b[0m\u001b[0;34m.\u001b[0m\u001b[0m_nav\u001b[0m \u001b[0;34m=\u001b[0m \u001b[0mnav\u001b[0m\u001b[0;34m\u001b[0m\u001b[0;34m\u001b[0m\u001b[0m\n\u001b[0;32m---> 53\u001b[0;31m         \u001b[0mself\u001b[0m\u001b[0;34m.\u001b[0m\u001b[0m_load_url\u001b[0m\u001b[0;34m(\u001b[0m\u001b[0murl\u001b[0m\u001b[0;34m)\u001b[0m\u001b[0;34m\u001b[0m\u001b[0;34m\u001b[0m\u001b[0m\n\u001b[0m\u001b[1;32m     54\u001b[0m         \u001b[0mself\u001b[0m\u001b[0;34m.\u001b[0m\u001b[0mtotal_results\u001b[0m \u001b[0;34m=\u001b[0m \u001b[0mself\u001b[0m\u001b[0;34m.\u001b[0m\u001b[0m_get_total_results\u001b[0m\u001b[0;34m(\u001b[0m\u001b[0;34m)\u001b[0m\u001b[0;34m\u001b[0m\u001b[0;34m\u001b[0m\u001b[0m\n\u001b[1;32m     55\u001b[0m         \u001b[0mself\u001b[0m\u001b[0;34m.\u001b[0m\u001b[0mpub_parser\u001b[0m \u001b[0;34m=\u001b[0m \u001b[0mPublicationParser\u001b[0m\u001b[0;34m(\u001b[0m\u001b[0mself\u001b[0m\u001b[0;34m.\u001b[0m\u001b[0m_nav\u001b[0m\u001b[0;34m)\u001b[0m\u001b[0;34m\u001b[0m\u001b[0;34m\u001b[0m\u001b[0m\n",
      "\u001b[0;32m~/opt/anaconda3/lib/python3.9/site-packages/scholarly/publication_parser.py\u001b[0m in \u001b[0;36m_load_url\u001b[0;34m(self, url)\u001b[0m\n\u001b[1;32m     57\u001b[0m     \u001b[0;32mdef\u001b[0m \u001b[0m_load_url\u001b[0m\u001b[0;34m(\u001b[0m\u001b[0mself\u001b[0m\u001b[0;34m,\u001b[0m \u001b[0murl\u001b[0m\u001b[0;34m:\u001b[0m \u001b[0mstr\u001b[0m\u001b[0;34m)\u001b[0m\u001b[0;34m:\u001b[0m\u001b[0;34m\u001b[0m\u001b[0;34m\u001b[0m\u001b[0m\n\u001b[1;32m     58\u001b[0m         \u001b[0;31m# this is temporary until setup json file\u001b[0m\u001b[0;34m\u001b[0m\u001b[0;34m\u001b[0m\u001b[0m\n\u001b[0;32m---> 59\u001b[0;31m         \u001b[0mself\u001b[0m\u001b[0;34m.\u001b[0m\u001b[0m_soup\u001b[0m \u001b[0;34m=\u001b[0m \u001b[0mself\u001b[0m\u001b[0;34m.\u001b[0m\u001b[0m_nav\u001b[0m\u001b[0;34m.\u001b[0m\u001b[0m_get_soup\u001b[0m\u001b[0;34m(\u001b[0m\u001b[0murl\u001b[0m\u001b[0;34m)\u001b[0m\u001b[0;34m\u001b[0m\u001b[0;34m\u001b[0m\u001b[0m\n\u001b[0m\u001b[1;32m     60\u001b[0m         \u001b[0mself\u001b[0m\u001b[0;34m.\u001b[0m\u001b[0m_pos\u001b[0m \u001b[0;34m=\u001b[0m \u001b[0;36m0\u001b[0m\u001b[0;34m\u001b[0m\u001b[0;34m\u001b[0m\u001b[0m\n\u001b[1;32m     61\u001b[0m         \u001b[0mself\u001b[0m\u001b[0;34m.\u001b[0m\u001b[0m_rows\u001b[0m \u001b[0;34m=\u001b[0m \u001b[0mself\u001b[0m\u001b[0;34m.\u001b[0m\u001b[0m_soup\u001b[0m\u001b[0;34m.\u001b[0m\u001b[0mfind_all\u001b[0m\u001b[0;34m(\u001b[0m\u001b[0;34m'div'\u001b[0m\u001b[0;34m,\u001b[0m \u001b[0mclass_\u001b[0m\u001b[0;34m=\u001b[0m\u001b[0;34m'gs_r gs_or gs_scl'\u001b[0m\u001b[0;34m)\u001b[0m \u001b[0;34m+\u001b[0m \u001b[0mself\u001b[0m\u001b[0;34m.\u001b[0m\u001b[0m_soup\u001b[0m\u001b[0;34m.\u001b[0m\u001b[0mfind_all\u001b[0m\u001b[0;34m(\u001b[0m\u001b[0;34m'div'\u001b[0m\u001b[0;34m,\u001b[0m \u001b[0mclass_\u001b[0m\u001b[0;34m=\u001b[0m\u001b[0;34m'gsc_mpat_ttl'\u001b[0m\u001b[0;34m)\u001b[0m\u001b[0;34m\u001b[0m\u001b[0;34m\u001b[0m\u001b[0m\n",
      "\u001b[0;32m~/opt/anaconda3/lib/python3.9/site-packages/scholarly/_navigator.py\u001b[0m in \u001b[0;36m_get_soup\u001b[0;34m(self, url)\u001b[0m\n\u001b[1;32m    237\u001b[0m     \u001b[0;32mdef\u001b[0m \u001b[0m_get_soup\u001b[0m\u001b[0;34m(\u001b[0m\u001b[0mself\u001b[0m\u001b[0;34m,\u001b[0m \u001b[0murl\u001b[0m\u001b[0;34m:\u001b[0m \u001b[0mstr\u001b[0m\u001b[0;34m)\u001b[0m \u001b[0;34m->\u001b[0m \u001b[0mBeautifulSoup\u001b[0m\u001b[0;34m:\u001b[0m\u001b[0;34m\u001b[0m\u001b[0;34m\u001b[0m\u001b[0m\n\u001b[1;32m    238\u001b[0m         \u001b[0;34m\"\"\"Return the BeautifulSoup for a page on scholar.google.com\"\"\"\u001b[0m\u001b[0;34m\u001b[0m\u001b[0;34m\u001b[0m\u001b[0m\n\u001b[0;32m--> 239\u001b[0;31m         \u001b[0mhtml\u001b[0m \u001b[0;34m=\u001b[0m \u001b[0mself\u001b[0m\u001b[0;34m.\u001b[0m\u001b[0m_get_page\u001b[0m\u001b[0;34m(\u001b[0m\u001b[0;34m'https://scholar.google.com{0}'\u001b[0m\u001b[0;34m.\u001b[0m\u001b[0mformat\u001b[0m\u001b[0;34m(\u001b[0m\u001b[0murl\u001b[0m\u001b[0;34m)\u001b[0m\u001b[0;34m)\u001b[0m\u001b[0;34m\u001b[0m\u001b[0;34m\u001b[0m\u001b[0m\n\u001b[0m\u001b[1;32m    240\u001b[0m         \u001b[0mhtml\u001b[0m \u001b[0;34m=\u001b[0m \u001b[0mhtml\u001b[0m\u001b[0;34m.\u001b[0m\u001b[0mreplace\u001b[0m\u001b[0;34m(\u001b[0m\u001b[0;34mu'\\xa0'\u001b[0m\u001b[0;34m,\u001b[0m \u001b[0;34mu' '\u001b[0m\u001b[0;34m)\u001b[0m\u001b[0;34m\u001b[0m\u001b[0;34m\u001b[0m\u001b[0m\n\u001b[1;32m    241\u001b[0m         \u001b[0mres\u001b[0m \u001b[0;34m=\u001b[0m \u001b[0mBeautifulSoup\u001b[0m\u001b[0;34m(\u001b[0m\u001b[0mhtml\u001b[0m\u001b[0;34m,\u001b[0m \u001b[0;34m'html.parser'\u001b[0m\u001b[0;34m)\u001b[0m\u001b[0;34m\u001b[0m\u001b[0;34m\u001b[0m\u001b[0m\n",
      "\u001b[0;32m~/opt/anaconda3/lib/python3.9/site-packages/scholarly/_navigator.py\u001b[0m in \u001b[0;36m_get_page\u001b[0;34m(self, pagerequest, premium)\u001b[0m\n\u001b[1;32m    188\u001b[0m             \u001b[0;32mreturn\u001b[0m \u001b[0mself\u001b[0m\u001b[0;34m.\u001b[0m\u001b[0m_get_page\u001b[0m\u001b[0;34m(\u001b[0m\u001b[0mpagerequest\u001b[0m\u001b[0;34m,\u001b[0m \u001b[0;32mTrue\u001b[0m\u001b[0;34m)\u001b[0m\u001b[0;34m\u001b[0m\u001b[0;34m\u001b[0m\u001b[0m\n\u001b[1;32m    189\u001b[0m         \u001b[0;32melse\u001b[0m\u001b[0;34m:\u001b[0m\u001b[0;34m\u001b[0m\u001b[0;34m\u001b[0m\u001b[0m\n\u001b[0;32m--> 190\u001b[0;31m             \u001b[0;32mraise\u001b[0m \u001b[0mMaxTriesExceededException\u001b[0m\u001b[0;34m(\u001b[0m\u001b[0;34m\"Cannot Fetch from Google Scholar.\"\u001b[0m\u001b[0;34m)\u001b[0m\u001b[0;34m\u001b[0m\u001b[0;34m\u001b[0m\u001b[0m\n\u001b[0m\u001b[1;32m    191\u001b[0m \u001b[0;34m\u001b[0m\u001b[0m\n\u001b[1;32m    192\u001b[0m \u001b[0;34m\u001b[0m\u001b[0m\n",
      "\u001b[0;31mMaxTriesExceededException\u001b[0m: Cannot Fetch from Google Scholar."
     ]
    }
   ],
   "source": [
    "df, link = scholar.scholar_search_coauthor('Peter Kalverla')"
   ]
  },
  {
   "cell_type": "code",
   "execution_count": 3,
   "id": "f21f171e",
   "metadata": {},
   "outputs": [
    {
     "data": {
      "text/plain": [
       "[('TOokPzcAAAAJ', '1CT5_v8AAAAJ'),\n",
       " ('TOokPzcAAAAJ', 'BGZz2I8AAAAJ'),\n",
       " ('TOokPzcAAAAJ', '1CT5_v8AAAAJ'),\n",
       " ('TOokPzcAAAAJ', 'n5XzBkwAAAAJ'),\n",
       " ('5gJgXbwAAAAJ', 'h3LAgvUAAAAJ'),\n",
       " ('5gJgXbwAAAAJ', 'IvIf_hQAAAAJ'),\n",
       " ('h3LAgvUAAAAJ', 'IvIf_hQAAAAJ'),\n",
       " ('gAlcz-MAAAAJ', '5gJgXbwAAAAJ'),\n",
       " ('gAlcz-MAAAAJ', 'Hot2vtkAAAAJ'),\n",
       " ('5gJgXbwAAAAJ', 'Hot2vtkAAAAJ'),\n",
       " ('g0jZP2cAAAAJ', 'ihEXaxEAAAAJ'),\n",
       " ('g0jZP2cAAAAJ', 'zHyAh9wAAAAJ'),\n",
       " ('ihEXaxEAAAAJ', 'zHyAh9wAAAAJ'),\n",
       " ('gAlcz-MAAAAJ', 'TOokPzcAAAAJ'),\n",
       " ('gAlcz-MAAAAJ', 'WW59ArkAAAAJ'),\n",
       " ('TOokPzcAAAAJ', 'WW59ArkAAAAJ'),\n",
       " ('WW59ArkAAAAJ', 'TOokPzcAAAAJ'),\n",
       " ('gAlcz-MAAAAJ', 'h3LAgvUAAAAJ'),\n",
       " ('5gJgXbwAAAAJ', 'h3LAgvUAAAAJ'),\n",
       " ('5gJgXbwAAAAJ', 'IvIf_hQAAAAJ'),\n",
       " ('h3LAgvUAAAAJ', 'IvIf_hQAAAAJ'),\n",
       " ('TOokPzcAAAAJ', 'g0jZP2cAAAAJ'),\n",
       " ('TOokPzcAAAAJ', '5gJgXbwAAAAJ'),\n",
       " ('TOokPzcAAAAJ', 'gAlcz-MAAAAJ'),\n",
       " ('5gJgXbwAAAAJ', 'gAlcz-MAAAAJ'),\n",
       " ('5gJgXbwAAAAJ', 'gAlcz-MAAAAJ'),\n",
       " ('5gJgXbwAAAAJ', 'Hot2vtkAAAAJ'),\n",
       " ('gAlcz-MAAAAJ', 'Hot2vtkAAAAJ'),\n",
       " ('5gJgXbwAAAAJ', 'gAlcz-MAAAAJ'),\n",
       " ('5gJgXbwAAAAJ', 'Hot2vtkAAAAJ'),\n",
       " ('gAlcz-MAAAAJ', 'Hot2vtkAAAAJ'),\n",
       " ('TOokPzcAAAAJ', 'aO6d5WYAAAAJ'),\n",
       " ('TOokPzcAAAAJ', 'gAlcz-MAAAAJ'),\n",
       " ('aO6d5WYAAAAJ', 'gAlcz-MAAAAJ'),\n",
       " ('aO6d5WYAAAAJ', 'gAlcz-MAAAAJ'),\n",
       " ('idZNjDwAAAAJ', 'TOokPzcAAAAJ'),\n",
       " ('TOokPzcAAAAJ', 'aO6d5WYAAAAJ'),\n",
       " ('TOokPzcAAAAJ', 'gAlcz-MAAAAJ'),\n",
       " ('aO6d5WYAAAAJ', 'gAlcz-MAAAAJ'),\n",
       " ('gAlcz-MAAAAJ', 'h3LAgvUAAAAJ'),\n",
       " ('h3LAgvUAAAAJ', '5gJgXbwAAAAJ'),\n",
       " ('h3LAgvUAAAAJ', 'Hot2vtkAAAAJ'),\n",
       " ('5gJgXbwAAAAJ', 'Hot2vtkAAAAJ'),\n",
       " ('gAlcz-MAAAAJ', '5gJgXbwAAAAJ')]"
      ]
     },
     "execution_count": 3,
     "metadata": {},
     "output_type": "execute_result"
    }
   ],
   "source": [
    "link"
   ]
  },
  {
   "cell_type": "code",
   "execution_count": 4,
   "id": "29a9093d",
   "metadata": {},
   "outputs": [
    {
     "data": {
      "text/html": [
       "<div>\n",
       "<style scoped>\n",
       "    .dataframe tbody tr th:only-of-type {\n",
       "        vertical-align: middle;\n",
       "    }\n",
       "\n",
       "    .dataframe tbody tr th {\n",
       "        vertical-align: top;\n",
       "    }\n",
       "\n",
       "    .dataframe thead th {\n",
       "        text-align: right;\n",
       "    }\n",
       "</style>\n",
       "<table border=\"1\" class=\"dataframe\">\n",
       "  <thead>\n",
       "    <tr style=\"text-align: right;\">\n",
       "      <th></th>\n",
       "      <th>name</th>\n",
       "      <th>id</th>\n",
       "    </tr>\n",
       "  </thead>\n",
       "  <tbody>\n",
       "    <tr>\n",
       "      <th>0</th>\n",
       "      <td>PC Kalverla</td>\n",
       "      <td>TOokPzcAAAAJ</td>\n",
       "    </tr>\n",
       "    <tr>\n",
       "      <th>1</th>\n",
       "      <td>GJ Steeneveld</td>\n",
       "      <td>1CT5_v8AAAAJ</td>\n",
       "    </tr>\n",
       "    <tr>\n",
       "      <th>2</th>\n",
       "      <td>AAM Holtslag</td>\n",
       "      <td>BGZz2I8AAAAJ</td>\n",
       "    </tr>\n",
       "    <tr>\n",
       "      <th>3</th>\n",
       "      <td>R Schmehl</td>\n",
       "      <td>n5XzBkwAAAAJ</td>\n",
       "    </tr>\n",
       "    <tr>\n",
       "      <th>4</th>\n",
       "      <td>V Eyring</td>\n",
       "      <td>Y3i87foAAAAJ</td>\n",
       "    </tr>\n",
       "    <tr>\n",
       "      <th>5</th>\n",
       "      <td>R Hut</td>\n",
       "      <td>5gJgXbwAAAAJ</td>\n",
       "    </tr>\n",
       "    <tr>\n",
       "      <th>6</th>\n",
       "      <td>J Aerts</td>\n",
       "      <td>h3LAgvUAAAAJ</td>\n",
       "    </tr>\n",
       "    <tr>\n",
       "      <th>7</th>\n",
       "      <td>P Wiersma</td>\n",
       "      <td>IvIf_hQAAAAJ</td>\n",
       "    </tr>\n",
       "    <tr>\n",
       "      <th>8</th>\n",
       "      <td>N Drost</td>\n",
       "      <td>gAlcz-MAAAAJ</td>\n",
       "    </tr>\n",
       "    <tr>\n",
       "      <th>9</th>\n",
       "      <td>N Van De Giesen</td>\n",
       "      <td>Hot2vtkAAAAJ</td>\n",
       "    </tr>\n",
       "    <tr>\n",
       "      <th>10</th>\n",
       "      <td>I Benedict</td>\n",
       "      <td>g0jZP2cAAAAJ</td>\n",
       "    </tr>\n",
       "    <tr>\n",
       "      <th>11</th>\n",
       "      <td>C Weijenborg</td>\n",
       "      <td>ihEXaxEAAAAJ</td>\n",
       "    </tr>\n",
       "    <tr>\n",
       "      <th>12</th>\n",
       "      <td>J Keune</td>\n",
       "      <td>zHyAh9wAAAAJ</td>\n",
       "    </tr>\n",
       "    <tr>\n",
       "      <th>13</th>\n",
       "      <td>B Schilperoort</td>\n",
       "      <td>WW59ArkAAAAJ</td>\n",
       "    </tr>\n",
       "    <tr>\n",
       "      <th>14</th>\n",
       "      <td>S Smeets</td>\n",
       "      <td>aO6d5WYAAAAJ</td>\n",
       "    </tr>\n",
       "    <tr>\n",
       "      <th>15</th>\n",
       "      <td>R Lorenz</td>\n",
       "      <td>idZNjDwAAAAJ</td>\n",
       "    </tr>\n",
       "  </tbody>\n",
       "</table>\n",
       "</div>"
      ],
      "text/plain": [
       "               name            id\n",
       "0       PC Kalverla  TOokPzcAAAAJ\n",
       "1     GJ Steeneveld  1CT5_v8AAAAJ\n",
       "2      AAM Holtslag  BGZz2I8AAAAJ\n",
       "3         R Schmehl  n5XzBkwAAAAJ\n",
       "4          V Eyring  Y3i87foAAAAJ\n",
       "5             R Hut  5gJgXbwAAAAJ\n",
       "6           J Aerts  h3LAgvUAAAAJ\n",
       "7         P Wiersma  IvIf_hQAAAAJ\n",
       "8           N Drost  gAlcz-MAAAAJ\n",
       "9   N Van De Giesen  Hot2vtkAAAAJ\n",
       "10       I Benedict  g0jZP2cAAAAJ\n",
       "11     C Weijenborg  ihEXaxEAAAAJ\n",
       "12          J Keune  zHyAh9wAAAAJ\n",
       "13   B Schilperoort  WW59ArkAAAAJ\n",
       "14         S Smeets  aO6d5WYAAAAJ\n",
       "15         R Lorenz  idZNjDwAAAAJ"
      ]
     },
     "execution_count": 4,
     "metadata": {},
     "output_type": "execute_result"
    }
   ],
   "source": [
    "df"
   ]
  },
  {
   "cell_type": "code",
   "execution_count": 7,
   "id": "7c91234d",
   "metadata": {},
   "outputs": [
    {
     "data": {
      "text/plain": [
       "44"
      ]
     },
     "execution_count": 7,
     "metadata": {},
     "output_type": "execute_result"
    }
   ],
   "source": [
    "node = df['id']"
   ]
  },
  {
   "cell_type": "code",
   "execution_count": 9,
   "id": "e3976bf2",
   "metadata": {},
   "outputs": [
    {
     "data": {
      "text/plain": [
       "0     TOokPzcAAAAJ\n",
       "1     1CT5_v8AAAAJ\n",
       "2     BGZz2I8AAAAJ\n",
       "3     n5XzBkwAAAAJ\n",
       "4     Y3i87foAAAAJ\n",
       "5     5gJgXbwAAAAJ\n",
       "6     h3LAgvUAAAAJ\n",
       "7     IvIf_hQAAAAJ\n",
       "8     gAlcz-MAAAAJ\n",
       "9     Hot2vtkAAAAJ\n",
       "10    g0jZP2cAAAAJ\n",
       "11    ihEXaxEAAAAJ\n",
       "12    zHyAh9wAAAAJ\n",
       "13    WW59ArkAAAAJ\n",
       "14    aO6d5WYAAAAJ\n",
       "15    idZNjDwAAAAJ\n",
       "Name: id, dtype: object"
      ]
     },
     "execution_count": 9,
     "metadata": {},
     "output_type": "execute_result"
    }
   ],
   "source": []
  },
  {
   "cell_type": "code",
   "execution_count": null,
   "id": "e7a87727",
   "metadata": {},
   "outputs": [],
   "source": []
  },
  {
   "cell_type": "code",
   "execution_count": null,
   "id": "97856c1a",
   "metadata": {},
   "outputs": [],
   "source": []
  },
  {
   "cell_type": "code",
   "execution_count": null,
   "id": "90434742",
   "metadata": {},
   "outputs": [],
   "source": []
  },
  {
   "cell_type": "code",
   "execution_count": null,
   "id": "04f5077e",
   "metadata": {},
   "outputs": [],
   "source": []
  },
  {
   "cell_type": "code",
   "execution_count": null,
   "id": "07fad1c4",
   "metadata": {},
   "outputs": [],
   "source": [
    "def build_graph(G, sch_id, depth: int, bredth: int, last_author=[]):\n",
    "    author_search = scholarly.search_author_id(sch_id)\n",
    "    author = scholarly.fill(author_search,sections=['coauthors','indices','counts'])\n",
    "    author_name = author['name']\n",
    "    author_hin = author['hindex']\n",
    "    author_ncite = author['citedby']\n",
    "    G.add_node(author_name,hindex=author_hin,name=author_name,ncite=author_ncite)\n",
    "    print(\"now at %s, depth=%d\"%(author_name,depth))\n",
    "    if depth>0:\n",
    "        for coauthor in author['coauthors'][:int(bredth)]:\n",
    "            G.add_edge(author_name,coauthor['name'])\n",
    "            if coauthor['name'] not in last_author:\n",
    "                last_author.append(author_name)\n",
    "                build_graph(G,coauthor['scholar_id'],depth-1,bredth,last_author)"
   ]
  },
  {
   "cell_type": "code",
   "execution_count": null,
   "id": "a5768620",
   "metadata": {},
   "outputs": [],
   "source": [
    "search_query = scholarly.search_author('Peter Kalverla')\n",
    "author = scholarly.fill(next(search_query))"
   ]
  },
  {
   "cell_type": "code",
   "execution_count": null,
   "id": "23ef3ff3",
   "metadata": {},
   "outputs": [],
   "source": [
    "print([pub['bib']['title'] for pub in author['publications']])"
   ]
  }
 ],
 "metadata": {
  "kernelspec": {
   "display_name": "base",
   "language": "python",
   "name": "python3"
  },
  "language_info": {
   "codemirror_mode": {
    "name": "ipython",
    "version": 3
   },
   "file_extension": ".py",
   "mimetype": "text/x-python",
   "name": "python",
   "nbconvert_exporter": "python",
   "pygments_lexer": "ipython3",
   "version": "3.9.13"
  },
  "vscode": {
   "interpreter": {
    "hash": "78d178f77aa2234760f0004d20edde8d97d9d6aae15b3a03389e75a39bac3a7d"
   }
  }
 },
 "nbformat": 4,
 "nbformat_minor": 5
}
