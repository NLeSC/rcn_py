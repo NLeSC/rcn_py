{
 "cells": [
  {
   "cell_type": "code",
   "execution_count": 3,
   "id": "33d994e2",
   "metadata": {},
   "outputs": [],
   "source": [
    "import pandas as pd\n",
    "import sys\n",
    "sys.path.append(\"..\")\n",
    "from rcn_py import orcid"
   ]
  },
  {
   "cell_type": "code",
   "execution_count": 5,
   "id": "0e146449",
   "metadata": {},
   "outputs": [
    {
     "name": "stdout",
     "output_type": "stream",
     "text": [
      "0000-0002-5821-2060\n"
     ]
    }
   ],
   "source": [
    "# Just trying to see if the package is available\n",
    "orcid_id = orcid.name_to_orcid_id(\"Stefan Verhoeven\")\n",
    "print(orcid_id)"
   ]
  },
  {
   "cell_type": "code",
   "execution_count": 8,
   "id": "c074886f",
   "metadata": {},
   "outputs": [],
   "source": [
    "orcid_record = orcid.query_orcid_for_record(orcid_id)"
   ]
  },
  {
   "cell_type": "code",
   "execution_count": 9,
   "id": "ea5051e4",
   "metadata": {},
   "outputs": [
    {
     "data": {
      "text/plain": [
       "'Stefan Verhoeven'"
      ]
     },
     "execution_count": 9,
     "metadata": {},
     "output_type": "execute_result"
    }
   ],
   "source": [
    "orcid_record['person']['name']['given-names']['value']+' '+orcid_record['person']['name']['family-name']['value']"
   ]
  },
  {
   "cell_type": "code",
   "execution_count": 10,
   "id": "a4b9e4e4",
   "metadata": {},
   "outputs": [
    {
     "name": "stdout",
     "output_type": "stream",
     "text": [
      "10.5194/egusphere-egu2020-11730, Coupling Hydrological models using BMI in eWaterCycle\n",
      "10.5194/egusphere-egu2020-11495, The eWaterCycle platform for FAIR and Open Hydrological Modeling\n",
      "10.7717/peerj.8214, sv-callers: a highly portable parallel workflow for structural variant detection in whole-genome sequence data\n",
      "10.1002/cmdc.201700754, 3D-e-Chem: Structural Cheminformatics Workflows for Computer-Aided Drug Discovery\n",
      "10.1021/acs.jcim.6b00686, 3D-e-Chem-VM: Structural cheminformatics research infrastructure in a freely available Virtual Machine\n",
      "10.1080/17538947.2016.1205673, Using modular 3D digital earth applications based on point clouds for the study of complex sites\n",
      "10.1021/ac403875b, In silico prediction and automatic LC-MS(n) annotation of green tea metabolites in urine.\n",
      "10.5702/massspectrometry.s0033, Automatic Compound Annotation from Mass Spectrometry Data Using MAGMa.\n",
      "10.1021/ac400861a, Automatic chemical structure annotation of an LC-MS(n) based metabolic profile from green tea.\n",
      "10.1186/1756-0381-6-2, Identification of new biomarker candidates for glucocorticoid induced insulin resistance using literature mining.\n",
      "10.1002/rcm.6364, Substructure-based annotation of high-resolution multistage MS(n)  spectral trees.\n",
      "10.1021/jm300280e, A prospective cross-screening study on G-protein-coupled receptors: lessons learned in virtual compound library design.\n",
      "10.1021/ci200088d, Snooker: a structure-based pharmacophore generation tool applied to class A GPCRs.\n",
      "10.1093/nar/gkr310, CoPub update: CoPub 5.0 a text mining system to answer biological questions.\n",
      "10.1093/nar/gkq1009, GPCRDB: information system for G protein-coupled receptors.\n",
      "10.1186/1471-2105-12-332, ss-TEA: Entropy based identification of receptor specific ligand binding residues from a multiple sequence alignment of class A GPCRs.\n",
      "10.2217/14622416.8.11.1521, Literature-based compound profiling: application to toxicogenomics.\n",
      "10.1186/1471-2105-6-51, CoPub Mapper: mining MEDLINE based on search term co-publication.\n"
     ]
    }
   ],
   "source": [
    "works = orcid.extract_works_section(orcid_record)\n",
    "for work in works:\n",
    "    doi,title = orcid.extract_doi(work)\n",
    "    if doi:\n",
    "        print(f\"{doi}, {title}\")\n",
    "    else:\n",
    "        print(title)"
   ]
  },
  {
   "cell_type": "code",
   "execution_count": 121,
   "id": "bbbb8180",
   "metadata": {},
   "outputs": [],
   "source": [
    "docs = orcid.extract_works_section(orcid_record)\n",
    "all_orcid = []\n",
    "all_names = []\n",
    "for doc in docs:\n",
    "    dois, titles = orcid.extract_doi(doc)\n",
    "        \n",
    "    for doi in dois:\n",
    "            orcid_list, name_list = orcid.get_authors(doi)\n",
    "            all_orcid += orcid_list\n",
    "            all_names += name_list"
   ]
  },
  {
   "cell_type": "code",
   "execution_count": 113,
   "id": "8f9607cf",
   "metadata": {},
   "outputs": [],
   "source": [
    "def get_coauthors(full_name):\n",
    "    orcid_id = orcid.name_to_orcid_id(full_name)\n",
    "    orcid_record = orcid.query_orcid_for_record(orcid_id)\n",
    "    docs = orcid.extract_works_section(orcid_record)\n",
    "    all_orcid = []\n",
    "    all_names = []\n",
    "        \n",
    "    for doc in docs:\n",
    "        dois, titles = orcid.extract_doi(doc)\n",
    "        \n",
    "        for doi in dois:\n",
    "            orcid_list, name_list = orcid.get_authors(doi)\n",
    "            all_orcid += orcid_list\n",
    "            all_names += name_list\n",
    "        \n",
    "    df = pd.DataFrame()\n",
    "    df['orcid'] = all_orcid\n",
    "    df['name'] = all_names\n",
    "    new_df = df.drop_duplicates(subset = ['orcid'],keep='first', ignore_index=True)\n",
    "    \n",
    "    return new_df\n",
    "    "
   ]
  },
  {
   "cell_type": "code",
   "execution_count": 11,
   "id": "87a25f60",
   "metadata": {},
   "outputs": [],
   "source": [
    "my_df = orcid.get_coauthors(\"Stefan Verhoeven\")"
   ]
  },
  {
   "cell_type": "code",
   "execution_count": 114,
   "id": "04c264b8",
   "metadata": {},
   "outputs": [],
   "source": [
    "my_df = get_coauthors(\"Peter Kalverla\")"
   ]
  },
  {
   "cell_type": "code",
   "execution_count": 12,
   "id": "7cc3fa57",
   "metadata": {},
   "outputs": [
    {
     "data": {
      "text/html": [
       "<div>\n",
       "<style scoped>\n",
       "    .dataframe tbody tr th:only-of-type {\n",
       "        vertical-align: middle;\n",
       "    }\n",
       "\n",
       "    .dataframe tbody tr th {\n",
       "        vertical-align: top;\n",
       "    }\n",
       "\n",
       "    .dataframe thead th {\n",
       "        text-align: right;\n",
       "    }\n",
       "</style>\n",
       "<table border=\"1\" class=\"dataframe\">\n",
       "  <thead>\n",
       "    <tr style=\"text-align: right;\">\n",
       "      <th></th>\n",
       "      <th>orcid</th>\n",
       "      <th>name</th>\n",
       "    </tr>\n",
       "  </thead>\n",
       "  <tbody>\n",
       "  </tbody>\n",
       "</table>\n",
       "</div>"
      ],
      "text/plain": [
       "Empty DataFrame\n",
       "Columns: [orcid, name]\n",
       "Index: []"
      ]
     },
     "execution_count": 12,
     "metadata": {},
     "output_type": "execute_result"
    }
   ],
   "source": [
    "my_df"
   ]
  },
  {
   "cell_type": "code",
   "execution_count": null,
   "id": "c732b36e",
   "metadata": {},
   "outputs": [],
   "source": []
  }
 ],
 "metadata": {
  "kernelspec": {
   "display_name": "base",
   "language": "python",
   "name": "python3"
  },
  "language_info": {
   "codemirror_mode": {
    "name": "ipython",
    "version": 3
   },
   "file_extension": ".py",
   "mimetype": "text/x-python",
   "name": "python",
   "nbconvert_exporter": "python",
   "pygments_lexer": "ipython3",
   "version": "3.9.13"
  },
  "vscode": {
   "interpreter": {
    "hash": "78d178f77aa2234760f0004d20edde8d97d9d6aae15b3a03389e75a39bac3a7d"
   }
  }
 },
 "nbformat": 4,
 "nbformat_minor": 5
}
