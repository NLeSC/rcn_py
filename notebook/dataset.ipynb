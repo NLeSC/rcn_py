{
 "cells": [
  {
   "cell_type": "code",
   "execution_count": 68,
   "metadata": {},
   "outputs": [],
   "source": [
    "import sqlite3\n",
    "# import ibis\n",
    "import sys\n",
    "import pandas as pd\n",
    "sys.path.append(\"..\")\n",
    "from rcn_py import database\n",
    "from rcn_py import neo4j_scopus\n",
    "from neo4j import GraphDatabase\n",
    "import os"
   ]
  },
  {
   "attachments": {},
   "cell_type": "markdown",
   "metadata": {},
   "source": [
    "\n",
    "    author-paper table\n",
    "    author info table\n",
    "    publication table"
   ]
  },
  {
   "cell_type": "code",
   "execution_count": 12,
   "metadata": {},
   "outputs": [],
   "source": [
    "con = sqlite3.connect(\"/Users/jennifer/RCSNA/data/tutorial.db\")\n",
    "cur = con.cursor()"
   ]
  },
  {
   "cell_type": "code",
   "execution_count": 12,
   "metadata": {},
   "outputs": [
    {
     "data": {
      "text/plain": [
       "<sqlite3.Cursor at 0x7fc879214f80>"
      ]
     },
     "execution_count": 12,
     "metadata": {},
     "output_type": "execute_result"
    }
   ],
   "source": [
    "cur.execute(\"CREATE TABLE test_paper(doi primary key, title, abstract)\")"
   ]
  },
  {
   "cell_type": "code",
   "execution_count": 13,
   "metadata": {},
   "outputs": [
    {
     "data": {
      "text/plain": [
       "<sqlite3.Cursor at 0x7fc879214f80>"
      ]
     },
     "execution_count": 13,
     "metadata": {},
     "output_type": "execute_result"
    }
   ],
   "source": [
    "cur.execute(\"CREATE TABLE test_authors(orcid primary key, name, country)\")\n"
   ]
  },
  {
   "cell_type": "code",
   "execution_count": 16,
   "metadata": {},
   "outputs": [
    {
     "data": {
      "text/plain": [
       "<sqlite3.Cursor at 0x7fc879214f80>"
      ]
     },
     "execution_count": 16,
     "metadata": {},
     "output_type": "execute_result"
    }
   ],
   "source": [
    "cur.execute(\"CREATE TABLE test_author_papers2(orcid, doi, primary key(orcid, doi) FOREIGN KEY(orcid) REFERENCES test_authors(orcid), FOREIGN KEY(doi) REFERENCES test_paper(doi))\")"
   ]
  },
  {
   "cell_type": "code",
   "execution_count": 55,
   "metadata": {},
   "outputs": [],
   "source": [
    "con.commit()"
   ]
  },
  {
   "cell_type": "code",
   "execution_count": 56,
   "metadata": {},
   "outputs": [],
   "source": [
    "con.close()"
   ]
  },
  {
   "attachments": {},
   "cell_type": "markdown",
   "metadata": {},
   "source": [
    "## Insert data"
   ]
  },
  {
   "cell_type": "code",
   "execution_count": 72,
   "metadata": {},
   "outputs": [
    {
     "data": {
      "text/plain": [
       "'Done.'"
      ]
     },
     "execution_count": 72,
     "metadata": {},
     "output_type": "execute_result"
    }
   ],
   "source": [
    "database.insert_database(\"/Users/jennifer/RCSNA/data/tutorial.db\", '',\"Peter Kalverla\")"
   ]
  },
  {
   "cell_type": "code",
   "execution_count": null,
   "metadata": {},
   "outputs": [],
   "source": [
    "database.insert_coauthors_pub(\"/Users/jennifer/RCSNA/data/tutorial.db\", \"Peter Kalverla\")"
   ]
  },
  {
   "cell_type": "code",
   "execution_count": null,
   "metadata": {},
   "outputs": [],
   "source": [
    "database.insert_cocoauthors(\"/Users/jennifer/RCSNA/data/tutorial.db\")"
   ]
  },
  {
   "attachments": {},
   "cell_type": "markdown",
   "metadata": {},
   "source": [
    "### Fetch data from database"
   ]
  },
  {
   "cell_type": "code",
   "execution_count": null,
   "metadata": {},
   "outputs": [],
   "source": [
    "con = sqlite3.connect(\"/Users/jennifer/RCSNA/data/tutorial.db\")\n",
    "cur = con.cursor()\n",
    "\n",
    "# Topic modeling (title or abstract) to cluster papers\n",
    "clusters, idx2topics = database.pub_cluster(cur)"
   ]
  },
  {
   "cell_type": "code",
   "execution_count": null,
   "metadata": {},
   "outputs": [],
   "source": [
    "# get coauthor relationship\n",
    "links = database.fetch_relationships(cur)"
   ]
  },
  {
   "cell_type": "code",
   "execution_count": null,
   "metadata": {},
   "outputs": [],
   "source": [
    "# assign author's group as the most frequent paper group\n",
    "orcid_group = database.author_cluster(cur, clusters)\n",
    "\n",
    "cur.close()"
   ]
  },
  {
   "cell_type": "code",
   "execution_count": null,
   "metadata": {},
   "outputs": [],
   "source": [
    "# pyvis\n",
    "database.build_network_database(\"Database\")"
   ]
  },
  {
   "attachments": {},
   "cell_type": "markdown",
   "metadata": {},
   "source": [
    "### Store more data"
   ]
  },
  {
   "cell_type": "code",
   "execution_count": 4,
   "metadata": {},
   "outputs": [],
   "source": [
    "con = sqlite3.connect(\"/Users/jennifer/RCSNA/data/tutorial.db\")\n",
    "cur = con.cursor()"
   ]
  },
  {
   "cell_type": "code",
   "execution_count": 6,
   "metadata": {},
   "outputs": [],
   "source": [
    "con_rsd = sqlite3.connect(\"/Users/jennifer/RCSNA/data/rsd.db\")\n",
    "cur_rsd = con_rsd.cursor()"
   ]
  },
  {
   "cell_type": "code",
   "execution_count": 18,
   "metadata": {},
   "outputs": [],
   "source": [
    "res_rsd = cur_rsd.execute(\"\"\"\n",
    "SELECT orcid, given_name, family_name, affiliation \n",
    "FROM author \n",
    "WHERE affiliation = 'Netherlands eScience Center'\n",
    "GROUP BY orcid\n",
    "UNION\n",
    "SELECT orcid, given_name, family_name, affiliation \n",
    "FROM contributor \n",
    "WHERE affiliation = 'Netherlands eScience Center'\n",
    "GROUP BY orcid\n",
    "\"\"\")\n",
    "escience_member = res_rsd.fetchall()"
   ]
  },
  {
   "cell_type": "code",
   "execution_count": 25,
   "metadata": {},
   "outputs": [
    {
     "data": {
      "text/plain": [
       "('0000-0001-5301-3276',\n",
       " 'Jesus',\n",
       " 'Garcia Gonzalez',\n",
       " 'Netherlands eScience Center')"
      ]
     },
     "execution_count": 25,
     "metadata": {},
     "output_type": "execute_result"
    }
   ],
   "source": [
    "escience_member[0]\n"
   ]
  },
  {
   "cell_type": "code",
   "execution_count": 2,
   "metadata": {},
   "outputs": [],
   "source": [
    "def insert_escience_rsd_member(db_path):\n",
    "    con_rsd = sqlite3.connect(\"/Users/jennifer/RCSNA/data/rsd.db\")\n",
    "    cur_rsd = con_rsd.cursor()\n",
    "    res_rsd = cur_rsd.execute(\"\"\"\n",
    "        SELECT orcid, given_name, family_name, affiliation \n",
    "        FROM author \n",
    "        WHERE affiliation = 'Netherlands eScience Center'\n",
    "        GROUP BY orcid\n",
    "        UNION\n",
    "        SELECT orcid, given_name, family_name, affiliation \n",
    "        FROM contributor \n",
    "        WHERE affiliation = 'Netherlands eScience Center'\n",
    "        GROUP BY orcid\n",
    "        \"\"\")\n",
    "    escience_members = res_rsd.fetchall()\n",
    "    for member in escience_members:\n",
    "        orcid_id = member[0]\n",
    "        fullname = member[1] + \" \" + member[2]\n",
    "        database.insert_database(db_path, orcid_id, fullname)\n",
    "\n",
    "    con_rsd.commit()\n",
    "    con_rsd.close()\n",
    "    return \"Insertion complete\"\n",
    "    "
   ]
  },
  {
   "cell_type": "code",
   "execution_count": 3,
   "metadata": {},
   "outputs": [
    {
     "data": {
      "text/plain": [
       "'Insertion complete'"
      ]
     },
     "execution_count": 3,
     "metadata": {},
     "output_type": "execute_result"
    }
   ],
   "source": [
    "insert_escience_rsd_member(\"/Users/jennifer/RCSNA/data/tutorial.db\")"
   ]
  },
  {
   "cell_type": "code",
   "execution_count": 14,
   "metadata": {},
   "outputs": [],
   "source": [
    "# cur.execute(\"DELETE FROM author_publication WHERE doi = 'None'\")\n",
    "con.commit()\n",
    "con.close()"
   ]
  },
  {
   "attachments": {},
   "cell_type": "markdown",
   "metadata": {},
   "source": [
    "## Neo4j"
   ]
  },
  {
   "cell_type": "code",
   "execution_count": 6,
   "metadata": {},
   "outputs": [],
   "source": [
    "def get_pub_info(tx, df, subject):\n",
    "    for i in range(len(df)):\n",
    "        doi = df.DOI[i]\n",
    "        title = df.Title[i]\n",
    "        year = df.Year[i]\n",
    "        cited = df[\"Cited by\"][i]\n",
    "        # subject = subject\n",
    "        if not isinstance(df['Author Keywords'][i], str):\n",
    "            keywords = []\n",
    "        else:\n",
    "            keywords = df[\"Author Keywords\"][i].split(\"; \")\n",
    "        author_scopus_id = df[\"Author(s) ID\"][i].split(\";\")[0:-1]\n",
    "        author_name = df[\"Authors\"][i].split(\", \")[0:len(author_scopus_id)]\n",
    "        author_aff = df['Authors with affiliations'][i].split(\"; \")[0:len(author_scopus_id)]\n",
    "        author_country = [aff.split(\", \")[-1] for aff in author_aff]\n",
    "\n",
    "        # remove papers with single author\n",
    "        if len(author_scopus_id) < 2:\n",
    "            continue\n",
    "\n",
    "        # APOC plugin should be installed in your Neo4j Server\n",
    "        # Create people nodes\n",
    "        for n in range(len(author_scopus_id)):\n",
    "            # if the person exists, append keywords and year\n",
    "            # avoid adding duplicate years\n",
    "            tx.run(\"\"\"\n",
    "                MERGE (p:Person {scopus_id: $id})\n",
    "                SET p.name = $name,\n",
    "                    p.affiliation = $affiliation, \n",
    "                    p.country = $country,\n",
    "                    p.keywords = coalesce(p.keywords, []) + $keywords,\n",
    "                    p.year = apoc.coll.toSet(coalesce(p.year, []) + $year),\n",
    "                    p.subject = coalesce(p.subject, []) + $subject\n",
    "                \"\"\", \n",
    "                id = author_scopus_id[n],\n",
    "                name = author_name[n],\n",
    "                affiliation = author_aff[n],\n",
    "                country = author_country[n],\n",
    "                keywords = keywords,\n",
    "                year = year,\n",
    "                subject = subject\n",
    "                )\n",
    "            \n",
    "        # Create edges\n",
    "        for i in range(len(author_scopus_id))[0:-1]:\n",
    "            for j in range(len(author_scopus_id))[i+1:]:\n",
    "                # if the edge exists, add weight, doi, title, year\n",
    "                # avoid adding duplicate years\n",
    "                tx.run(\"\"\"\n",
    "                    MATCH \n",
    "                        (a:Person), \n",
    "                        (b:Person)\n",
    "                    WHERE a.scopus_id = $person_a AND b.scopus_id = $person_b\n",
    "                    MERGE (a)-[r:COAUTHOR]-(b)\n",
    "                    SET r.doi = coalesce(r.doi, []) + $doi,\n",
    "                        r.title = coalesce(r.title, []) + $title,\n",
    "                        r.year = apoc.coll.toSet(a.year + b.year),\n",
    "                        r.weight = size(r.doi)+1,\n",
    "                        r.cited = coalesce(r.cited, []) + $cited,\n",
    "                        r.subject = apoc.coll.toSet(coalesce(r.subject, []) + $subject)\n",
    "                    \"\"\", \n",
    "                    person_a=author_scopus_id[i], \n",
    "                    person_b=author_scopus_id[j], \n",
    "                    doi = doi,\n",
    "                    title = title,\n",
    "                    cited = cited,\n",
    "                    subject = subject\n",
    "                    )\n",
    "\n",
    "        "
   ]
  },
  {
   "cell_type": "code",
   "execution_count": 116,
   "metadata": {},
   "outputs": [],
   "source": [
    "def neo4j_create_people(tx, df, subject):\n",
    "    for i in range(len(df)):\n",
    "        # remove noise data\n",
    "        if not isinstance(df['Author(s) ID'][i], str):\n",
    "            continue\n",
    "        author_scopus_id = df[\"Author(s) ID\"][i].split(\";\")[0:-1]\n",
    "\n",
    "        # remove papers with single author\n",
    "        if len(author_scopus_id) < 2:\n",
    "            continue\n",
    "        year = df.Year[i]\n",
    "        author_name = df[\"Authors\"][i].split(\", \")[0:len(author_scopus_id)]\n",
    "        author_aff = df['Authors with affiliations'][i].split(\"; \")[0:len(author_scopus_id)]\n",
    "        author_country = [aff.split(\", \")[-1] for aff in author_aff]\n",
    "        if not isinstance(df['Author Keywords'][i], str):\n",
    "            keywords = []\n",
    "        else:\n",
    "            keywords = df[\"Author Keywords\"][i].split(\"; \")\n",
    "\n",
    "        # APOC plugin should be installed in your Neo4j Server\n",
    "        # Create people nodes\n",
    "        for n in range(len(author_scopus_id)):\n",
    "            # if the person exists, append keywords and year\n",
    "            # avoid adding duplicate years\n",
    "            tx.run(\"\"\"\n",
    "                MERGE (p:Person {scopus_id: $id})\n",
    "                SET p.name = $name,\n",
    "                    p.affiliation = $affiliation, \n",
    "                    p.country = $country,\n",
    "                    p.keywords = apoc.coll.toSet(coalesce(p.keywords, []) + $keywords),\n",
    "                    p.year = apoc.coll.toSet(coalesce(p.year, []) + $year),\n",
    "                    p.subject = apoc.coll.toSet(coalesce(p.subject, []) + $subject)\n",
    "                \"\"\", \n",
    "                id = author_scopus_id[n],\n",
    "                name = author_name[n],\n",
    "                affiliation = author_aff[n],\n",
    "                country = author_country[n],\n",
    "                keywords = keywords,\n",
    "                year = year,\n",
    "                subject = subject\n",
    "                )\n",
    "        "
   ]
  },
  {
   "cell_type": "code",
   "execution_count": 117,
   "metadata": {},
   "outputs": [],
   "source": [
    "def neo4j_create_publication(tx, df, subject):\n",
    "    for i in range(len(df)):\n",
    "        # remove noise data\n",
    "        if not isinstance(df['Author(s) ID'][i], str):\n",
    "            continue\n",
    "        author_scopus_id = df[\"Author(s) ID\"][i].split(\";\")[0:-1]\n",
    "        # remove papers with single author\n",
    "        if len(author_scopus_id) < 2:\n",
    "            continue\n",
    "\n",
    "        doi = df.DOI[i]\n",
    "        title = df.Title[i]\n",
    "        year = df.Year[i]\n",
    "        cited = df[\"Cited by\"][i]\n",
    "        # subject = subject\n",
    "        if not isinstance(df['Author Keywords'][i], str):\n",
    "            keywords = []\n",
    "        else:\n",
    "            keywords = df[\"Author Keywords\"][i].split(\"; \")\n",
    "\n",
    "        # Create publication nodes\n",
    "        tx.run(\"\"\"\n",
    "                MERGE (p:Publication {doi: $doi})\n",
    "                SET p.title = $title,\n",
    "                    p.year = $year, \n",
    "                    p.cited = $cited,\n",
    "                    p.keywords = $keywords,\n",
    "                    p.subject = apoc.coll.toSet(coalesce(p.subject, []) + $subject)\n",
    "                \"\"\", \n",
    "                doi = doi,\n",
    "                title = title,\n",
    "                year = year,\n",
    "                cited = cited,\n",
    "                keywords = keywords,\n",
    "                subject = subject\n",
    "                )\n",
    "        \n",
    "        "
   ]
  },
  {
   "cell_type": "code",
   "execution_count": 118,
   "metadata": {},
   "outputs": [],
   "source": [
    "def neo4j_create_author_pub_edge(tx, df):\n",
    "    for i in range(len(df)):\n",
    "        # remove noise data\n",
    "        if not isinstance(df['Author(s) ID'][i], str):\n",
    "            continue\n",
    "        author_scopus_id = df[\"Author(s) ID\"][i].split(\";\")[0:-1]\n",
    "        # remove papers with single author\n",
    "        if len(author_scopus_id) < 2:\n",
    "            continue     \n",
    "\n",
    "        author_name = df[\"Authors\"][i].split(\", \")[0:len(author_scopus_id)]   \n",
    "        year = df.Year[i]\n",
    "        doi = df.DOI[i]\n",
    "        title = df.Title[i]\n",
    "        # APOC plugin should be installed in your Neo4j Server\n",
    "        # Create edges\n",
    "        for i in range(len(author_scopus_id)):\n",
    "            tx.run(\"\"\"\n",
    "                    MATCH \n",
    "                        (n:Person {scopus_id: $person_id}), \n",
    "                        (p:Publication {doi: $doi})\n",
    "                    MERGE (n)-[r:IS_AUTHOR_OF]->(p)\n",
    "                    ON CREATE SET \n",
    "                        r.year = $year,\n",
    "                        r.author_name = $author_name,\n",
    "                        r.title = $title\n",
    "                    \"\"\", \n",
    "                    person_id = author_scopus_id[i], \n",
    "                    doi = doi, \n",
    "                    year = year,\n",
    "                    author_name = author_name[i],\n",
    "                    title = title\n",
    "                    )"
   ]
  },
  {
   "cell_type": "code",
   "execution_count": 103,
   "metadata": {},
   "outputs": [],
   "source": [
    "def neo4j_create_relationship(tx, df, subject):\n",
    "    for i in range(len(df)):\n",
    "        author_scopus_id = df[\"Author(s) ID\"][i].split(\";\")[0:-1]\n",
    "        # remove papers with single author\n",
    "        if len(author_scopus_id) < 2:\n",
    "            continue        \n",
    "\n",
    "        doi = df.DOI[i]\n",
    "        title = df.Title[i]\n",
    "        cited = df[\"Cited by\"][i]\n",
    "\n",
    "        # APOC plugin should be installed in your Neo4j Server\n",
    "        # Create edges\n",
    "        for i in range(len(author_scopus_id))[0:-1]:\n",
    "            for j in range(len(author_scopus_id))[i+1:]:\n",
    "                # if the edge exists, add weight, doi, title, year\n",
    "                # avoid adding duplicate years\n",
    "                tx.run(\"\"\"\n",
    "                    MATCH \n",
    "                        (a:Person {scopus_id: $person_a}), \n",
    "                        (b:Person {scopus_id: $person_b})\n",
    "                    MERGE (a)-[r:COAUTHOR]-(b)\n",
    "                    SET r.doi = coalesce(r.doi, []) + $doi,\n",
    "                        r.title = coalesce(r.title, []) + $title,\n",
    "                        r.year = apoc.coll.toSet(a.year + b.year),\n",
    "                        r.weight = size(r.doi)+1,\n",
    "                        r.cited = coalesce(r.cited, []) + $cited,\n",
    "                        r.subject = apoc.coll.toSet(coalesce(r.subject, []) + $subject)\n",
    "                    \"\"\", \n",
    "                    person_a=author_scopus_id[i], \n",
    "                    person_b=author_scopus_id[j], \n",
    "                    doi = doi,\n",
    "                    title = title,\n",
    "                    cited = cited,\n",
    "                    subject = subject\n",
    "                    )\n",
    "        "
   ]
  },
  {
   "cell_type": "code",
   "execution_count": null,
   "metadata": {},
   "outputs": [],
   "source": [
    "# remote AuraDB, only one for free'\n",
    "# uri = \"neo4j+s://a93e1a64.databases.neo4j.io\"\n",
    "# user = \"neo4j\"\n",
    "# password = \"ifVwf-BGTZt1ltrNgVbh5Q6aGSxQSksQJSxBUbJb1BE\""
   ]
  },
  {
   "cell_type": "code",
   "execution_count": 44,
   "metadata": {},
   "outputs": [],
   "source": [
    "# local AuraDB\n",
    "uri = \"bolt://localhost:7687\"\n",
    "user = \"neo4j\"\n",
    "password = \"zhiningbai\""
   ]
  },
  {
   "cell_type": "code",
   "execution_count": 46,
   "metadata": {},
   "outputs": [],
   "source": [
    "check_verify =  GraphDatabase.driver(uri, auth=(user, password))\n",
    "check_verify.verify_connectivity()"
   ]
  },
  {
   "cell_type": "code",
   "execution_count": 127,
   "metadata": {},
   "outputs": [
    {
     "data": {
      "text/html": [
       "<div>\n",
       "<style scoped>\n",
       "    .dataframe tbody tr th:only-of-type {\n",
       "        vertical-align: middle;\n",
       "    }\n",
       "\n",
       "    .dataframe tbody tr th {\n",
       "        vertical-align: top;\n",
       "    }\n",
       "\n",
       "    .dataframe thead th {\n",
       "        text-align: right;\n",
       "    }\n",
       "</style>\n",
       "<table border=\"1\" class=\"dataframe\">\n",
       "  <thead>\n",
       "    <tr style=\"text-align: right;\">\n",
       "      <th></th>\n",
       "      <th>Authors</th>\n",
       "      <th>Author(s) ID</th>\n",
       "      <th>Title</th>\n",
       "      <th>Year</th>\n",
       "      <th>Cited by</th>\n",
       "      <th>DOI</th>\n",
       "      <th>Link</th>\n",
       "      <th>Affiliations</th>\n",
       "      <th>Authors with affiliations</th>\n",
       "      <th>Author Keywords</th>\n",
       "    </tr>\n",
       "  </thead>\n",
       "  <tbody>\n",
       "    <tr>\n",
       "      <th>0</th>\n",
       "      <td>Ma H., Van Der Zee R., Nauta B.</td>\n",
       "      <td>56304214300;7007040526;57209315405;</td>\n",
       "      <td>An integrated 80-V class-D power output stage ...</td>\n",
       "      <td>2013</td>\n",
       "      <td>8.0</td>\n",
       "      <td>10.1109/ESSCIRC.2013.6649079</td>\n",
       "      <td>https://www.scopus.com/inward/record.uri?eid=2...</td>\n",
       "      <td>IC Design Group, CTIT Research Institute, Univ...</td>\n",
       "      <td>Ma, H., IC Design Group, CTIT Research Institu...</td>\n",
       "      <td>NaN</td>\n",
       "    </tr>\n",
       "    <tr>\n",
       "      <th>1</th>\n",
       "      <td>Bouwman H., Cerpa N.</td>\n",
       "      <td>7004140817;6603334728;</td>\n",
       "      <td>Special issue on cloud computing and electroni...</td>\n",
       "      <td>2013</td>\n",
       "      <td>NaN</td>\n",
       "      <td>10.4067/S0718-18762013000300001</td>\n",
       "      <td>https://www.scopus.com/inward/record.uri?eid=2...</td>\n",
       "      <td>Delft University of Technology, Netherlands; U...</td>\n",
       "      <td>Bouwman, H., Delft University of Technology, N...</td>\n",
       "      <td>NaN</td>\n",
       "    </tr>\n",
       "    <tr>\n",
       "      <th>2</th>\n",
       "      <td>Jiang J., Makinwa K.A.A., Kindt W.J.</td>\n",
       "      <td>55976393500;6603240637;6602378329;</td>\n",
       "      <td>A continuous-time ripple reduction technique f...</td>\n",
       "      <td>2013</td>\n",
       "      <td>1.0</td>\n",
       "      <td>10.1109/ESSCIRC.2013.6649111</td>\n",
       "      <td>https://www.scopus.com/inward/record.uri?eid=2...</td>\n",
       "      <td>Electronic Instrumentation Laboratory, DIMES, ...</td>\n",
       "      <td>Jiang, J., Electronic Instrumentation Laborato...</td>\n",
       "      <td>NaN</td>\n",
       "    </tr>\n",
       "    <tr>\n",
       "      <th>3</th>\n",
       "      <td>Driemel A., Har-Peled S.</td>\n",
       "      <td>36184974300;7005460407;</td>\n",
       "      <td>Jaywalking your dog: Computing the fréchet dis...</td>\n",
       "      <td>2013</td>\n",
       "      <td>49.0</td>\n",
       "      <td>10.1137/120865112</td>\n",
       "      <td>https://www.scopus.com/inward/record.uri?eid=2...</td>\n",
       "      <td>Department of Information and Computing Scienc...</td>\n",
       "      <td>Driemel, A., Department of Information and Com...</td>\n",
       "      <td>Approximation algorithms; Fréchet distance; Ge...</td>\n",
       "    </tr>\n",
       "    <tr>\n",
       "      <th>4</th>\n",
       "      <td>Abate A.</td>\n",
       "      <td>56819871700;</td>\n",
       "      <td>Approximation metrics based on probabilistic b...</td>\n",
       "      <td>2013</td>\n",
       "      <td>28.0</td>\n",
       "      <td>10.1016/j.entcs.2013.12.002</td>\n",
       "      <td>https://www.scopus.com/inward/record.uri?eid=2...</td>\n",
       "      <td>Delft Center for Systems and Control, Technisc...</td>\n",
       "      <td>Abate, A., Delft Center for Systems and Contro...</td>\n",
       "      <td>Formal Approximations; Lyapunov Theory; Markov...</td>\n",
       "    </tr>\n",
       "  </tbody>\n",
       "</table>\n",
       "</div>"
      ],
      "text/plain": [
       "                                Authors                         Author(s) ID  \\\n",
       "0       Ma H., Van Der Zee R., Nauta B.  56304214300;7007040526;57209315405;   \n",
       "1                  Bouwman H., Cerpa N.               7004140817;6603334728;   \n",
       "2  Jiang J., Makinwa K.A.A., Kindt W.J.   55976393500;6603240637;6602378329;   \n",
       "3              Driemel A., Har-Peled S.              36184974300;7005460407;   \n",
       "4                              Abate A.                         56819871700;   \n",
       "\n",
       "                                               Title  Year  Cited by  \\\n",
       "0  An integrated 80-V class-D power output stage ...  2013       8.0   \n",
       "1  Special issue on cloud computing and electroni...  2013       NaN   \n",
       "2  A continuous-time ripple reduction technique f...  2013       1.0   \n",
       "3  Jaywalking your dog: Computing the fréchet dis...  2013      49.0   \n",
       "4  Approximation metrics based on probabilistic b...  2013      28.0   \n",
       "\n",
       "                               DOI  \\\n",
       "0     10.1109/ESSCIRC.2013.6649079   \n",
       "1  10.4067/S0718-18762013000300001   \n",
       "2     10.1109/ESSCIRC.2013.6649111   \n",
       "3                10.1137/120865112   \n",
       "4      10.1016/j.entcs.2013.12.002   \n",
       "\n",
       "                                                Link  \\\n",
       "0  https://www.scopus.com/inward/record.uri?eid=2...   \n",
       "1  https://www.scopus.com/inward/record.uri?eid=2...   \n",
       "2  https://www.scopus.com/inward/record.uri?eid=2...   \n",
       "3  https://www.scopus.com/inward/record.uri?eid=2...   \n",
       "4  https://www.scopus.com/inward/record.uri?eid=2...   \n",
       "\n",
       "                                        Affiliations  \\\n",
       "0  IC Design Group, CTIT Research Institute, Univ...   \n",
       "1  Delft University of Technology, Netherlands; U...   \n",
       "2  Electronic Instrumentation Laboratory, DIMES, ...   \n",
       "3  Department of Information and Computing Scienc...   \n",
       "4  Delft Center for Systems and Control, Technisc...   \n",
       "\n",
       "                           Authors with affiliations  \\\n",
       "0  Ma, H., IC Design Group, CTIT Research Institu...   \n",
       "1  Bouwman, H., Delft University of Technology, N...   \n",
       "2  Jiang, J., Electronic Instrumentation Laborato...   \n",
       "3  Driemel, A., Department of Information and Com...   \n",
       "4  Abate, A., Delft Center for Systems and Contro...   \n",
       "\n",
       "                                     Author Keywords  \n",
       "0                                                NaN  \n",
       "1                                                NaN  \n",
       "2                                                NaN  \n",
       "3  Approximation algorithms; Fréchet distance; Ge...  \n",
       "4  Formal Approximations; Lyapunov Theory; Markov...  "
      ]
     },
     "execution_count": 127,
     "metadata": {},
     "output_type": "execute_result"
    }
   ],
   "source": [
    "nl_social2_20 = pd.read_csv(\"/Users/jennifer/scopus_data/year13/nl_cs1.csv\")\n",
    "nl_social2_20[0:5]"
   ]
  },
  {
   "cell_type": "code",
   "execution_count": 113,
   "metadata": {},
   "outputs": [
    {
     "name": "stdout",
     "output_type": "stream",
     "text": [
      "1090\n"
     ]
    }
   ],
   "source": [
    "for i in range(len(nl_social2_20)):\n",
    "    if not isinstance(nl_social2_20['Author(s) ID'][i], str):\n",
    "        print(i)\n",
    "    "
   ]
  },
  {
   "cell_type": "code",
   "execution_count": 115,
   "metadata": {},
   "outputs": [
    {
     "data": {
      "text/plain": [
       "Authors                                                          The Publisher\n",
       "Author(s) ID                                                               NaN\n",
       "Title                        Correction to: Thematic issue: Multilingualism...\n",
       "Year                                                                      2020\n",
       "Cited by                                                                   NaN\n",
       "DOI                                                 10.1007/s10993-019-09535-y\n",
       "Link                         https://www.scopus.com/inward/record.uri?eid=2...\n",
       "Affiliations                                            Dordrecht, Netherlands\n",
       "Authors with affiliations                                        The Publisher\n",
       "Author Keywords                                                            NaN\n",
       "Name: 1090, dtype: object"
      ]
     },
     "execution_count": 115,
     "metadata": {},
     "output_type": "execute_result"
    }
   ],
   "source": [
    "nl_social2_20.iloc[1090]"
   ]
  },
  {
   "cell_type": "code",
   "execution_count": null,
   "metadata": {},
   "outputs": [],
   "source": []
  },
  {
   "cell_type": "code",
   "execution_count": null,
   "metadata": {},
   "outputs": [],
   "source": [
    "# Add constraint\n",
    "\"\"\"\n",
    "CREATE CONSTRAINT pub_doi IF NOT EXISTS\n",
    "FOR (p:Publication) REQUIRE p.doi IS UNIQUE\n",
    "\n",
    "CREATE CONSTRAINT scopus_id IF NOT EXISTS\n",
    "FOR (n:Person) REQUIRE n.scopus_id IS UNIQUE\n",
    "\"\"\""
   ]
  },
  {
   "cell_type": "code",
   "execution_count": 39,
   "metadata": {},
   "outputs": [
    {
     "name": "stdout",
     "output_type": "stream",
     "text": [
      "nl_medicine1.csv is Done!\n",
      "nl_medicine2.csv is Done!\n",
      "nl_medicine3.csv is Done!\n",
      "nl_medicine4.csv is Done!\n",
      "nl_medicine5.csv is Done!\n",
      "nl_medicine6.csv is Done!\n",
      "nl_medicine7.csv is Done!\n",
      "nl_medicine8.csv is Done!\n",
      "nl_medicine9.csv is Done!\n",
      "nl_medicine10.csv is Done!\n",
      "nl_medicine11.csv is Done!\n"
     ]
    }
   ],
   "source": [
    "# Execution\n",
    "# Filepath and subject depends on the developer's data\n",
    "for i in range(1,12):\n",
    "    path = \"/Users/jennifer/scopus_data/year22/nl_medicine\"+str(i)+\".csv\"\n",
    "    df = pd.read_csv(path)\n",
    "    subject = \"Medicine\"\n",
    "\n",
    "    with GraphDatabase.driver(uri, auth=(user, password)) as driver:\n",
    "        driver.verify_connectivity()\n",
    "        with driver.session(database=\"neo4j\") as session:\n",
    "            # Create nodes & edges\n",
    "            session.execute_write(neo4j_create_people, df, subject) \n",
    "            session.execute_write(neo4j_create_publication, df, subject)\n",
    "            session.execute_write(neo4j_create_author_pub_edge, df)\n",
    "    print (\"nl_medicine\"+str(i)+\".csv is Done!\")      \n",
    "            \n",
    "            "
   ]
  },
  {
   "cell_type": "code",
   "execution_count": 76,
   "metadata": {},
   "outputs": [],
   "source": [
    "file_subject = [(\"medicine\", \"Medicine\"),\n",
    "                (\"bioc\", \"Biochemistry, Genetics and Molecular Biology\"),\n",
    "                (\"social\", \"Social Sciences\"),\n",
    "                (\"engineer\", \"Engineering\"),\n",
    "                (\"physics\", \"Physics and Astronomy\"),\n",
    "                (\"cs\", \"Computer Science\"),\n",
    "                (\"env\", \"Environmental Science\"),\n",
    "                (\"agricultural\", \"Agricultural and Biological Sciences\"),\n",
    "                (\"earth\", \"Earth and Planetary Sciences\"),\n",
    "                (\"chemistry\", \"Chemistry\"),\n",
    "                (\"psychology\", \"Psychology\"),\n",
    "                (\"neuroscience\", \"Neuroscience\"),\n",
    "                (\"math\", \"Mathematics\"),\n",
    "                (\"immunology\", \"Immunology and Microbiology\"),\n",
    "                (\"materials\", \"Materials Science\"),\n",
    "                (\"multi\", \"Multidisciplinary\"),\n",
    "                (\"arts\", \"Arts and Humanities\"),\n",
    "                (\"chemicalEngineering\", \"Chemical Engineering\"),\n",
    "                (\"pharmacology\", \"Pharmacology, Toxicology and Pharmaceutics\"),\n",
    "                (\"business\", \"Business, Management and Accounting\"),\n",
    "                (\"energy\", \"Energy\"),\n",
    "                (\"nursing\", \"Nursing\"),\n",
    "                (\"eco\", \"Economics, Econometrics and Finance\"),\n",
    "                (\"health\", \"Health Professions\"),\n",
    "                (\"decision\", \"Decision Sciences\"),\n",
    "                (\"veterinary\", \"Veterinary\"),\n",
    "                (\"dentistry\", \"Dentistry\")\n",
    "                ]"
   ]
  },
  {
   "cell_type": "code",
   "execution_count": 122,
   "metadata": {},
   "outputs": [
    {
     "data": {
      "text/plain": [
       "[('chemicalEngineering', 'Chemical Engineering')]"
      ]
     },
     "execution_count": 122,
     "metadata": {},
     "output_type": "execute_result"
    }
   ],
   "source": [
    "file_subject[17:18]"
   ]
  },
  {
   "cell_type": "code",
   "execution_count": 128,
   "metadata": {},
   "outputs": [
    {
     "name": "stdout",
     "output_type": "stream",
     "text": [
      "Medicine1 is Done!\n",
      "Medicine2 is Done!\n",
      "Medicine3 is Done!\n",
      "Medicine4 is Done!\n",
      "Medicine5 is Done!\n",
      "Medicine6 is Done!\n",
      "Medicine7 is Done!\n",
      "Medicine8 is Done!\n",
      "Medicine9 is Done!\n",
      "Biochemistry, Genetics and Molecular Biology1 is Done!\n",
      "Biochemistry, Genetics and Molecular Biology2 is Done!\n",
      "Biochemistry, Genetics and Molecular Biology3 is Done!\n",
      "Biochemistry, Genetics and Molecular Biology4 is Done!\n",
      "Social Sciences1 is Done!\n",
      "Social Sciences2 is Done!\n",
      "Social Sciences3 is Done!\n",
      "Engineering1 is Done!\n",
      "Engineering2 is Done!\n",
      "Physics and Astronomy1 is Done!\n",
      "Physics and Astronomy2 is Done!\n",
      "Physics and Astronomy3 is Done!\n",
      "Computer Science1 is Done!\n",
      "Computer Science2 is Done!\n",
      "Environmental Science1 is Done!\n",
      "Environmental Science2 is Done!\n",
      "Agricultural and Biological Sciences1 is Done!\n",
      "Agricultural and Biological Sciences2 is Done!\n",
      "Earth and Planetary Sciences1 is Done!\n",
      "Earth and Planetary Sciences2 is Done!\n",
      "Chemistry1 is Done!\n",
      "Chemistry2 is Done!\n",
      "Psychology1 is Done!\n",
      "Psychology2 is Done!\n",
      "Neuroscience1 is Done!\n",
      "Neuroscience2 is Done!\n",
      "Mathematics1 is Done!\n",
      "Mathematics2 is Done!\n",
      "Immunology and Microbiology1 is Done!\n",
      "Immunology and Microbiology2 is Done!\n",
      "Materials Science1 is Done!\n",
      "Materials Science2 is Done!\n",
      "Multidisciplinary1 is Done!\n",
      "Arts and Humanities1 is Done!\n",
      "Chemical Engineering1 is Done!\n",
      "Pharmacology, Toxicology and Pharmaceutics1 is Done!\n",
      "Business, Management and Accounting1 is Done!\n",
      "Energy1 is Done!\n",
      "Nursing1 is Done!\n",
      "Economics, Econometrics and Finance1 is Done!\n",
      "Health Professions1 is Done!\n",
      "Decision Sciences1 is Done!\n",
      "Veterinary1 is Done!\n",
      "Dentistry1 is Done!\n"
     ]
    }
   ],
   "source": [
    "# Execution\n",
    "# 22, 21, 20, 19\n",
    "\n",
    "with GraphDatabase.driver(uri, auth=(user, password)) as driver:\n",
    "    driver.verify_connectivity()\n",
    "    with driver.session(database=\"neo4j\") as session:\n",
    "        # Create nodes & edges\n",
    "        # Traversing csv files\n",
    "        for subject_pair in file_subject:\n",
    "            for n in range(1, 13):\n",
    "                filename = \"nl_\" + subject_pair[0] + str(n)\n",
    "                path = \"/Users/jennifer/scopus_data/year18/\"+filename+\".csv\"\n",
    "                if os.path.exists(path):\n",
    "                    df = pd.read_csv(path)\n",
    "                    subject = subject_pair[1]\n",
    "            \n",
    "                    session.execute_write(neo4j_create_people, df, subject) \n",
    "                    session.execute_write(neo4j_create_publication, df, subject)\n",
    "                    session.execute_write(neo4j_create_author_pub_edge, df)\n",
    "                    print (subject+str(n)+\" is Done!\")  \n",
    "                else:\n",
    "                    if n == 1:\n",
    "                        print(\"Cannot find file: \"+filename)\n",
    "                    break    \n",
    "            "
   ]
  },
  {
   "cell_type": "code",
   "execution_count": 42,
   "metadata": {},
   "outputs": [],
   "source": [
    "session.close()\n",
    "driver.close()"
   ]
  },
  {
   "cell_type": "code",
   "execution_count": null,
   "metadata": {},
   "outputs": [],
   "source": []
  },
  {
   "cell_type": "code",
   "execution_count": null,
   "metadata": {},
   "outputs": [],
   "source": []
  },
  {
   "cell_type": "code",
   "execution_count": null,
   "metadata": {},
   "outputs": [],
   "source": []
  }
 ],
 "metadata": {
  "kernelspec": {
   "display_name": "base",
   "language": "python",
   "name": "python3"
  },
  "language_info": {
   "codemirror_mode": {
    "name": "ipython",
    "version": 3
   },
   "file_extension": ".py",
   "mimetype": "text/x-python",
   "name": "python",
   "nbconvert_exporter": "python",
   "pygments_lexer": "ipython3",
   "version": "3.9.13"
  },
  "orig_nbformat": 4,
  "vscode": {
   "interpreter": {
    "hash": "78d178f77aa2234760f0004d20edde8d97d9d6aae15b3a03389e75a39bac3a7d"
   }
  }
 },
 "nbformat": 4,
 "nbformat_minor": 2
}
