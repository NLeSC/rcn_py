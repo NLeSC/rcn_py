{
 "cells": [
  {
   "cell_type": "code",
   "execution_count": 1,
   "metadata": {},
   "outputs": [
    {
     "name": "stderr",
     "output_type": "stream",
     "text": [
      "[nltk_data] Downloading package omw-1.4 to\n",
      "[nltk_data]     /Users/jennifer/nltk_data...\n",
      "[nltk_data]   Package omw-1.4 is already up-to-date!\n",
      "[nltk_data] Downloading package stopwords to\n",
      "[nltk_data]     /Users/jennifer/nltk_data...\n",
      "[nltk_data]   Package stopwords is already up-to-date!\n",
      "[nltk_data] Downloading package wordnet to\n",
      "[nltk_data]     /Users/jennifer/nltk_data...\n",
      "[nltk_data]   Package wordnet is already up-to-date!\n"
     ]
    }
   ],
   "source": [
    "import sqlite3\n",
    "# import ibis\n",
    "import sys\n",
    "import pandas as pd\n",
    "sys.path.append(\"..\")\n",
    "from rcn_py import database\n",
    "from crossref.restful import Works\n",
    "from neo4j import GraphDatabase"
   ]
  },
  {
   "attachments": {},
   "cell_type": "markdown",
   "metadata": {},
   "source": [
    "\n",
    "    author-paper table\n",
    "    author info table\n",
    "    publication table"
   ]
  },
  {
   "cell_type": "code",
   "execution_count": 12,
   "metadata": {},
   "outputs": [],
   "source": [
    "con = sqlite3.connect(\"/Users/jennifer/RCSNA/data/tutorial.db\")\n",
    "cur = con.cursor()"
   ]
  },
  {
   "cell_type": "code",
   "execution_count": 12,
   "metadata": {},
   "outputs": [
    {
     "data": {
      "text/plain": [
       "<sqlite3.Cursor at 0x7fc879214f80>"
      ]
     },
     "execution_count": 12,
     "metadata": {},
     "output_type": "execute_result"
    }
   ],
   "source": [
    "cur.execute(\"CREATE TABLE test_paper(doi primary key, title, abstract)\")"
   ]
  },
  {
   "cell_type": "code",
   "execution_count": 13,
   "metadata": {},
   "outputs": [
    {
     "data": {
      "text/plain": [
       "<sqlite3.Cursor at 0x7fc879214f80>"
      ]
     },
     "execution_count": 13,
     "metadata": {},
     "output_type": "execute_result"
    }
   ],
   "source": [
    "cur.execute(\"CREATE TABLE test_authors(orcid primary key, name, country)\")\n"
   ]
  },
  {
   "cell_type": "code",
   "execution_count": 16,
   "metadata": {},
   "outputs": [
    {
     "data": {
      "text/plain": [
       "<sqlite3.Cursor at 0x7fc879214f80>"
      ]
     },
     "execution_count": 16,
     "metadata": {},
     "output_type": "execute_result"
    }
   ],
   "source": [
    "cur.execute(\"CREATE TABLE test_author_papers2(orcid, doi, primary key(orcid, doi) FOREIGN KEY(orcid) REFERENCES test_authors(orcid), FOREIGN KEY(doi) REFERENCES test_paper(doi))\")"
   ]
  },
  {
   "cell_type": "code",
   "execution_count": 55,
   "metadata": {},
   "outputs": [],
   "source": [
    "con.commit()"
   ]
  },
  {
   "cell_type": "code",
   "execution_count": 56,
   "metadata": {},
   "outputs": [],
   "source": [
    "con.close()"
   ]
  },
  {
   "attachments": {},
   "cell_type": "markdown",
   "metadata": {},
   "source": [
    "## Insert data"
   ]
  },
  {
   "cell_type": "code",
   "execution_count": 72,
   "metadata": {},
   "outputs": [
    {
     "data": {
      "text/plain": [
       "'Done.'"
      ]
     },
     "execution_count": 72,
     "metadata": {},
     "output_type": "execute_result"
    }
   ],
   "source": [
    "database.insert_database(\"/Users/jennifer/RCSNA/data/tutorial.db\", '',\"Peter Kalverla\")"
   ]
  },
  {
   "cell_type": "code",
   "execution_count": null,
   "metadata": {},
   "outputs": [],
   "source": [
    "database.insert_coauthors_pub(\"/Users/jennifer/RCSNA/data/tutorial.db\", \"Peter Kalverla\")"
   ]
  },
  {
   "cell_type": "code",
   "execution_count": null,
   "metadata": {},
   "outputs": [],
   "source": [
    "database.insert_cocoauthors(\"/Users/jennifer/RCSNA/data/tutorial.db\")"
   ]
  },
  {
   "attachments": {},
   "cell_type": "markdown",
   "metadata": {},
   "source": [
    "### Fetch data from database"
   ]
  },
  {
   "cell_type": "code",
   "execution_count": null,
   "metadata": {},
   "outputs": [],
   "source": [
    "con = sqlite3.connect(\"/Users/jennifer/RCSNA/data/tutorial.db\")\n",
    "cur = con.cursor()\n",
    "\n",
    "# Topic modeling (title or abstract) to cluster papers\n",
    "clusters, idx2topics = database.pub_cluster(cur)"
   ]
  },
  {
   "cell_type": "code",
   "execution_count": null,
   "metadata": {},
   "outputs": [],
   "source": [
    "# get coauthor relationship\n",
    "links = database.fetch_relationships(cur)"
   ]
  },
  {
   "cell_type": "code",
   "execution_count": null,
   "metadata": {},
   "outputs": [],
   "source": [
    "# assign author's group as the most frequent paper group\n",
    "orcid_group = database.author_cluster(cur, clusters)\n",
    "\n",
    "cur.close()"
   ]
  },
  {
   "cell_type": "code",
   "execution_count": null,
   "metadata": {},
   "outputs": [],
   "source": [
    "# pyvis\n",
    "database.build_network_database(\"Database\")"
   ]
  },
  {
   "attachments": {},
   "cell_type": "markdown",
   "metadata": {},
   "source": [
    "### Store more data"
   ]
  },
  {
   "cell_type": "code",
   "execution_count": 4,
   "metadata": {},
   "outputs": [],
   "source": [
    "con = sqlite3.connect(\"/Users/jennifer/RCSNA/data/tutorial.db\")\n",
    "cur = con.cursor()"
   ]
  },
  {
   "cell_type": "code",
   "execution_count": 6,
   "metadata": {},
   "outputs": [],
   "source": [
    "con_rsd = sqlite3.connect(\"/Users/jennifer/RCSNA/data/rsd.db\")\n",
    "cur_rsd = con_rsd.cursor()"
   ]
  },
  {
   "cell_type": "code",
   "execution_count": 18,
   "metadata": {},
   "outputs": [],
   "source": [
    "res_rsd = cur_rsd.execute(\"\"\"\n",
    "SELECT orcid, given_name, family_name, affiliation \n",
    "FROM author \n",
    "WHERE affiliation = 'Netherlands eScience Center'\n",
    "GROUP BY orcid\n",
    "UNION\n",
    "SELECT orcid, given_name, family_name, affiliation \n",
    "FROM contributor \n",
    "WHERE affiliation = 'Netherlands eScience Center'\n",
    "GROUP BY orcid\n",
    "\"\"\")\n",
    "escience_member = res_rsd.fetchall()"
   ]
  },
  {
   "cell_type": "code",
   "execution_count": 25,
   "metadata": {},
   "outputs": [
    {
     "data": {
      "text/plain": [
       "('0000-0001-5301-3276',\n",
       " 'Jesus',\n",
       " 'Garcia Gonzalez',\n",
       " 'Netherlands eScience Center')"
      ]
     },
     "execution_count": 25,
     "metadata": {},
     "output_type": "execute_result"
    }
   ],
   "source": [
    "escience_member[0]\n"
   ]
  },
  {
   "cell_type": "code",
   "execution_count": 2,
   "metadata": {},
   "outputs": [],
   "source": [
    "def insert_escience_rsd_member(db_path):\n",
    "    con_rsd = sqlite3.connect(\"/Users/jennifer/RCSNA/data/rsd.db\")\n",
    "    cur_rsd = con_rsd.cursor()\n",
    "    res_rsd = cur_rsd.execute(\"\"\"\n",
    "        SELECT orcid, given_name, family_name, affiliation \n",
    "        FROM author \n",
    "        WHERE affiliation = 'Netherlands eScience Center'\n",
    "        GROUP BY orcid\n",
    "        UNION\n",
    "        SELECT orcid, given_name, family_name, affiliation \n",
    "        FROM contributor \n",
    "        WHERE affiliation = 'Netherlands eScience Center'\n",
    "        GROUP BY orcid\n",
    "        \"\"\")\n",
    "    escience_members = res_rsd.fetchall()\n",
    "    for member in escience_members:\n",
    "        orcid_id = member[0]\n",
    "        fullname = member[1] + \" \" + member[2]\n",
    "        database.insert_database(db_path, orcid_id, fullname)\n",
    "\n",
    "    con_rsd.commit()\n",
    "    con_rsd.close()\n",
    "    return \"Insertion complete\"\n",
    "    "
   ]
  },
  {
   "cell_type": "code",
   "execution_count": 3,
   "metadata": {},
   "outputs": [
    {
     "data": {
      "text/plain": [
       "'Insertion complete'"
      ]
     },
     "execution_count": 3,
     "metadata": {},
     "output_type": "execute_result"
    }
   ],
   "source": [
    "insert_escience_rsd_member(\"/Users/jennifer/RCSNA/data/tutorial.db\")"
   ]
  },
  {
   "cell_type": "code",
   "execution_count": 14,
   "metadata": {},
   "outputs": [],
   "source": [
    "# cur.execute(\"DELETE FROM author_publication WHERE doi = 'None'\")\n",
    "con.commit()\n",
    "con.close()"
   ]
  },
  {
   "attachments": {},
   "cell_type": "markdown",
   "metadata": {},
   "source": [
    "## Neo4j"
   ]
  },
  {
   "cell_type": "code",
   "execution_count": 36,
   "metadata": {},
   "outputs": [],
   "source": [
    "nl_cs_23 = pd.read_csv(\"/Users/jennifer/scopus_data/nl_cs_23.csv\")\n"
   ]
  },
  {
   "cell_type": "code",
   "execution_count": 89,
   "metadata": {},
   "outputs": [
    {
     "data": {
      "text/html": [
       "<div>\n",
       "<style scoped>\n",
       "    .dataframe tbody tr th:only-of-type {\n",
       "        vertical-align: middle;\n",
       "    }\n",
       "\n",
       "    .dataframe tbody tr th {\n",
       "        vertical-align: top;\n",
       "    }\n",
       "\n",
       "    .dataframe thead th {\n",
       "        text-align: right;\n",
       "    }\n",
       "</style>\n",
       "<table border=\"1\" class=\"dataframe\">\n",
       "  <thead>\n",
       "    <tr style=\"text-align: right;\">\n",
       "      <th></th>\n",
       "      <th>Authors</th>\n",
       "      <th>Author(s) ID</th>\n",
       "      <th>Title</th>\n",
       "      <th>Year</th>\n",
       "      <th>Cited by</th>\n",
       "      <th>DOI</th>\n",
       "      <th>Link</th>\n",
       "      <th>Affiliations</th>\n",
       "      <th>Authors with affiliations</th>\n",
       "      <th>Author Keywords</th>\n",
       "    </tr>\n",
       "  </thead>\n",
       "  <tbody>\n",
       "    <tr>\n",
       "      <th>0</th>\n",
       "      <td>da Silva Santos L.O.B., Burger K., Kaliyaperum...</td>\n",
       "      <td>24463142300;55190905200;55097102600;55741082500;</td>\n",
       "      <td>FAIR Data Point: A FAIR-Oriented Approach for ...</td>\n",
       "      <td>2023</td>\n",
       "      <td>1.0</td>\n",
       "      <td>10.1162/dint_a_00160</td>\n",
       "      <td>https://www.scopus.com/inward/record.uri?eid=2...</td>\n",
       "      <td>Services and Cybersecurity group, Faculty of E...</td>\n",
       "      <td>da Silva Santos, L.O.B., Services and Cybersec...</td>\n",
       "      <td>FAIR; FAIR data point; FAIR principles; Intero...</td>\n",
       "    </tr>\n",
       "  </tbody>\n",
       "</table>\n",
       "</div>"
      ],
      "text/plain": [
       "                                             Authors  \\\n",
       "0  da Silva Santos L.O.B., Burger K., Kaliyaperum...   \n",
       "\n",
       "                                       Author(s) ID  \\\n",
       "0  24463142300;55190905200;55097102600;55741082500;   \n",
       "\n",
       "                                               Title  Year  Cited by  \\\n",
       "0  FAIR Data Point: A FAIR-Oriented Approach for ...  2023       1.0   \n",
       "\n",
       "                    DOI                                               Link  \\\n",
       "0  10.1162/dint_a_00160  https://www.scopus.com/inward/record.uri?eid=2...   \n",
       "\n",
       "                                        Affiliations  \\\n",
       "0  Services and Cybersecurity group, Faculty of E...   \n",
       "\n",
       "                           Authors with affiliations  \\\n",
       "0  da Silva Santos, L.O.B., Services and Cybersec...   \n",
       "\n",
       "                                     Author Keywords  \n",
       "0  FAIR; FAIR data point; FAIR principles; Intero...  "
      ]
     },
     "execution_count": 89,
     "metadata": {},
     "output_type": "execute_result"
    }
   ],
   "source": [
    "nl_cs_23[0:1]"
   ]
  },
  {
   "cell_type": "code",
   "execution_count": 116,
   "metadata": {},
   "outputs": [
    {
     "data": {
      "text/plain": [
       "['The Hong Kong Polytechnic University',\n",
       " 'School of Design',\n",
       " 'Department of Computing',\n",
       " 'Hung Hom',\n",
       " 'Hong Kong; Vrije Universiteit Amsterdam']"
      ]
     },
     "execution_count": 116,
     "metadata": {},
     "output_type": "execute_result"
    }
   ],
   "source": [
    "nl_cs_23[\"Affiliations\"][842].split(\", \")[0:5]"
   ]
  },
  {
   "cell_type": "code",
   "execution_count": 114,
   "metadata": {},
   "outputs": [
    {
     "data": {
      "text/plain": [
       "843"
      ]
     },
     "execution_count": 114,
     "metadata": {},
     "output_type": "execute_result"
    }
   ],
   "source": [
    "len(nl_cs_23)"
   ]
  },
  {
   "cell_type": "code",
   "execution_count": 171,
   "metadata": {},
   "outputs": [
    {
     "name": "stdout",
     "output_type": "stream",
     "text": [
      "1\n"
     ]
    }
   ],
   "source": [
    "if not isinstance(nl_cs_23['Author Keywords'][6], str):\n",
    "    print(1)"
   ]
  },
  {
   "cell_type": "code",
   "execution_count": 153,
   "metadata": {},
   "outputs": [
    {
     "name": "stdout",
     "output_type": "stream",
     "text": [
      "['da Silva Santos, L.O.B., Services and Cybersecurity group, Faculty of Electrical Engineering, Mathematics and Computer Science, University of Twente-Enschede7513 GB, Netherlands, Biosemantics group, Department of Human Genetics, Leiden University Medical Center-Leiden, NL2333 ZC, Netherlands', 'Burger, K., Biosemantics group, Department of Human Genetics, Leiden University Medical Center-Leiden, NL2333 ZC, Netherlands', 'Kaliyaperumal, R., Biosemantics group, Department of Human Genetics, Leiden University Medical Center-Leiden, NL2333 ZC, Netherlands', 'Wilkinson, M.D., Escuela Técnica Superior de Ingeniería Agronómica, Alimentaria y de Biosistemas', 'Centro de Biotecnología y Genómica de Plantas UPM – INIA, Universidad Politécnica de Madrid (UPM)-Instituto Nacional de Investigación y Tecnología Agraria y Alimentaria (INIA), ES, Madrid, 28223, Spain']\n",
      "\n",
      "['24463142300', '55190905200', '55097102600', '55741082500']\n"
     ]
    }
   ],
   "source": [
    "print((nl_cs_23['Authors with affiliations'][0].split(\"; \")))\n",
    "print()\n",
    "print((nl_cs_23[\"Author(s) ID\"][0].split(\";\")[0:-1]))"
   ]
  },
  {
   "cell_type": "code",
   "execution_count": 165,
   "metadata": {},
   "outputs": [],
   "source": [
    "for i in range(len(nl_cs_23)):\n",
    "    if nl_cs_23['Author Keywords'][i] is None:\n",
    "        print(\"no\")"
   ]
  },
  {
   "cell_type": "code",
   "execution_count": 174,
   "metadata": {},
   "outputs": [],
   "source": [
    "'remote AuraDB, only one for free'\n",
    "# uri = \"neo4j+s://a93e1a64.databases.neo4j.io\"\n",
    "# user = \"neo4j\"\n",
    "# password = \"ifVwf-BGTZt1ltrNgVbh5Q6aGSxQSksQJSxBUbJb1BE\""
   ]
  },
  {
   "cell_type": "code",
   "execution_count": 190,
   "metadata": {},
   "outputs": [],
   "source": [
    "# local AuraDB\n",
    "uri = \"bolt://localhost:7687\"\n",
    "user = \"neo4j\"\n",
    "password = \"zhiningbai\""
   ]
  },
  {
   "cell_type": "code",
   "execution_count": 191,
   "metadata": {},
   "outputs": [],
   "source": [
    "check_verify =  GraphDatabase.driver(uri, auth=(user, password))\n",
    "check_verify.verify_connectivity()"
   ]
  },
  {
   "cell_type": "code",
   "execution_count": 176,
   "metadata": {},
   "outputs": [],
   "source": [
    "def get_pub_info(tx, df, subject):\n",
    "    for i in range(len(df)):\n",
    "        doi = df.DOI[i]\n",
    "        title = df.Title[i]\n",
    "        year = df.Year[i]\n",
    "        cited = df[\"Cited by\"][i]\n",
    "        # subject = subject\n",
    "        if not isinstance(nl_cs_23['Author Keywords'][i], str):\n",
    "            keywords = []\n",
    "        else:\n",
    "            keywords = df[\"Author Keywords\"][i].split(\"; \")\n",
    "        author_scopus_id = df[\"Author(s) ID\"][i].split(\";\")[0:-1]\n",
    "        author_name = df[\"Authors\"][i].split(\", \")[0:len(author_scopus_id)]\n",
    "        author_aff = df['Authors with affiliations'][i].split(\"; \")[0:len(author_scopus_id)]\n",
    "        author_country = [aff.split(\", \")[-1] for aff in author_aff]\n",
    "\n",
    "        # remove papers with single author\n",
    "        if len(author_scopus_id) < 2:\n",
    "            continue\n",
    "\n",
    "        # APOC plugin should be installed in your Neo4j Server\n",
    "        # Create people nodes\n",
    "        for n in range(len(author_scopus_id)):\n",
    "            # if the person exists, append keywords and year\n",
    "            # avoid adding duplicate years\n",
    "            tx.run(\"\"\"\n",
    "                MERGE (p:Person {scopus_id: $id})\n",
    "                SET p.name = $name,\n",
    "                    p.affiliation = $affiliation, \n",
    "                    p.country = $country,\n",
    "                    p.keywords = coalesce(p.keywords, []) + $keywords,\n",
    "                    p.year = apoc.coll.toSet(coalesce(p.year, []) + $year),\n",
    "                    p.subject = coalesce(p.subject, []) + $subject\n",
    "                \"\"\", \n",
    "                id = author_scopus_id[n],\n",
    "                name = author_name[n],\n",
    "                affiliation = author_aff[n],\n",
    "                country = author_country[n],\n",
    "                keywords = keywords,\n",
    "                year = year,\n",
    "                subject = subject\n",
    "                )\n",
    "            \n",
    "        # Create edges\n",
    "        for i in range(len(author_scopus_id))[0:-1]:\n",
    "            for j in range(len(author_scopus_id))[i+1:]:\n",
    "                # if the edge exists, add weight, doi, title, year\n",
    "                # avoid adding duplicate years\n",
    "                tx.run(\"\"\"\n",
    "                    MATCH \n",
    "                        (a:Person), \n",
    "                        (b:Person)\n",
    "                    WHERE a.scopus_id = $person_a AND b.scopus_id = $person_b\n",
    "                    MERGE (a)-[r:COAUTHOR]-(b)\n",
    "                    SET r.doi = coalesce(r.doi, []) + $doi,\n",
    "                        r.title = coalesce(r.title, []) + $title,\n",
    "                        r.year = apoc.coll.toSet(a.year + b.year),\n",
    "                        r.weight = size(r.doi)+1,\n",
    "                        r.cited = coalesce(r.cited, []) + $cited,\n",
    "                        r.subject = apoc.coll.toSet(coalesce(r.subject, []) + $subject)\n",
    "                    \"\"\", \n",
    "                    person_a=author_scopus_id[i], \n",
    "                    person_b=author_scopus_id[j], \n",
    "                    doi = doi,\n",
    "                    title = title,\n",
    "                    cited = cited,\n",
    "                    subject = subject\n",
    "                    )\n",
    "\n",
    "        "
   ]
  },
  {
   "cell_type": "code",
   "execution_count": 179,
   "metadata": {},
   "outputs": [],
   "source": [
    "def neo4j_create_people(tx, df, subject):\n",
    "    for i in range(len(df)):\n",
    "        author_scopus_id = df[\"Author(s) ID\"][i].split(\";\")[0:-1]\n",
    "        # remove papers with single author\n",
    "        if len(author_scopus_id) < 2:\n",
    "            continue\n",
    "        year = df.Year[i]\n",
    "        author_name = df[\"Authors\"][i].split(\", \")[0:len(author_scopus_id)]\n",
    "        author_aff = df['Authors with affiliations'][i].split(\"; \")[0:len(author_scopus_id)]\n",
    "        author_country = [aff.split(\", \")[-1] for aff in author_aff]\n",
    "        if not isinstance(nl_cs_23['Author Keywords'][i], str):\n",
    "            keywords = []\n",
    "        else:\n",
    "            keywords = df[\"Author Keywords\"][i].split(\"; \")\n",
    "\n",
    "        # APOC plugin should be installed in your Neo4j Server\n",
    "        # Create people nodes\n",
    "        for n in range(len(author_scopus_id)):\n",
    "            # if the person exists, append keywords and year\n",
    "            # avoid adding duplicate years\n",
    "            tx.run(\"\"\"\n",
    "                MERGE (p:Person {scopus_id: $id})\n",
    "                SET p.name = $name,\n",
    "                    p.affiliation = $affiliation, \n",
    "                    p.country = $country,\n",
    "                    p.keywords = coalesce(p.keywords, []) + $keywords,\n",
    "                    p.year = apoc.coll.toSet(coalesce(p.year, []) + $year),\n",
    "                    p.subject = coalesce(p.subject, []) + $subject\n",
    "                \"\"\", \n",
    "                id = author_scopus_id[n],\n",
    "                name = author_name[n],\n",
    "                affiliation = author_aff[n],\n",
    "                country = author_country[n],\n",
    "                keywords = keywords,\n",
    "                year = year,\n",
    "                subject = subject\n",
    "                )\n",
    "        "
   ]
  },
  {
   "cell_type": "code",
   "execution_count": 180,
   "metadata": {},
   "outputs": [],
   "source": [
    "def neo4j_create_relationship(tx, df, subject):\n",
    "    for i in range(len(df)):\n",
    "        author_scopus_id = df[\"Author(s) ID\"][i].split(\";\")[0:-1]\n",
    "        # remove papers with single author\n",
    "        if len(author_scopus_id) < 2:\n",
    "            continue        \n",
    "\n",
    "        doi = df.DOI[i]\n",
    "        title = df.Title[i]\n",
    "        cited = df[\"Cited by\"][i]\n",
    "\n",
    "        # APOC plugin should be installed in your Neo4j Server\n",
    "        # Create edges\n",
    "        for i in range(len(author_scopus_id))[0:-1]:\n",
    "            for j in range(len(author_scopus_id))[i+1:]:\n",
    "                # if the edge exists, add weight, doi, title, year\n",
    "                # avoid adding duplicate years\n",
    "                tx.run(\"\"\"\n",
    "                    MATCH \n",
    "                        (a:Person), \n",
    "                        (b:Person)\n",
    "                    WHERE a.scopus_id = $person_a AND b.scopus_id = $person_b\n",
    "                    MERGE (a)-[r:COAUTHOR]-(b)\n",
    "                    SET r.doi = coalesce(r.doi, []) + $doi,\n",
    "                        r.title = coalesce(r.title, []) + $title,\n",
    "                        r.year = apoc.coll.toSet(a.year + b.year),\n",
    "                        r.weight = size(r.doi)+1,\n",
    "                        r.cited = coalesce(r.cited, []) + $cited,\n",
    "                        r.subject = apoc.coll.toSet(coalesce(r.subject, []) + $subject)\n",
    "                    \"\"\", \n",
    "                    person_a=author_scopus_id[i], \n",
    "                    person_b=author_scopus_id[j], \n",
    "                    doi = doi,\n",
    "                    title = title,\n",
    "                    cited = cited,\n",
    "                    subject = subject\n",
    "                    )\n",
    "        "
   ]
  },
  {
   "cell_type": "code",
   "execution_count": 192,
   "metadata": {},
   "outputs": [
    {
     "ename": "CypherSyntaxError",
     "evalue": "{code: Neo.ClientError.Statement.SyntaxError} {message: Unknown function 'apoc.coll.toSet' (line 7, column 30 (offset: 280))\n\"                    p.year = apoc.coll.toSet(coalesce(p.year, []) + $year),\"\n                              ^}",
     "output_type": "error",
     "traceback": [
      "\u001b[0;31m---------------------------------------------------------------------------\u001b[0m",
      "\u001b[0;31mCypherSyntaxError\u001b[0m                         Traceback (most recent call last)",
      "\u001b[0;32m/var/folders/fp/vghv4nhj5zg720lgbcqs7x300000gn/T/ipykernel_84142/2213503874.py\u001b[0m in \u001b[0;36m<module>\u001b[0;34m\u001b[0m\n\u001b[1;32m      5\u001b[0m     \u001b[0;32mwith\u001b[0m \u001b[0mdriver\u001b[0m\u001b[0;34m.\u001b[0m\u001b[0msession\u001b[0m\u001b[0;34m(\u001b[0m\u001b[0mdatabase\u001b[0m\u001b[0;34m=\u001b[0m\u001b[0;34m\"neo4j\"\u001b[0m\u001b[0;34m)\u001b[0m \u001b[0;32mas\u001b[0m \u001b[0msession\u001b[0m\u001b[0;34m:\u001b[0m\u001b[0;34m\u001b[0m\u001b[0;34m\u001b[0m\u001b[0m\n\u001b[1;32m      6\u001b[0m         \u001b[0;31m# Create nodes & edges\u001b[0m\u001b[0;34m\u001b[0m\u001b[0;34m\u001b[0m\u001b[0m\n\u001b[0;32m----> 7\u001b[0;31m         \u001b[0msession\u001b[0m\u001b[0;34m.\u001b[0m\u001b[0mexecute_write\u001b[0m\u001b[0;34m(\u001b[0m\u001b[0mneo4j_create_people\u001b[0m\u001b[0;34m,\u001b[0m \u001b[0mnl_cs_23\u001b[0m\u001b[0;34m,\u001b[0m \u001b[0;34m\"Computer Science\"\u001b[0m\u001b[0;34m)\u001b[0m\u001b[0;34m\u001b[0m\u001b[0;34m\u001b[0m\u001b[0m\n\u001b[0m\u001b[1;32m      8\u001b[0m         \u001b[0;31m# session.execute_write(neo4j_create_relationship, nl_cs_23, \"Computer Science\")\u001b[0m\u001b[0;34m\u001b[0m\u001b[0;34m\u001b[0m\u001b[0m\n",
      "\u001b[0;32m~/opt/anaconda3/lib/python3.9/site-packages/neo4j/_sync/work/session.py\u001b[0m in \u001b[0;36mexecute_write\u001b[0;34m(self, transaction_function, *args, **kwargs)\u001b[0m\n\u001b[1;32m    670\u001b[0m         \u001b[0;34m.\u001b[0m\u001b[0;34m.\u001b[0m \u001b[0mversionadded\u001b[0m\u001b[0;34m:\u001b[0m\u001b[0;34m:\u001b[0m \u001b[0;36m5.0\u001b[0m\u001b[0;34m\u001b[0m\u001b[0;34m\u001b[0m\u001b[0m\n\u001b[1;32m    671\u001b[0m         \"\"\"\n\u001b[0;32m--> 672\u001b[0;31m         return self._run_transaction(\n\u001b[0m\u001b[1;32m    673\u001b[0m             \u001b[0mWRITE_ACCESS\u001b[0m\u001b[0;34m,\u001b[0m \u001b[0mtransaction_function\u001b[0m\u001b[0;34m,\u001b[0m \u001b[0;34m*\u001b[0m\u001b[0margs\u001b[0m\u001b[0;34m,\u001b[0m \u001b[0;34m**\u001b[0m\u001b[0mkwargs\u001b[0m\u001b[0;34m\u001b[0m\u001b[0;34m\u001b[0m\u001b[0m\n\u001b[1;32m    674\u001b[0m         )\n",
      "\u001b[0;32m~/opt/anaconda3/lib/python3.9/site-packages/neo4j/_sync/work/session.py\u001b[0m in \u001b[0;36m_run_transaction\u001b[0;34m(self, access_mode, transaction_function, *args, **kwargs)\u001b[0m\n\u001b[1;32m    485\u001b[0m                 \u001b[0mtx\u001b[0m \u001b[0;34m=\u001b[0m \u001b[0mself\u001b[0m\u001b[0;34m.\u001b[0m\u001b[0m_transaction\u001b[0m\u001b[0;34m\u001b[0m\u001b[0;34m\u001b[0m\u001b[0m\n\u001b[1;32m    486\u001b[0m                 \u001b[0;32mtry\u001b[0m\u001b[0;34m:\u001b[0m\u001b[0;34m\u001b[0m\u001b[0;34m\u001b[0m\u001b[0m\n\u001b[0;32m--> 487\u001b[0;31m                     \u001b[0mresult\u001b[0m \u001b[0;34m=\u001b[0m \u001b[0mtransaction_function\u001b[0m\u001b[0;34m(\u001b[0m\u001b[0mtx\u001b[0m\u001b[0;34m,\u001b[0m \u001b[0;34m*\u001b[0m\u001b[0margs\u001b[0m\u001b[0;34m,\u001b[0m \u001b[0;34m**\u001b[0m\u001b[0mkwargs\u001b[0m\u001b[0;34m)\u001b[0m\u001b[0;34m\u001b[0m\u001b[0;34m\u001b[0m\u001b[0m\n\u001b[0m\u001b[1;32m    488\u001b[0m                 \u001b[0;32mexcept\u001b[0m \u001b[0masyncio\u001b[0m\u001b[0;34m.\u001b[0m\u001b[0mCancelledError\u001b[0m\u001b[0;34m:\u001b[0m\u001b[0;34m\u001b[0m\u001b[0;34m\u001b[0m\u001b[0m\n\u001b[1;32m    489\u001b[0m                     \u001b[0;31m# if cancellation callback has not been called yet:\u001b[0m\u001b[0;34m\u001b[0m\u001b[0;34m\u001b[0m\u001b[0m\n",
      "\u001b[0;32m/var/folders/fp/vghv4nhj5zg720lgbcqs7x300000gn/T/ipykernel_84142/933100453.py\u001b[0m in \u001b[0;36mneo4j_create_people\u001b[0;34m(tx, df, subject)\u001b[0m\n\u001b[1;32m     19\u001b[0m             \u001b[0;31m# if the person exists, append keywords and year\u001b[0m\u001b[0;34m\u001b[0m\u001b[0;34m\u001b[0m\u001b[0m\n\u001b[1;32m     20\u001b[0m             \u001b[0;31m# avoid adding duplicate years\u001b[0m\u001b[0;34m\u001b[0m\u001b[0;34m\u001b[0m\u001b[0m\n\u001b[0;32m---> 21\u001b[0;31m             tx.run(\"\"\"\n\u001b[0m\u001b[1;32m     22\u001b[0m                 \u001b[0mMERGE\u001b[0m \u001b[0;34m(\u001b[0m\u001b[0mp\u001b[0m\u001b[0;34m:\u001b[0m\u001b[0mPerson\u001b[0m \u001b[0;34m{\u001b[0m\u001b[0mscopus_id\u001b[0m\u001b[0;34m:\u001b[0m\u001b[0;31m \u001b[0m\u001b[0;31m$\u001b[0m\u001b[0mid\u001b[0m\u001b[0;34m}\u001b[0m\u001b[0;34m)\u001b[0m\u001b[0;34m\u001b[0m\u001b[0;34m\u001b[0m\u001b[0m\n\u001b[1;32m     23\u001b[0m                 \u001b[0mSET\u001b[0m \u001b[0mp\u001b[0m\u001b[0;34m.\u001b[0m\u001b[0mname\u001b[0m \u001b[0;34m=\u001b[0m\u001b[0;31m \u001b[0m\u001b[0;31m$\u001b[0m\u001b[0mname\u001b[0m\u001b[0;34m,\u001b[0m\u001b[0;34m\u001b[0m\u001b[0;34m\u001b[0m\u001b[0m\n",
      "\u001b[0;32m~/opt/anaconda3/lib/python3.9/site-packages/neo4j/_sync/work/transaction.py\u001b[0m in \u001b[0;36mrun\u001b[0;34m(self, query, parameters, **kwparameters)\u001b[0m\n\u001b[1;32m    154\u001b[0m \u001b[0;34m\u001b[0m\u001b[0m\n\u001b[1;32m    155\u001b[0m         \u001b[0mparameters\u001b[0m \u001b[0;34m=\u001b[0m \u001b[0mdict\u001b[0m\u001b[0;34m(\u001b[0m\u001b[0mparameters\u001b[0m \u001b[0;32mor\u001b[0m \u001b[0;34m{\u001b[0m\u001b[0;34m}\u001b[0m\u001b[0;34m,\u001b[0m \u001b[0;34m**\u001b[0m\u001b[0mkwparameters\u001b[0m\u001b[0;34m)\u001b[0m\u001b[0;34m\u001b[0m\u001b[0;34m\u001b[0m\u001b[0m\n\u001b[0;32m--> 156\u001b[0;31m         \u001b[0mresult\u001b[0m\u001b[0;34m.\u001b[0m\u001b[0m_tx_ready_run\u001b[0m\u001b[0;34m(\u001b[0m\u001b[0mquery\u001b[0m\u001b[0;34m,\u001b[0m \u001b[0mparameters\u001b[0m\u001b[0;34m)\u001b[0m\u001b[0;34m\u001b[0m\u001b[0;34m\u001b[0m\u001b[0m\n\u001b[0m\u001b[1;32m    157\u001b[0m \u001b[0;34m\u001b[0m\u001b[0m\n\u001b[1;32m    158\u001b[0m         \u001b[0;32mreturn\u001b[0m \u001b[0mresult\u001b[0m\u001b[0;34m\u001b[0m\u001b[0;34m\u001b[0m\u001b[0m\n",
      "\u001b[0;32m~/opt/anaconda3/lib/python3.9/site-packages/neo4j/_sync/work/result.py\u001b[0m in \u001b[0;36m_tx_ready_run\u001b[0;34m(self, query, parameters)\u001b[0m\n\u001b[1;32m    118\u001b[0m         \u001b[0;31m# BEGIN {extra}\u001b[0m\u001b[0;34m\u001b[0m\u001b[0;34m\u001b[0m\u001b[0m\n\u001b[1;32m    119\u001b[0m         \u001b[0;31m# RUN \"query\" {parameters} {extra}\u001b[0m\u001b[0;34m\u001b[0m\u001b[0;34m\u001b[0m\u001b[0m\n\u001b[0;32m--> 120\u001b[0;31m         \u001b[0mself\u001b[0m\u001b[0;34m.\u001b[0m\u001b[0m_run\u001b[0m\u001b[0;34m(\u001b[0m\u001b[0mquery\u001b[0m\u001b[0;34m,\u001b[0m \u001b[0mparameters\u001b[0m\u001b[0;34m,\u001b[0m \u001b[0;32mNone\u001b[0m\u001b[0;34m,\u001b[0m \u001b[0;32mNone\u001b[0m\u001b[0;34m,\u001b[0m \u001b[0;32mNone\u001b[0m\u001b[0;34m,\u001b[0m \u001b[0;32mNone\u001b[0m\u001b[0;34m)\u001b[0m\u001b[0;34m\u001b[0m\u001b[0;34m\u001b[0m\u001b[0m\n\u001b[0m\u001b[1;32m    121\u001b[0m \u001b[0;34m\u001b[0m\u001b[0m\n\u001b[1;32m    122\u001b[0m     def _run(\n",
      "\u001b[0;32m~/opt/anaconda3/lib/python3.9/site-packages/neo4j/_sync/work/result.py\u001b[0m in \u001b[0;36m_run\u001b[0;34m(self, query, parameters, db, imp_user, access_mode, bookmarks)\u001b[0m\n\u001b[1;32m    164\u001b[0m         \u001b[0mself\u001b[0m\u001b[0;34m.\u001b[0m\u001b[0m_pull\u001b[0m\u001b[0;34m(\u001b[0m\u001b[0;34m)\u001b[0m\u001b[0;34m\u001b[0m\u001b[0;34m\u001b[0m\u001b[0m\n\u001b[1;32m    165\u001b[0m         \u001b[0mself\u001b[0m\u001b[0;34m.\u001b[0m\u001b[0m_connection\u001b[0m\u001b[0;34m.\u001b[0m\u001b[0msend_all\u001b[0m\u001b[0;34m(\u001b[0m\u001b[0;34m)\u001b[0m\u001b[0;34m\u001b[0m\u001b[0;34m\u001b[0m\u001b[0m\n\u001b[0;32m--> 166\u001b[0;31m         \u001b[0mself\u001b[0m\u001b[0;34m.\u001b[0m\u001b[0m_attach\u001b[0m\u001b[0;34m(\u001b[0m\u001b[0;34m)\u001b[0m\u001b[0;34m\u001b[0m\u001b[0;34m\u001b[0m\u001b[0m\n\u001b[0m\u001b[1;32m    167\u001b[0m \u001b[0;34m\u001b[0m\u001b[0m\n\u001b[1;32m    168\u001b[0m     \u001b[0;32mdef\u001b[0m \u001b[0m_pull\u001b[0m\u001b[0;34m(\u001b[0m\u001b[0mself\u001b[0m\u001b[0;34m)\u001b[0m\u001b[0;34m:\u001b[0m\u001b[0;34m\u001b[0m\u001b[0;34m\u001b[0m\u001b[0m\n",
      "\u001b[0;32m~/opt/anaconda3/lib/python3.9/site-packages/neo4j/_sync/work/result.py\u001b[0m in \u001b[0;36m_attach\u001b[0;34m(self)\u001b[0m\n\u001b[1;32m    272\u001b[0m         \u001b[0;32mif\u001b[0m \u001b[0mself\u001b[0m\u001b[0;34m.\u001b[0m\u001b[0m_exhausted\u001b[0m \u001b[0;32mis\u001b[0m \u001b[0;32mFalse\u001b[0m\u001b[0;34m:\u001b[0m\u001b[0;34m\u001b[0m\u001b[0;34m\u001b[0m\u001b[0m\n\u001b[1;32m    273\u001b[0m             \u001b[0;32mwhile\u001b[0m \u001b[0mself\u001b[0m\u001b[0;34m.\u001b[0m\u001b[0m_attached\u001b[0m \u001b[0;32mis\u001b[0m \u001b[0;32mFalse\u001b[0m\u001b[0;34m:\u001b[0m\u001b[0;34m\u001b[0m\u001b[0;34m\u001b[0m\u001b[0m\n\u001b[0;32m--> 274\u001b[0;31m                 \u001b[0mself\u001b[0m\u001b[0;34m.\u001b[0m\u001b[0m_connection\u001b[0m\u001b[0;34m.\u001b[0m\u001b[0mfetch_message\u001b[0m\u001b[0;34m(\u001b[0m\u001b[0;34m)\u001b[0m\u001b[0;34m\u001b[0m\u001b[0;34m\u001b[0m\u001b[0m\n\u001b[0m\u001b[1;32m    275\u001b[0m \u001b[0;34m\u001b[0m\u001b[0m\n\u001b[1;32m    276\u001b[0m     \u001b[0;32mdef\u001b[0m \u001b[0m_buffer\u001b[0m\u001b[0;34m(\u001b[0m\u001b[0mself\u001b[0m\u001b[0;34m,\u001b[0m \u001b[0mn\u001b[0m\u001b[0;34m=\u001b[0m\u001b[0;32mNone\u001b[0m\u001b[0;34m)\u001b[0m\u001b[0;34m:\u001b[0m\u001b[0;34m\u001b[0m\u001b[0;34m\u001b[0m\u001b[0m\n",
      "\u001b[0;32m~/opt/anaconda3/lib/python3.9/site-packages/neo4j/_sync/io/_common.py\u001b[0m in \u001b[0;36minner\u001b[0;34m(*args, **kwargs)\u001b[0m\n\u001b[1;32m    178\u001b[0m             \u001b[0;32mdef\u001b[0m \u001b[0minner\u001b[0m\u001b[0;34m(\u001b[0m\u001b[0;34m*\u001b[0m\u001b[0margs\u001b[0m\u001b[0;34m,\u001b[0m \u001b[0;34m**\u001b[0m\u001b[0mkwargs\u001b[0m\u001b[0;34m)\u001b[0m\u001b[0;34m:\u001b[0m\u001b[0;34m\u001b[0m\u001b[0;34m\u001b[0m\u001b[0m\n\u001b[1;32m    179\u001b[0m                 \u001b[0;32mtry\u001b[0m\u001b[0;34m:\u001b[0m\u001b[0;34m\u001b[0m\u001b[0;34m\u001b[0m\u001b[0m\n\u001b[0;32m--> 180\u001b[0;31m                     \u001b[0mfunc\u001b[0m\u001b[0;34m(\u001b[0m\u001b[0;34m*\u001b[0m\u001b[0margs\u001b[0m\u001b[0;34m,\u001b[0m \u001b[0;34m**\u001b[0m\u001b[0mkwargs\u001b[0m\u001b[0;34m)\u001b[0m\u001b[0;34m\u001b[0m\u001b[0;34m\u001b[0m\u001b[0m\n\u001b[0m\u001b[1;32m    181\u001b[0m                 \u001b[0;32mexcept\u001b[0m \u001b[0;34m(\u001b[0m\u001b[0mNeo4jError\u001b[0m\u001b[0;34m,\u001b[0m \u001b[0mServiceUnavailable\u001b[0m\u001b[0;34m,\u001b[0m \u001b[0mSessionExpired\u001b[0m\u001b[0;34m)\u001b[0m \u001b[0;32mas\u001b[0m \u001b[0mexc\u001b[0m\u001b[0;34m:\u001b[0m\u001b[0;34m\u001b[0m\u001b[0;34m\u001b[0m\u001b[0m\n\u001b[1;32m    182\u001b[0m                     \u001b[0;32massert\u001b[0m \u001b[0;32mnot\u001b[0m \u001b[0masyncio\u001b[0m\u001b[0;34m.\u001b[0m\u001b[0miscoroutinefunction\u001b[0m\u001b[0;34m(\u001b[0m\u001b[0mself\u001b[0m\u001b[0;34m.\u001b[0m\u001b[0m__on_error\u001b[0m\u001b[0;34m)\u001b[0m\u001b[0;34m\u001b[0m\u001b[0;34m\u001b[0m\u001b[0m\n",
      "\u001b[0;32m~/opt/anaconda3/lib/python3.9/site-packages/neo4j/_sync/io/_bolt.py\u001b[0m in \u001b[0;36mfetch_message\u001b[0;34m(self)\u001b[0m\n\u001b[1;32m    656\u001b[0m             \u001b[0mhydration_hooks\u001b[0m\u001b[0;34m=\u001b[0m\u001b[0mself\u001b[0m\u001b[0;34m.\u001b[0m\u001b[0mresponses\u001b[0m\u001b[0;34m[\u001b[0m\u001b[0;36m0\u001b[0m\u001b[0;34m]\u001b[0m\u001b[0;34m.\u001b[0m\u001b[0mhydration_hooks\u001b[0m\u001b[0;34m\u001b[0m\u001b[0;34m\u001b[0m\u001b[0m\n\u001b[1;32m    657\u001b[0m         )\n\u001b[0;32m--> 658\u001b[0;31m         \u001b[0mres\u001b[0m \u001b[0;34m=\u001b[0m \u001b[0mself\u001b[0m\u001b[0;34m.\u001b[0m\u001b[0m_process_message\u001b[0m\u001b[0;34m(\u001b[0m\u001b[0mtag\u001b[0m\u001b[0;34m,\u001b[0m \u001b[0mfields\u001b[0m\u001b[0;34m)\u001b[0m\u001b[0;34m\u001b[0m\u001b[0;34m\u001b[0m\u001b[0m\n\u001b[0m\u001b[1;32m    659\u001b[0m         \u001b[0mself\u001b[0m\u001b[0;34m.\u001b[0m\u001b[0midle_since\u001b[0m \u001b[0;34m=\u001b[0m \u001b[0mperf_counter\u001b[0m\u001b[0;34m(\u001b[0m\u001b[0;34m)\u001b[0m\u001b[0;34m\u001b[0m\u001b[0;34m\u001b[0m\u001b[0m\n\u001b[1;32m    660\u001b[0m         \u001b[0;32mreturn\u001b[0m \u001b[0mres\u001b[0m\u001b[0;34m\u001b[0m\u001b[0;34m\u001b[0m\u001b[0m\n",
      "\u001b[0;32m~/opt/anaconda3/lib/python3.9/site-packages/neo4j/_sync/io/_bolt5.py\u001b[0m in \u001b[0;36m_process_message\u001b[0;34m(self, tag, fields)\u001b[0m\n\u001b[1;32m    315\u001b[0m             \u001b[0mself\u001b[0m\u001b[0;34m.\u001b[0m\u001b[0m_server_state_manager\u001b[0m\u001b[0;34m.\u001b[0m\u001b[0mstate\u001b[0m \u001b[0;34m=\u001b[0m \u001b[0mServerStates\u001b[0m\u001b[0;34m.\u001b[0m\u001b[0mFAILED\u001b[0m\u001b[0;34m\u001b[0m\u001b[0;34m\u001b[0m\u001b[0m\n\u001b[1;32m    316\u001b[0m             \u001b[0;32mtry\u001b[0m\u001b[0;34m:\u001b[0m\u001b[0;34m\u001b[0m\u001b[0;34m\u001b[0m\u001b[0m\n\u001b[0;32m--> 317\u001b[0;31m                 \u001b[0mresponse\u001b[0m\u001b[0;34m.\u001b[0m\u001b[0mon_failure\u001b[0m\u001b[0;34m(\u001b[0m\u001b[0msummary_metadata\u001b[0m \u001b[0;32mor\u001b[0m \u001b[0;34m{\u001b[0m\u001b[0;34m}\u001b[0m\u001b[0;34m)\u001b[0m\u001b[0;34m\u001b[0m\u001b[0;34m\u001b[0m\u001b[0m\n\u001b[0m\u001b[1;32m    318\u001b[0m             \u001b[0;32mexcept\u001b[0m \u001b[0;34m(\u001b[0m\u001b[0mServiceUnavailable\u001b[0m\u001b[0;34m,\u001b[0m \u001b[0mDatabaseUnavailable\u001b[0m\u001b[0;34m)\u001b[0m\u001b[0;34m:\u001b[0m\u001b[0;34m\u001b[0m\u001b[0;34m\u001b[0m\u001b[0m\n\u001b[1;32m    319\u001b[0m                 \u001b[0;32mif\u001b[0m \u001b[0mself\u001b[0m\u001b[0;34m.\u001b[0m\u001b[0mpool\u001b[0m\u001b[0;34m:\u001b[0m\u001b[0;34m\u001b[0m\u001b[0;34m\u001b[0m\u001b[0m\n",
      "\u001b[0;32m~/opt/anaconda3/lib/python3.9/site-packages/neo4j/_sync/io/_common.py\u001b[0m in \u001b[0;36mon_failure\u001b[0;34m(self, metadata)\u001b[0m\n\u001b[1;32m    245\u001b[0m         \u001b[0mhandler\u001b[0m \u001b[0;34m=\u001b[0m \u001b[0mself\u001b[0m\u001b[0;34m.\u001b[0m\u001b[0mhandlers\u001b[0m\u001b[0;34m.\u001b[0m\u001b[0mget\u001b[0m\u001b[0;34m(\u001b[0m\u001b[0;34m\"on_summary\"\u001b[0m\u001b[0;34m)\u001b[0m\u001b[0;34m\u001b[0m\u001b[0;34m\u001b[0m\u001b[0m\n\u001b[1;32m    246\u001b[0m         \u001b[0mUtil\u001b[0m\u001b[0;34m.\u001b[0m\u001b[0mcallback\u001b[0m\u001b[0;34m(\u001b[0m\u001b[0mhandler\u001b[0m\u001b[0;34m)\u001b[0m\u001b[0;34m\u001b[0m\u001b[0;34m\u001b[0m\u001b[0m\n\u001b[0;32m--> 247\u001b[0;31m         \u001b[0;32mraise\u001b[0m \u001b[0mNeo4jError\u001b[0m\u001b[0;34m.\u001b[0m\u001b[0mhydrate\u001b[0m\u001b[0;34m(\u001b[0m\u001b[0;34m**\u001b[0m\u001b[0mmetadata\u001b[0m\u001b[0;34m)\u001b[0m\u001b[0;34m\u001b[0m\u001b[0;34m\u001b[0m\u001b[0m\n\u001b[0m\u001b[1;32m    248\u001b[0m \u001b[0;34m\u001b[0m\u001b[0m\n\u001b[1;32m    249\u001b[0m     \u001b[0;32mdef\u001b[0m \u001b[0mon_ignored\u001b[0m\u001b[0;34m(\u001b[0m\u001b[0mself\u001b[0m\u001b[0;34m,\u001b[0m \u001b[0mmetadata\u001b[0m\u001b[0;34m=\u001b[0m\u001b[0;32mNone\u001b[0m\u001b[0;34m)\u001b[0m\u001b[0;34m:\u001b[0m\u001b[0;34m\u001b[0m\u001b[0;34m\u001b[0m\u001b[0m\n",
      "\u001b[0;31mCypherSyntaxError\u001b[0m: {code: Neo.ClientError.Statement.SyntaxError} {message: Unknown function 'apoc.coll.toSet' (line 7, column 30 (offset: 280))\n\"                    p.year = apoc.coll.toSet(coalesce(p.year, []) + $year),\"\n                              ^}"
     ]
    }
   ],
   "source": [
    "# Execution\n",
    "\n",
    "with GraphDatabase.driver(uri, auth=(user, password)) as driver:\n",
    "    driver.verify_connectivity()\n",
    "    with driver.session(database=\"neo4j\") as session:\n",
    "        # Create nodes & edges\n",
    "        session.execute_write(neo4j_create_people, nl_cs_23, \"Computer Science\")\n",
    "        # session.execute_write(neo4j_create_relationship, nl_cs_23, \"Computer Science\")"
   ]
  },
  {
   "attachments": {},
   "cell_type": "markdown",
   "metadata": {},
   "source": []
  },
  {
   "cell_type": "code",
   "execution_count": null,
   "metadata": {},
   "outputs": [],
   "source": [
    "session.close()\n",
    "driver.close()"
   ]
  }
 ],
 "metadata": {
  "kernelspec": {
   "display_name": "base",
   "language": "python",
   "name": "python3"
  },
  "language_info": {
   "codemirror_mode": {
    "name": "ipython",
    "version": 3
   },
   "file_extension": ".py",
   "mimetype": "text/x-python",
   "name": "python",
   "nbconvert_exporter": "python",
   "pygments_lexer": "ipython3",
   "version": "3.9.13"
  },
  "orig_nbformat": 4,
  "vscode": {
   "interpreter": {
    "hash": "78d178f77aa2234760f0004d20edde8d97d9d6aae15b3a03389e75a39bac3a7d"
   }
  }
 },
 "nbformat": 4,
 "nbformat_minor": 2
}
